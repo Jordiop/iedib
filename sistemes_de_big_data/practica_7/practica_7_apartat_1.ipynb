{
  "cells": [
    {
      "cell_type": "markdown",
      "metadata": {
        "id": "4ZPIgwrmKQOD"
      },
      "source": [
        "## Apartat 1: detecció de valors absents o no fiables"
      ]
    },
    {
      "cell_type": "code",
      "execution_count": 2,
      "metadata": {
        "colab": {
          "base_uri": "https://localhost:8080/"
        },
        "id": "urCsY2U8HR63",
        "outputId": "34ad4dd5-a4e1-44ef-9427-751e3ebf4efc"
      },
      "outputs": [
        {
          "name": "stdout",
          "output_type": "stream",
          "text": [
            "Apartat 1.1 - Mitjanes després de substituir valors no vàlids per NaN:\n",
            "SO2: 1.8540\n",
            "NO: 1.9540\n",
            "NO2: 4.6365\n",
            "Nombre de valors vàlids de SO2: 26288 de 117480 (22.38%)\n",
            "Nombre de valors vàlids de NO: 93153 de 117480 (79.29%)\n",
            "Nombre de valors vàlids de NO2: 93152 de 117480 (79.29%)\n",
            "\n",
            "Apartat 1.2 - Mitjanes després de la substitució:\n",
            "SO2: 2.5128\n",
            "NO: 2.3081\n",
            "NO2: 4.6365\n",
            "\n",
            "Comparació entre les mitjanes:\n",
            "SO2: 1.8540 -> 2.5128, Diferència: 0.6588\n",
            "NO: 1.9540 -> 2.3081, Diferència: 0.3541\n",
            "NO2: 4.6365 -> 4.6365, Diferència: -0.0000\n",
            "\n",
            "Nombre de valors no NaN de SO2 després de la substitució: 117473 de 117480 (99.99%)\n",
            "Nombre de valors no NaN de NO després de la substitució: 117480 de 117480 (100.00%)\n",
            "Nombre de valors no NaN de NO2 després de la substitució: 117480 de 117480 (100.00%)\n"
          ]
        },
        {
          "name": "stderr",
          "output_type": "stream",
          "text": [
            "<ipython-input-2-c9a8c95d49df>:50: FutureWarning: Series.fillna with 'method' is deprecated and will raise in a future version. Use obj.ffill() or obj.bfill() instead.\n",
            "  dades2['SO2_HI'] = dades2['SO2_HI'].fillna(method='ffill')\n",
            "<ipython-input-2-c9a8c95d49df>:53: FutureWarning: Series.fillna with 'method' is deprecated and will raise in a future version. Use obj.ffill() or obj.bfill() instead.\n",
            "  dades2['NO_HI'] = dades2['NO_HI'].fillna(method='bfill')\n"
          ]
        }
      ],
      "source": [
        "import pandas as pd\n",
        "import requests\n",
        "import numpy as np\n",
        "from io import StringIO\n",
        "from sklearn.preprocessing import StandardScaler\n",
        "import matplotlib.pyplot as plt\n",
        "import seaborn as sns\n",
        "\n",
        "url = \"https://raw.githubusercontent.com/tnavarrete-iedib/bigdata-24-25/refs/heads/main/mesuraments-estacio-control-qualitat-aire-illes-balears-estacio-sant-antoni-de-portmany-eivissa.csv\"\n",
        "\n",
        "# Descarregar el contingut\n",
        "response = requests.get(url)\n",
        "if response.status_code == 200:\n",
        "    contingut = StringIO(response.text)\n",
        "    dades = pd.read_csv(contingut, sep=';')\n",
        "\n",
        "    # Guardar localment\n",
        "    dades.to_csv(\"dades_qualitat_aire.csv\", sep=';', index=False)\n",
        "else:\n",
        "    print(f\"Error al descarregar el fitxer. Codi d'estat: {response.status_code}\")\n",
        "\n",
        "# Apartat 1.1\n",
        "# Substituim els valors amb flag diferent de 'V' per np.nan\n",
        "dades.loc[dades['FL_SO2'] != 'V', 'SO2_HI'] = np.nan\n",
        "dades.loc[dades['FL_NO'] != 'V', 'NO_HI'] = np.nan\n",
        "dades.loc[dades['FL_NO2'] != 'V', 'NO2_HI'] = np.nan\n",
        "\n",
        "# Convertim les columnes a tipus numèric\n",
        "dades['SO2_HI'] = pd.to_numeric(dades['SO2_HI'], errors='coerce')\n",
        "dades['NO_HI'] = pd.to_numeric(dades['NO_HI'], errors='coerce')\n",
        "dades['NO2_HI'] = pd.to_numeric(dades['NO2_HI'], errors='coerce')\n",
        "\n",
        "# Calculam les mitjanes ignorant els valors NaN\n",
        "mitjana_SO2 = dades['SO2_HI'].mean()\n",
        "mitjana_NO = dades['NO_HI'].mean()\n",
        "mitjana_NO2 = dades['NO2_HI'].mean()\n",
        "\n",
        "print(\"Apartat 1.1 - Mitjanes després de substituir valors no vàlids per NaN:\")\n",
        "print(f\"SO2: {mitjana_SO2:.4f}\")\n",
        "print(f\"NO: {mitjana_NO:.4f}\")\n",
        "print(f\"NO2: {mitjana_NO2:.4f}\")\n",
        "\n",
        "# Comprovem quants valors vàlids tenim per cada variable\n",
        "print(f\"Nombre de valors vàlids de SO2: {dades['SO2_HI'].notna().sum()} de {len(dades)} ({dades['SO2_HI'].notna().mean()*100:.2f}%)\")\n",
        "print(f\"Nombre de valors vàlids de NO: {dades['NO_HI'].notna().sum()} de {len(dades)} ({dades['NO_HI'].notna().mean()*100:.2f}%)\")\n",
        "print(f\"Nombre de valors vàlids de NO2: {dades['NO2_HI'].notna().sum()} de {len(dades)} ({dades['NO2_HI'].notna().mean()*100:.2f}%)\")\n",
        "\n",
        "# Apartat 1.2\n",
        "# Fem una còpia de les dades originals\n",
        "dades2 = dades.copy()\n",
        "\n",
        "# Per a SO2, substituim per valor predecessor (ffill)\n",
        "dades2['SO2_HI'] = dades2['SO2_HI'].fillna(method='ffill')\n",
        "\n",
        "# Per a NO, substituim per valor successor (bfill)\n",
        "dades2['NO_HI'] = dades2['NO_HI'].fillna(method='bfill')\n",
        "\n",
        "# Per a NO2, substituim per la mitjana dels valors no nuls\n",
        "dades2['NO2_HI'] = dades2['NO2_HI'].fillna(mitjana_NO2)\n",
        "\n",
        "# Calculam les noves mitjanes\n",
        "mitjana_SO2_despres = dades2['SO2_HI'].mean()\n",
        "mitjana_NO_despres = dades2['NO_HI'].mean()\n",
        "mitjana_NO2_despres = dades2['NO2_HI'].mean()\n",
        "\n",
        "print(\"\\nApartat 1.2 - Mitjanes després de la substitució:\")\n",
        "print(f\"SO2: {mitjana_SO2_despres:.4f}\")\n",
        "print(f\"NO: {mitjana_NO_despres:.4f}\")\n",
        "print(f\"NO2: {mitjana_NO2_despres:.4f}\")\n",
        "\n",
        "# Comparem amb les mitjanes anteriors\n",
        "print(\"\\nComparació entre les mitjanes:\")\n",
        "print(f\"SO2: {mitjana_SO2:.4f} -> {mitjana_SO2_despres:.4f}, Diferència: {mitjana_SO2_despres - mitjana_SO2:.4f}\")\n",
        "print(f\"NO: {mitjana_NO:.4f} -> {mitjana_NO_despres:.4f}, Diferència: {mitjana_NO_despres - mitjana_NO:.4f}\")\n",
        "print(f\"NO2: {mitjana_NO2:.4f} -> {mitjana_NO2_despres:.4f}, Diferència: {mitjana_NO2_despres - mitjana_NO2:.4f}\")\n",
        "\n",
        "# Comprovem quants valors tenim després de les substitucions\n",
        "print(f\"\\nNombre de valors no NaN de SO2 després de la substitució: {dades2['SO2_HI'].notna().sum()} de {len(dades2)} ({dades2['SO2_HI'].notna().mean()*100:.2f}%)\")\n",
        "print(f\"Nombre de valors no NaN de NO després de la substitució: {dades2['NO_HI'].notna().sum()} de {len(dades2)} ({dades2['NO_HI'].notna().mean()*100:.2f}%)\")\n",
        "print(f\"Nombre de valors no NaN de NO2 després de la substitució: {dades2['NO2_HI'].notna().sum()} de {len(dades2)} ({dades2['NO2_HI'].notna().mean()*100:.2f}%)\")"
      ]
    }
  ],
  "metadata": {
    "colab": {
      "provenance": []
    },
    "kernelspec": {
      "display_name": "Python 3",
      "name": "python3"
    },
    "language_info": {
      "name": "python"
    }
  },
  "nbformat": 4,
  "nbformat_minor": 0
}
