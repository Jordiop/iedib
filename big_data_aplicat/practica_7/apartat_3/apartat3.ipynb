{
 "cells": [
  {
   "cell_type": "code",
   "execution_count": 2,
   "id": "e7bfee1e-d3e1-4ac8-9237-986a7d0d6772",
   "metadata": {},
   "outputs": [
    {
     "name": "stderr",
     "output_type": "stream",
     "text": [
      "                                                                                "
     ]
    },
    {
     "name": "stdout",
     "output_type": "stream",
     "text": [
      "Nombre allotjaments: 1048253\n"
     ]
    },
    {
     "name": "stderr",
     "output_type": "stream",
     "text": [
      "                                                                                "
     ]
    },
    {
     "name": "stdout",
     "output_type": "stream",
     "text": [
      "Minim: 10.0 - Maxim: 23229.0\n"
     ]
    },
    {
     "name": "stderr",
     "output_type": "stream",
     "text": [
      "                                                                                "
     ]
    },
    {
     "name": "stdout",
     "output_type": "stream",
     "text": [
      "Mitjana: 436.0350125399073 - Desviacio estandart: 1188.3904253821997\n"
     ]
    },
    {
     "name": "stderr",
     "output_type": "stream",
     "text": [
      "                                                                                "
     ]
    },
    {
     "name": "stdout",
     "output_type": "stream",
     "text": [
      "Nova mitjana: 446.8178788517739 - Nova desviacio estandart: 1224.0973352938518\n"
     ]
    },
    {
     "name": "stderr",
     "output_type": "stream",
     "text": [
      "                                                                                "
     ]
    },
    {
     "name": "stdout",
     "output_type": "stream",
     "text": [
      "Grup 1: 396986\n",
      "Grup 2: 300880\n",
      "Grup 3: 145719\n",
      "Grup 4: 199829\n"
     ]
    }
   ],
   "source": [
    "from pyspark import SparkContext\n",
    "\n",
    "sc = SparkContext(\"local\", \"Apartat3\")\n",
    "rdd = sc.textFile('preus.txt')\n",
    "\n",
    "# parsear i formatejar les dades\n",
    "content = rdd.filter(lambda x: x.strip().isdigit()).map(lambda x: float(x.strip()))\n",
    "\n",
    "\n",
    "num_allotjaments = content.count()\n",
    "print(f'Nombre allotjaments: {num_allotjaments}')\n",
    "\n",
    "# preu min i max\n",
    "min_price = content.min()\n",
    "max_price = content.max()\n",
    "print(f'Minim: {min_price} - Maxim: {max_price}')\n",
    "\n",
    "# mitjana i deviacio estandar\n",
    "mitjana = content.mean()\n",
    "desviacio = content.stdev()\n",
    "print(f'Mitjana: {mitjana} - Desviacio estandart: {desviacio}')\n",
    "\n",
    "# preus actualitzats\n",
    "nou_preu = content.map(lambda x: x * 1.02 if x < 1000 else x * 1.03)\n",
    "\n",
    "# mitjana i deviacio estandar nova\n",
    "nova_mitjana = nou_preu.mean()\n",
    "nova_desviacio = nou_preu.stdev()\n",
    "print(f'Nova mitjana: {nova_mitjana} - Nova desviacio estandart: {nova_desviacio}')\n",
    "\n",
    "price_groups = {\n",
    "\t'Grup 1': nou_preu.filter(lambda x: x <= 150).count(),\n",
    "\t'Grup 2': nou_preu.filter(lambda x: 151 <= x <= 300).count(),\n",
    "\t'Grup 3': nou_preu.filter(lambda x: 301 <= x <= 500).count(),\n",
    "\t'Grup 4': nou_preu.filter(lambda x: x > 500).count()\n",
    "}\n",
    "for group, count in price_groups.items():\n",
    "\tprint(f'{group}: {count}')\n",
    "\n",
    "sc.stop()\n"
   ]
  }
 ],
 "metadata": {
  "kernelspec": {
   "display_name": "Python 3 (ipykernel)",
   "language": "python",
   "name": "python3"
  },
  "language_info": {
   "codemirror_mode": {
    "name": "ipython",
    "version": 3
   },
   "file_extension": ".py",
   "mimetype": "text/x-python",
   "name": "python",
   "nbconvert_exporter": "python",
   "pygments_lexer": "ipython3",
   "version": "3.9.2"
  }
 },
 "nbformat": 4,
 "nbformat_minor": 5
}
