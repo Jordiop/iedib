{
  "nbformat": 4,
  "nbformat_minor": 0,
  "metadata": {
    "colab": {
      "provenance": []
    },
    "kernelspec": {
      "name": "python3",
      "display_name": "Python 3"
    },
    "language_info": {
      "name": "python"
    }
  },
  "cells": [
    {
      "cell_type": "code",
      "execution_count": 5,
      "metadata": {
        "colab": {
          "base_uri": "https://localhost:8080/"
        },
        "id": "0woYbHieUqAD",
        "outputId": "6397cd3d-e42a-4bbe-fb6d-5442d1598779"
      },
      "outputs": [
        {
          "output_type": "stream",
          "name": "stdout",
          "text": [
            "Drive already mounted at /content/drive; to attempt to forcibly remount, call drive.mount(\"/content/drive\", force_remount=True).\n",
            "Nombre allotjaments: 1048253\n",
            "Minim: 10.0 - Maxim: 23229.0\n",
            "Mitjana: 436.0350125399073 - Desviacio estandart: 1188.3904253821997\n",
            "Nova mitjana: 446.8178788517739 - Nova desviacio estandart: 1224.0973352938518\n",
            "Grup 1: 396986\n",
            "Grup 2: 300880\n",
            "Grup 3: 145719\n",
            "Grup 4: 199829\n"
          ]
        }
      ],
      "source": [
        "from pyspark import SparkContext\n",
        "from google.colab import drive\n",
        "\n",
        "# drive\n",
        "drive.mount('/content/drive')\n",
        "\n",
        "sc.stop()\n",
        "sc = SparkContext(\"local\", \"Apartat3\")\n",
        "sc\n",
        "rdd = sc.textFile('file:///content/drive/MyDrive/preus.txt')\n",
        "\n",
        "# parsear i formatejar les dades\n",
        "content = rdd.filter(lambda x: x.strip().isdigit()).map(lambda x: float(x.strip()))\n",
        "\n",
        "num_allotjaments = content.count()\n",
        "print(f'Nombre allotjaments: {num_allotjaments}')\n",
        "\n",
        "# preu min i max\n",
        "min_price = content.min()\n",
        "max_price = content.max()\n",
        "print(f'Minim: {min_price} - Maxim: {max_price}')\n",
        "\n",
        "# mitjana i deviacio estandar\n",
        "mitjana = content.mean()\n",
        "desviacio = content.stdev()\n",
        "print(f'Mitjana: {mitjana} - Desviacio estandart: {desviacio}')\n",
        "\n",
        "# preus actualitzats\n",
        "nou_preu = content.map(lambda x: x * 1.02 if x < 1000 else x * 1.03)\n",
        "\n",
        "# mitjana i deviacio estandar nova\n",
        "nova_mitjana = nou_preu.mean()\n",
        "nova_desviacio = nou_preu.stdev()\n",
        "print(f'Nova mitjana: {nova_mitjana} - Nova desviacio estandart: {nova_desviacio}')\n",
        "\n",
        "price_groups = {\n",
        "\t'Grup 1': nou_preu.filter(lambda x: x <= 150).count(),\n",
        "\t'Grup 2': nou_preu.filter(lambda x: 151 <= x <= 300).count(),\n",
        "\t'Grup 3': nou_preu.filter(lambda x: 301 <= x <= 500).count(),\n",
        "\t'Grup 4': nou_preu.filter(lambda x: x > 500).count()\n",
        "}\n",
        "for group, count in price_groups.items():\n",
        "\tprint(f'{group}: {count}')\n",
        "\n",
        "sc.stop()\n"
      ]
    }
  ]
}