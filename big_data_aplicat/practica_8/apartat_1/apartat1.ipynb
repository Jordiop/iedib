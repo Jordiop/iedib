{
 "cells": [
  {
   "cell_type": "code",
   "execution_count": 0,
   "metadata": {
    "application/vnd.databricks.v1+cell": {
     "cellMetadata": {
      "byteLimit": 2048000,
      "rowLimit": 10000
     },
     "inputWidgets": {},
     "nuid": "b757c227-8477-4311-825c-43769d843b69",
     "showTitle": false,
     "tableResultSettingsMap": {},
     "title": ""
    }
   },
   "outputs": [],
   "source": [
    "df_goalscorers = spark.read.table('hive_metastore.default.goalscorers')\n",
    "df_results = spark.read.table('hive_metastore.default.results')"
   ]
  },
  {
   "cell_type": "code",
   "execution_count": 0,
   "metadata": {
    "application/vnd.databricks.v1+cell": {
     "cellMetadata": {
      "byteLimit": 2048000,
      "rowLimit": 10000
     },
     "inputWidgets": {},
     "nuid": "acd68feb-0c6a-46ac-9daa-fbb5feb743de",
     "showTitle": false,
     "tableResultSettingsMap": {},
     "title": ""
    }
   },
   "outputs": [
    {
     "output_type": "execute_result",
     "data": {
      "text/plain": [
       "Row(date=datetime.date(1872, 11, 30), home_team='Scotland', away_team='England', home_score=0, away_score=0, tournament='Friendly', city='Glasgow', country='Scotland', neutral=False)"
      ]
     },
     "execution_count": 2,
     "metadata": {},
     "output_type": "execute_result"
    }
   ],
   "source": [
    "df_goalscorers.head()\n",
    "df_results.head()"
   ]
  },
  {
   "cell_type": "code",
   "execution_count": 0,
   "metadata": {
    "application/vnd.databricks.v1+cell": {
     "cellMetadata": {
      "byteLimit": 2048000,
      "rowLimit": 10000
     },
     "inputWidgets": {},
     "nuid": "0685bbc8-4491-4ded-a63e-af887797233c",
     "showTitle": false,
     "tableResultSettingsMap": {},
     "title": ""
    }
   },
   "outputs": [
    {
     "output_type": "stream",
     "name": "stdout",
     "output_type": "stream",
     "text": [
      "+------------+--------+\n|      scorer|count(1)|\n+------------+--------+\n|Lionel Messi|      55|\n+------------+--------+\n\n"
     ]
    }
   ],
   "source": [
    "## Number of goals scored by Lionel Messi\n",
    "df_goalscorers.createOrReplaceTempView(\"goalscorers\")\n",
    "spark.sql(\"SELECT scorer, COUNT(*) FROM goalscorers WHERE scorer = 'Lionel Messi' AND own_goal = false GROUP BY scorer\").show()"
   ]
  },
  {
   "cell_type": "markdown",
   "metadata": {
    "application/vnd.databricks.v1+cell": {
     "cellMetadata": {},
     "inputWidgets": {},
     "nuid": "4ef5bf95-3002-4ddc-89aa-c4fc9bd1b656",
     "showTitle": false,
     "tableResultSettingsMap": {},
     "title": ""
    }
   },
   "source": [
    "Llistat dels 5 partits més recents que ha jugat la selecció espanyola."
   ]
  },
  {
   "cell_type": "code",
   "execution_count": 0,
   "metadata": {
    "application/vnd.databricks.v1+cell": {
     "cellMetadata": {
      "byteLimit": 2048000,
      "rowLimit": 10000
     },
     "inputWidgets": {},
     "nuid": "08e45749-b0a5-408c-81d8-70222b2a23e6",
     "showTitle": false,
     "tableResultSettingsMap": {},
     "title": ""
    }
   },
   "outputs": [
    {
     "output_type": "stream",
     "name": "stdout",
     "output_type": "stream",
     "text": [
      "+----------+-----------+-----------+----------+----------+-------------------+--------------------+-----------+-------+\n|      date|  home_team|  away_team|home_score|away_score|         tournament|                city|    country|neutral|\n+----------+-----------+-----------+----------+----------+-------------------+--------------------+-----------+-------+\n|2025-03-23|      Spain|Netherlands|         3|         3|UEFA Nations League|            Valencia|      Spain|  false|\n|2025-03-20|Netherlands|      Spain|         2|         2|UEFA Nations League|           Rotterdam|Netherlands|  false|\n|2024-11-18|      Spain|Switzerland|         3|         2|UEFA Nations League|Santa Cruz de Ten...|      Spain|  false|\n|2024-11-15|    Denmark|      Spain|         1|         2|UEFA Nations League|          Copenhagen|    Denmark|  false|\n|2024-10-15|      Spain|     Serbia|         3|         0|UEFA Nations League|             Cordoba|      Spain|  false|\n+----------+-----------+-----------+----------+----------+-------------------+--------------------+-----------+-------+\n\n"
     ]
    }
   ],
   "source": [
    "df_results.createOrReplaceTempView(\"goalscorers\")\n",
    "spark.sql(\"SELECT * FROM goalscorers WHERE home_team = 'Spain' OR away_team = 'Spain' ORDER BY date DESC LIMIT 5\").show()"
   ]
  },
  {
   "cell_type": "markdown",
   "metadata": {
    "application/vnd.databricks.v1+cell": {
     "cellMetadata": {},
     "inputWidgets": {},
     "nuid": "d1a6ea30-6b76-479d-b3e2-02a5e755675e",
     "showTitle": false,
     "tableResultSettingsMap": {},
     "title": ""
    }
   },
   "source": [
    "Nombre de gols que ha marcat Espanya en tota la seva història. Aquesta informació s'ha de treure de results, ja que goalscorers no conté tots els gols."
   ]
  },
  {
   "cell_type": "code",
   "execution_count": 0,
   "metadata": {
    "application/vnd.databricks.v1+cell": {
     "cellMetadata": {
      "byteLimit": 2048000,
      "rowLimit": 10000
     },
     "inputWidgets": {},
     "nuid": "5b8d8ec6-ec3e-4d84-8775-6741bb60d96e",
     "showTitle": false,
     "tableResultSettingsMap": {},
     "title": ""
    }
   },
   "outputs": [
    {
     "output_type": "stream",
     "name": "stdout",
     "output_type": "stream",
     "text": [
      "+-----------+\n|total_goals|\n+-----------+\n|       1567|\n+-----------+\n\n"
     ]
    }
   ],
   "source": [
    "df_results.createOrReplaceTempView(\"results\")\n",
    "spark.sql(\"SELECT SUM(CASE WHEN home_team = 'Spain' THEN home_score ELSE 0 end) + SUM(CASE WHEN away_team = 'Spain' THEN away_score ELSE 0 end) as total_goals FROM results\").show()"
   ]
  },
  {
   "cell_type": "markdown",
   "metadata": {
    "application/vnd.databricks.v1+cell": {
     "cellMetadata": {},
     "inputWidgets": {},
     "nuid": "2e2ff6a7-b1eb-48e8-8143-fe34de5e9fb7",
     "showTitle": false,
     "tableResultSettingsMap": {},
     "title": ""
    }
   },
   "source": [
    "Llistat dels 5 màxims golejadors amb la selecció espanyola (sense comptar autogols)."
   ]
  },
  {
   "cell_type": "code",
   "execution_count": 0,
   "metadata": {
    "application/vnd.databricks.v1+cell": {
     "cellMetadata": {
      "byteLimit": 2048000,
      "rowLimit": 10000
     },
     "inputWidgets": {},
     "nuid": "ecd01a4d-955a-4b8d-aaf7-6e18764e8602",
     "showTitle": false,
     "tableResultSettingsMap": {},
     "title": ""
    }
   },
   "outputs": [
    {
     "output_type": "stream",
     "name": "stdout",
     "output_type": "stream",
     "text": [
      "+---------------+-----+\n|         scorer|goals|\n+---------------+-----+\n|    David Villa|   41|\n|           Raúl|   32|\n|  Álvaro Morata|   29|\n|Fernando Torres|   28|\n|Fernando Hierro|   25|\n+---------------+-----+\n\n"
     ]
    }
   ],
   "source": [
    "df_goalscorers.createOrReplaceGlobalTempView('goalscorers')\n",
    "spark.sql(\"SELECT scorer, count(*) AS goals FROM goalscorers WHERE team = 'Spain' AND own_goal = false GROUP BY scorer ORDER BY goals DESC LIMIT 5\").show()"
   ]
  },
  {
   "cell_type": "markdown",
   "metadata": {
    "application/vnd.databricks.v1+cell": {
     "cellMetadata": {},
     "inputWidgets": {},
     "nuid": "7b743679-1e65-41cf-9803-d6f601c73e4d",
     "showTitle": false,
     "tableResultSettingsMap": {},
     "title": ""
    }
   },
   "source": [
    "Llistat dels jugadors espanyols que han marcat algun gol de penal en alguna Eurocopa (UEFA Euro), ordenats alfabèticament."
   ]
  },
  {
   "cell_type": "code",
   "execution_count": 0,
   "metadata": {
    "application/vnd.databricks.v1+cell": {
     "cellMetadata": {
      "byteLimit": 2048000,
      "rowLimit": 10000
     },
     "inputWidgets": {},
     "nuid": "88969f02-137a-416d-b1f3-0ea26f78d96a",
     "showTitle": false,
     "tableResultSettingsMap": {},
     "title": ""
    }
   },
   "outputs": [
    {
     "output_type": "stream",
     "name": "stdout",
     "output_type": "stream",
     "text": [
      "+--------------------+\n|              scorer|\n+--------------------+\n|      Andrés Iniesta|\n|         Daniel Ruiz|\n|         David Villa|\n|     Fernando Hierro|\n|Francisco José Ca...|\n|     Gaizka Mendieta|\n|      José Claramunt|\n|  Juan Antonio Señor|\n|              Míchel|\n|               Pirri|\n|        Sergio Ramos|\n|         Xabi Alonso|\n|       Álvaro Morata|\n+--------------------+\n\n"
     ]
    }
   ],
   "source": [
    "df_goalscorers.createOrReplaceTempView(\"goalscorers\")\n",
    "df_results.createOrReplaceTempView(\"results\")\n",
    "spark.sql(\"SELECT DISTINCT scorer from results r INNER JOIN goalscorers g on r.date = g.date AND r.home_team = g.home_team AND r.away_team = g.away_team WHERE g.team = 'Spain' AND g.penalty = true AND r.tournament like '%Euro%' ORDER BY scorer\").show()"
   ]
  },
  {
   "cell_type": "markdown",
   "metadata": {
    "application/vnd.databricks.v1+cell": {
     "cellMetadata": {},
     "inputWidgets": {},
     "nuid": "ad5954bd-4a03-406f-a7e0-091dd22c0f28",
     "showTitle": false,
     "tableResultSettingsMap": {},
     "title": ""
    }
   },
   "source": [
    "Llistat dels 5 màxims golejadors de les fases finals dels mundials (FIFA World Cup) (sense comptar autogols)."
   ]
  },
  {
   "cell_type": "code",
   "execution_count": 0,
   "metadata": {
    "application/vnd.databricks.v1+cell": {
     "cellMetadata": {
      "byteLimit": 2048000,
      "rowLimit": 10000
     },
     "inputWidgets": {},
     "nuid": "da7cc14b-391b-4bbf-a66a-6f4e41300879",
     "showTitle": false,
     "tableResultSettingsMap": {},
     "title": ""
    }
   },
   "outputs": [
    {
     "output_type": "stream",
     "name": "stdout",
     "output_type": "stream",
     "text": [
      "+--------------+-----+\n|        scorer|goals|\n+--------------+-----+\n|Miroslav Klose|   16|\n|       Ronaldo|   15|\n|   Gerd Müller|   14|\n|  Lionel Messi|   13|\n| Just Fontaine|   13|\n+--------------+-----+\n\n"
     ]
    }
   ],
   "source": [
    "df_goalscorers.createOrReplaceTempView('goalscorers')\n",
    "df_results.createOrReplaceTempView('reults')\n",
    "spark.sql('''\n",
    "    SELECT scorer, COUNT(*) AS goals\n",
    "    FROM results r\n",
    "    JOIN goalscorers g\n",
    "    ON r.date = g.date AND r.home_team = g.home_team AND r.away_team = g.away_team\n",
    "    WHERE r.tournament = 'FIFA World Cup' AND g.own_goal = 'FALSE'\n",
    "    GROUP BY scorer\n",
    "    ORDER BY goals DESC\n",
    "    LIMIT 5\n",
    "''').show()"
   ]
  }
 ],
 "metadata": {
  "application/vnd.databricks.v1+notebook": {
   "computePreferences": null,
   "dashboards": [],
   "environmentMetadata": {
    "base_environment": "",
    "environment_version": "2"
   },
   "inputWidgetPreferences": null,
   "language": "python",
   "notebookMetadata": {
    "pythonIndentUnit": 4
   },
   "notebookName": "apartat1",
   "widgets": {}
  },
  "language_info": {
   "name": "python"
  }
 },
 "nbformat": 4,
 "nbformat_minor": 0
}