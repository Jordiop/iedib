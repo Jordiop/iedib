{
  "cells": [
    {
      "cell_type": "markdown",
      "metadata": {
        "id": "Wx1nesh8tcOc"
      },
      "source": [
        "Aquest és l'enunciat de la primera tasca de **Programació d'Intel·ligència Artificial**.\n",
        "\n",
        "Hi ha 12 exercicis que has de respondre en la cel·la de codi que hi ha sota cada enunciat (si ho necessites, pots emprar-ne més d'una).\n",
        "\n",
        "Tots els exercicis valen el mateix: sobre un total de 12 punts, cada exercici val 1 punt."
      ]
    },
    {
      "cell_type": "markdown",
      "metadata": {
        "id": "kLaYJXVKgtyj"
      },
      "source": [
        "# Exercici 1\n",
        "\n",
        "Pregunta a l’usuari en quina posició ha acabat un atleta la prova de marató dels Jocs Olímpics. Has de dir quin premi li correspon:\n",
        "* Medalla d’or per al primer\n",
        "* Medalla de plata per al segon\n",
        "* Medalla de bronze per al tercer\n",
        "* Diploma olímpic entre el quart i vuitè\n",
        "* Cap premi a partir del novè"
      ]
    },
    {
      "cell_type": "code",
      "execution_count": 1,
      "metadata": {
        "colab": {
          "base_uri": "https://localhost:8080/",
          "height": 0
        },
        "id": "cSrNAzE2gsjV",
        "outputId": "9d221ba7-8a8a-466d-aa75-b429b6a43edb"
      },
      "outputs": [
        {
          "name": "stdout",
          "output_type": "stream",
          "text": [
            "Diploma olimpic\n"
          ]
        }
      ],
      "source": [
        "# Aquí va la teva resposta\n",
        "\n",
        "position = int(input(\"Quina posicio has obtingut a la marató?\"))\n",
        "\n",
        "if position == 1:\n",
        "  print (\"Medalla d'or\")\n",
        "if position == 2:\n",
        "  print (\"Medalla de plata\")\n",
        "if position == 3:\n",
        "  print (\"Medalla de bronze\")\n",
        "if position >= 4 and position <= 8:\n",
        "  print (\"Diploma olimpic\")\n",
        "else:\n",
        "  print (\"Cap premi\")\n"
      ]
    },
    {
      "cell_type": "markdown",
      "metadata": {
        "id": "xE45erbugvXQ"
      },
      "source": [
        "# Exercici 2\n",
        "\n",
        "A un sorteig de loteria, el premi gros ha estat el 12345. Demana a l’usuari quin és el seu número i quants euros ha jugat. Determina quina quantitat li correspon de premi:\n",
        "* Premi gros: ha encertat els 5 números. 10.000 euros per euro jugat\n",
        "* Reintegrament: ha encertat el darrer número, 1 euro per euro jugat\n",
        "* Terminació de 2 xifres: ha encertat les 2 darreres xifres, 10 euros per euro jugat\n",
        "* Terminació de 3 xifres: ha encertat les 3 darreres xifres, 100 euros per euro jugat\n",
        "* Terminació de 4 xifres: ha encertat les 4 darreres xifres, 1.000 euros per euro jugat\n",
        "* Desena de milers: ha encertat la primera xifra, 1 euro per euro jugat\n",
        "* Unitat de milers: ha encertat les 2 primeres xifres, 10 euros per euro jugat\n",
        "* Centena: ha encertat les 3 primeres xifres, 100 euros per euro jugat\n",
        "* Desena: ha encertat les 4 primeres xifres, 1.000 euros per euro jugat\n",
        "\n",
        "Els premis són acumulables.\n"
      ]
    },
    {
      "cell_type": "code",
      "execution_count": 2,
      "metadata": {
        "colab": {
          "base_uri": "https://localhost:8080/",
          "height": 0
        },
        "id": "pDEUdK4vkCc4",
        "outputId": "d1395b49-b714-49eb-d410-7eef77b44e59"
      },
      "outputs": [
        {
          "name": "stdout",
          "output_type": "stream",
          "text": [
            "El teu premi total és de 0 euros.\n"
          ]
        }
      ],
      "source": [
        "# Aquí va la teva resposta\n",
        "\n",
        "premi_gros = 12345\n",
        "premi_total = 0\n",
        "\n",
        "numero_usuari = int(input(\"Introdueix el teu numero de la loteria\"))\n",
        "euros_jugats = int(input(\"Introdueix quant hi has jugat\"))\n",
        "\n",
        "if numero_usuari == premi_gros:\n",
        "    premi_total += euros_jugats * 10000\n",
        "\n",
        "if numero_usuari % 10 == premi_gros % 10:\n",
        "    premi_total += euros_jugats * 1\n",
        "\n",
        "if numero_usuari % 100 == premi_gros % 100:\n",
        "    premi_total += euros_jugats * 10\n",
        "\n",
        "if numero_usuari % 1000 == premi_gros % 1000:\n",
        "    premi_total += euros_jugats * 100\n",
        "\n",
        "if numero_usuari % 10000 == premi_gros % 10000:\n",
        "    premi_total += euros_jugats * 1000\n",
        "\n",
        "if numero_usuari // 10000 == premi_gros // 10000:\n",
        "    premi_total += euros_jugats * 1\n",
        "\n",
        "if numero_usuari // 1000 == premi_gros // 1000:\n",
        "    premi_total += euros_jugats * 10\n",
        "\n",
        "if numero_usuari // 100 == premi_gros // 100:\n",
        "    premi_total += euros_jugats * 100\n",
        "\n",
        "if numero_usuari // 10 == premi_gros // 10:\n",
        "    premi_total += euros_jugats * 1000\n",
        "\n",
        "print(f\"El teu premi total és de {premi_total} euros.\")"
      ]
    },
    {
      "cell_type": "markdown",
      "metadata": {
        "id": "Ym6GBAp_g5rP"
      },
      "source": [
        "# Exercici 3\n",
        "\n",
        "Demana a l’usuari un nombre enter i determina si és un nombre primer (un nombre que només és divisible per 1 i per ell mateix)\n"
      ]
    },
    {
      "cell_type": "code",
      "execution_count": 3,
      "metadata": {
        "colab": {
          "base_uri": "https://localhost:8080/",
          "height": 0
        },
        "id": "vNCi0-qzhVGw",
        "outputId": "a9d1b68e-1c49-4307-9df8-0673174c98b4"
      },
      "outputs": [
        {
          "name": "stdout",
          "output_type": "stream",
          "text": [
            "4 no és un nombre primer.\n"
          ]
        }
      ],
      "source": [
        "# Aquí va la teva resposta\n",
        "\n",
        "def is_prime(n):\n",
        "  for i in range (2, int(n * 0.5) + 1):\n",
        "    if n % i == 0:\n",
        "      return False\n",
        "  return True\n",
        "\n",
        "num = int(input(\"Introdueix un nombre: \"))\n",
        "\n",
        "if is_prime(num):\n",
        "  print(f\"{num} és un nombre primer.\")\n",
        "else:\n",
        "  print(f\"{num} no és un nombre primer.\")\n"
      ]
    },
    {
      "cell_type": "markdown",
      "metadata": {
        "id": "t6kdimEyhBxH"
      },
      "source": [
        "# Exercici 4\n",
        "\n",
        "Demana a l’usuari un nombre enter entre 1 i 10 i imprimeix un triangle com aquest (per al 5):\n",
        "\n",
        "1 \\\n",
        "2 1 \\\n",
        "3 2 1 \\\n",
        "4 3 2 1 \\\n",
        "5 4 3 2 1 \\\n"
      ]
    },
    {
      "cell_type": "code",
      "execution_count": 4,
      "metadata": {
        "colab": {
          "base_uri": "https://localhost:8080/",
          "height": 0
        },
        "id": "RKDs-PAQjkj5",
        "outputId": "49ac9274-13d3-44ed-839a-04a11ca4b331"
      },
      "outputs": [
        {
          "name": "stdout",
          "output_type": "stream",
          "text": [
            "1 \n",
            "2 1 \n",
            "3 2 1 \n",
            "4 3 2 1 \n",
            "5 4 3 2 1 \n",
            "6 5 4 3 2 1 \n"
          ]
        }
      ],
      "source": [
        "# Aquí va la teva resposta\n",
        "\n",
        "num = int(input(\"Introdueix un nombre entre 1 i 10\"))\n",
        "\n",
        "for i in range (1, num + 1):\n",
        "  for j in range (i, 0, -1):\n",
        "    print (j, end=\" \")\n",
        "  print()"
      ]
    },
    {
      "cell_type": "markdown",
      "metadata": {
        "id": "KGWe7Ls_hEFf"
      },
      "source": [
        "# Exercici 5\n",
        "\n",
        "Demana a l’usuari que escrigui una frase i guarda-la en una llista de caràcters. Elimina de la llista els caràcters que ocupin posicions senars. Mostra la llista resultant emprant un iterador.\n"
      ]
    },
    {
      "cell_type": "code",
      "execution_count": 5,
      "metadata": {
        "colab": {
          "base_uri": "https://localhost:8080/",
          "height": 0
        },
        "id": "q63IzNGaigv8",
        "outputId": "bf5e8db6-c12d-4080-cfa4-9283ae3c0d25"
      },
      "outputs": [
        {
          "name": "stdout",
          "output_type": "stream",
          "text": [
            "oaqetl\n"
          ]
        }
      ],
      "source": [
        "# Aquí va la teva resposta\n",
        "\n",
        "def delete_senars(phrase):\n",
        "  list_phrase = list(phrase)\n",
        "  new_phrase = \"\"\n",
        "  for i in range(len(list_phrase)):\n",
        "    if (i % 2 != 0):\n",
        "      new_phrase = new_phrase + list_phrase[i]\n",
        "  return new_phrase;\n",
        "\n",
        "phrase = input(\"Enter a phrase: \")\n",
        "\n",
        "print(delete_senars(phrase))\n"
      ]
    },
    {
      "cell_type": "markdown",
      "metadata": {
        "id": "K8JZEID-hGxo"
      },
      "source": [
        "# Exercici 6\n",
        "\n",
        "Demana a l’usuari que escrigui una frase i guarda-la en una llista de caràcters. Compta quantes vegades hi apareix cada vocal."
      ]
    },
    {
      "cell_type": "code",
      "execution_count": 6,
      "metadata": {
        "id": "jIsepohitUP0"
      },
      "outputs": [
        {
          "name": "stdout",
          "output_type": "stream",
          "text": [
            "Vowel counts: \n",
            "a: 2\n",
            "e: 1\n",
            "i: 0\n",
            "o: 1\n",
            "u: 1\n"
          ]
        }
      ],
      "source": [
        "# Aquí va la teva resposta\n",
        "\n",
        "phrase = input(\"Enter a phrase: \")\n",
        "\n",
        "char_list = list(phrase.lower())\n",
        "\n",
        "vowel_count = {\"a\": 0, \"e\": 0, \"i\": 0, \"o\": 0, \"u\": 0}\n",
        "\n",
        "for char in char_list:\n",
        "  if char in vowel_count:\n",
        "    vowel_count[char] += 1\n",
        "\n",
        "print(\"Vowel counts: \")\n",
        "for vowel, count in vowel_count.items():\n",
        "  print(f\"{vowel}: {count}\")"
      ]
    },
    {
      "cell_type": "markdown",
      "metadata": {
        "id": "ANp2RkK_kspq"
      },
      "source": [
        "# Exercici 7\n",
        "\n",
        "Anem a fer feina amb una matriu de dues dimensions. Demana a l’usuari el nombre de files i de columnes que tindrà la matriu. A la primera posició de la matriu hi posarem el valor 2. A partir d’aquí, avançant primer per columnes i després per files, a cada cel·la hi posarem el doble de la cel·la anterior. Acaba imprimint el contingut final de la matriu. Vegem un exemple, per a una matriu de 4 files i 3 columnes:\n",
        "\n",
        "| | | |\n",
        "| --- | --- | --- |\n",
        "| 2 | 32  | 512 |\n",
        "| 4 | 64 | 1024 |\n",
        "| 8 | 128 | 2048 |\n",
        "| 16 | 256 | 4096 |"
      ]
    },
    {
      "cell_type": "code",
      "execution_count": 7,
      "metadata": {
        "id": "73z9Dmq99TK6"
      },
      "outputs": [
        {
          "name": "stdout",
          "output_type": "stream",
          "text": [
            "Matriu:\n",
            "    2    32   512  8192 \n",
            "    4    64  1024 16384 \n",
            "    8   128  2048 32768 \n",
            "   16   256  4096 65536 \n"
          ]
        }
      ],
      "source": [
        "# Aquí va la teva resposta\n",
        "\n",
        "rows = int(input(\"Rows: \"))\n",
        "columns = int(input(\"Columns: \"))\n",
        "\n",
        "matrix = [[0 for _ in range(columns)] for _ in range(rows)]\n",
        "\n",
        "valor = 2\n",
        "\n",
        "for col in range(columns):\n",
        "  for row in range(rows):\n",
        "    matrix[row][col] = valor\n",
        "    valor *= 2\n",
        "\n",
        "print(\"Matriu:\")\n",
        "for row in matrix:\n",
        "  for item in row:\n",
        "    print(f\"{item:5}\", end=\" \")\n",
        "  print()\n"
      ]
    },
    {
      "cell_type": "markdown",
      "metadata": {
        "id": "PSqvYxs0hLuC"
      },
      "source": [
        "# Exercici 8\n",
        "\n",
        "Ara ens mourem primer per files i després per columnes. Dins una fila, cada cel·la valdrà 10 + la cel·la anterior. Quan canviam de fila, a la primera posició multiplicam per 2 el valor de la cel·la superior (una fila menys dins la mateixa columna). I continuam omplint la fila igual que abans, sumant 10 a la cel·la anterior. Vegem un exemple, per a una matriu de 4 files i 3 columnes:\n",
        "\n",
        "| | | |\n",
        "| --- | --- | --- |\n",
        "| 2 | 12  | 22 |\n",
        "| 4 | 14 | 24 |\n",
        "| 8 | 18 | 28 |\n",
        "| 16 | 26 | 36 |"
      ]
    },
    {
      "cell_type": "code",
      "execution_count": 8,
      "metadata": {
        "id": "38tOi9UIYsnQ"
      },
      "outputs": [
        {
          "name": "stdout",
          "output_type": "stream",
          "text": [
            "Matrix content:\n",
            "    2    12    22 \n",
            "    4    14    24 \n",
            "    8    18    28 \n",
            "   16    26    36 \n"
          ]
        }
      ],
      "source": [
        "# Aquí va la teva resposta\n",
        "\n",
        "rows = int(input(\"Enter the number of rows: \"))\n",
        "columns = int(input(\"Enter the number of columns: \"))\n",
        "\n",
        "matrix = [[0 for _ in range(columns)] for _ in range(rows)]\n",
        "\n",
        "matrix[0][0] = 2\n",
        "\n",
        "for col in range(1, columns):\n",
        "    matrix[0][col] = matrix[0][col - 1] + 10\n",
        "\n",
        "for row in range(1, rows):\n",
        "    matrix[row][0] = matrix[row - 1][0] * 2 \n",
        "    for col in range(1, columns):\n",
        "        matrix[row][col] = matrix[row][col - 1] + 10  \n",
        "\n",
        "print(\"Matrix content:\")\n",
        "for row in matrix:\n",
        "    for item in row:\n",
        "        print(f\"{item:5}\", end=\" \")  \n",
        "    print() "
      ]
    },
    {
      "cell_type": "markdown",
      "metadata": {
        "id": "JdrxBfZ3TRha"
      },
      "source": [
        "# Exercici 9\n",
        "\n",
        "Tenim una llista amb cadenes de caràcters. Algunes d’aquestes cadenes contenen nombres enters. Per exemple:\n",
        "['abc', '12', 'x', '3', '36', 'mn', '48', 'aeiou, '95', '4']\n",
        "\n",
        "Emprant una comprensió, genera una llista que contengui els nombres enters de la llista anterior. En el nostre exemple seria:\n",
        "[12, 3, 36, 48, 95, 4]\n",
        "\n",
        "A continuació, emprant també una comprensió, genera una nova llista que contengui només els nombres parells de l’anterior. En el nostre exemple seria:\n",
        "[12, 36, 48, 4]\n",
        "\n",
        "**Nota: **el mètode *isdigit* de la classe str retorna True si la cadena conté un nombre enter\n",
        "\n",
        "\n"
      ]
    },
    {
      "cell_type": "code",
      "execution_count": 9,
      "metadata": {
        "id": "gA0IlUHbTR2x"
      },
      "outputs": [
        {
          "name": "stdout",
          "output_type": "stream",
          "text": [
            "List of integers: [12, 13, 36, 48, 95, 4]\n",
            "List of even integers: [12, 36, 48, 4]\n"
          ]
        }
      ],
      "source": [
        "# Aquí va la teva resposta\n",
        "\n",
        "string_list = ['abc', '12', 'x', '13', '36', 'mn', '48', 'aeiou', '95', '4']\n",
        "\n",
        "int_list = [int(item) for item in string_list if item.isdigit()]\n",
        "\n",
        "even_int_list = [num for num in int_list if num % 2 == 0]\n",
        "\n",
        "print(\"List of integers:\", int_list)\n",
        "print(\"List of even integers:\", even_int_list)\n"
      ]
    },
    {
      "cell_type": "markdown",
      "metadata": {
        "id": "g1rlY4TrhKMo"
      },
      "source": [
        "# Exercici 10\n",
        "\n",
        "Escriu una funció que rebi un diccionari amb el codi dels 5 mòduls del curs d’especialització (5071 a 5075) i les notes d’un alumne (amb decimals). La funció ha de retornar un diccionari amb el nom de cada mòdul i la qualificació corresponent: suspès (menys de 5), aprovat (entre 5 i 7, sense arribar a 7), notable (entre 7 i 9, sense arribar a 9) o excel·lent (entre 9 i 10). Fes una crida a la funció amb un exemple de diccionari i mostra el diccionari resultat.\n"
      ]
    },
    {
      "cell_type": "code",
      "execution_count": null,
      "metadata": {
        "id": "KqDGmXyKvKf3"
      },
      "outputs": [],
      "source": [
        "# Aquí va la teva resposta\n"
      ]
    },
    {
      "cell_type": "markdown",
      "metadata": {
        "id": "K1MkUYDXuFIY"
      },
      "source": [
        "# Exercici 11\n",
        "\n",
        "Escriu una funció que es digui *mitjana*, que rebi un diccionari com l’anterior (amb els codis dels mòduls i les notes d’un alumne) i que ens retorni la nota mitjana de tots els mòduls.\n",
        "\n",
        "A continuació, escriu una altra funció que es digui *minmax*, que rebi una llista de diccionaris com l’anterior i que ens retorni la nota mitjana màxima i la nota mijana mínima de la llista. Aquesta funció ha de cridar la funció *mitjana* per fer els càlculs.\n",
        "\n",
        "Finalment, crea una llista de diccionaris i mostra el resultat de cridar a la funció *minmax*.\n"
      ]
    },
    {
      "cell_type": "code",
      "execution_count": null,
      "metadata": {
        "id": "jBZY1qQ4YtvB"
      },
      "outputs": [],
      "source": [
        "# Aquí va la teva resposta\n"
      ]
    },
    {
      "cell_type": "markdown",
      "metadata": {
        "id": "MnU4O00gJ5l2"
      },
      "source": [
        "# Exercici 12\n",
        "\n",
        "Crea una classe *Rectangle* amb dos atributs, un amb la longitud del costat llarg i un altre amb la longitud del costat curt. Afegeix-li els mètodes següents:\n",
        "* mètodes getter i setter per als dos atributs\n",
        "* un mètode que retorni l’àrea del rectangle\n",
        "* un mètode que retorni el perímetre del rectangle\n",
        "* un mètode que retorni True si és un quadrat i False en cas contrari\n",
        "\n",
        "A continuació, fes una altra classe *Comparador*, que tengui un mètode que, passant-li per paràmetre dos rectangles, retorni True si el primer és més gran que el segon o False en cas contrari\n",
        "\n",
        "Finalment, crea dos objectes de la classe *Rectangle* i, emprant el mètode de la classe *Comparador*, digues quin dels dos és més gran."
      ]
    },
    {
      "cell_type": "code",
      "execution_count": null,
      "metadata": {
        "id": "v0qdVOXPQlGP"
      },
      "outputs": [],
      "source": [
        "# Aquí va la teva resposta\n"
      ]
    }
  ],
  "metadata": {
    "colab": {
      "provenance": []
    },
    "kernelspec": {
      "display_name": "Python 3",
      "name": "python3"
    },
    "language_info": {
      "codemirror_mode": {
        "name": "ipython",
        "version": 3
      },
      "file_extension": ".py",
      "mimetype": "text/x-python",
      "name": "python",
      "nbconvert_exporter": "python",
      "pygments_lexer": "ipython3",
      "version": "3.9.6"
    }
  },
  "nbformat": 4,
  "nbformat_minor": 0
}
