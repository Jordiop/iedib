{
  "nbformat": 4,
  "nbformat_minor": 0,
  "metadata": {
    "colab": {
      "provenance": []
    },
    "kernelspec": {
      "name": "python3",
      "display_name": "Python 3"
    },
    "language_info": {
      "name": "python"
    }
  },
  "cells": [
    {
      "cell_type": "markdown",
      "source": [
        "# Programació d'intel·ligència artificial. Tasca del Lliurament 2\n",
        "\n",
        "Aquest és l'enunciat de la tasca del segon lliurament de Programació d'Intel·ligència Artificial. Es refereix a les tres llibreries que hi hem tractat: **NumPy**, **pandas**, i **matplotlib**. Consta de tres blocs corresponents a cada una de les llibreries. Cada bloc val un terç de la nota de la tasca.\n",
        "\n",
        "Quan hàgiu acabat de realitzar la tasca, davallau el document .ipynb (menú File, opció Download) i lliurau-lo dins el Moodle de l'aula virtual.\n",
        "\n",
        "Ànims i endavant!"
      ],
      "metadata": {
        "id": "DvSS_CFFacl2"
      }
    },
    {
      "cell_type": "markdown",
      "source": [
        "##Bloc 1: NumPy\n",
        "\n",
        "Emplena el codi corresponent a cada subapartat, tenint en compte que, quan sigui possible, és millor emprar la programació vectoritzada i les funcions universals de NumPy."
      ],
      "metadata": {
        "id": "gpStVTPja5NB"
      }
    },
    {
      "cell_type": "markdown",
      "source": [
        "### 1.1. *`ndarrays`* unidimensionals (vectors)\n"
      ],
      "metadata": {
        "id": "Z07rUFLwD8W8"
      }
    },
    {
      "cell_type": "markdown",
      "source": [
        "**1.1.1.** Per començar, importa la llibreria numpy amb el seu nom habitual.\n",
        "\n",
        "Crea un ndarray unidimensional (vector), anomentat a1, de 10 posicions i omple'l amb els 10 primers nombres naturals (de l'1 al 10), però en ordre invers (del 10 a l'1)"
      ],
      "metadata": {
        "id": "nncrh1jXJZJp"
      }
    },
    {
      "cell_type": "code",
      "execution_count": 329,
      "metadata": {
        "id": "CqAhn9yyaaVF",
        "outputId": "956ca990-1322-4fea-a2f6-3a0f8cae61a2",
        "colab": {
          "base_uri": "https://localhost:8080/"
        }
      },
      "outputs": [
        {
          "output_type": "stream",
          "name": "stdout",
          "text": [
            "[10  9  8  7  6  5  4  3  2  1]\n"
          ]
        }
      ],
      "source": [
        "import numpy as np\n",
        "\n",
        "a1 = np.arange(10, 0, -1)\n",
        "print(a1)"
      ]
    },
    {
      "cell_type": "markdown",
      "source": [
        "**1.1.2.** Crea un altre vector de 10 posicions, a2, i omple'l amb els 10 primers nombres parells."
      ],
      "metadata": {
        "id": "OraK-zNNJiAi"
      }
    },
    {
      "cell_type": "code",
      "source": [
        "a2 = np.arange(2, 21, 2)\n",
        "print(a2)"
      ],
      "metadata": {
        "id": "Q-7eb8ybKNRS",
        "colab": {
          "base_uri": "https://localhost:8080/"
        },
        "outputId": "66f17b1c-a48f-406b-cf67-acb989d05470"
      },
      "execution_count": 330,
      "outputs": [
        {
          "output_type": "stream",
          "name": "stdout",
          "text": [
            "[ 2  4  6  8 10 12 14 16 18 20]\n"
          ]
        }
      ]
    },
    {
      "cell_type": "markdown",
      "source": [
        "**1.1.3.** Multiplica per 5 tots els valors del vector a1."
      ],
      "metadata": {
        "id": "rbASvDeGJiKZ"
      }
    },
    {
      "cell_type": "code",
      "source": [
        "a1 *= 5\n",
        "print (a1)"
      ],
      "metadata": {
        "id": "H66mfIoyKOUa",
        "colab": {
          "base_uri": "https://localhost:8080/"
        },
        "outputId": "4d840a05-fbcf-407a-aa86-f785d234da27"
      },
      "execution_count": 331,
      "outputs": [
        {
          "output_type": "stream",
          "name": "stdout",
          "text": [
            "[50 45 40 35 30 25 20 15 10  5]\n"
          ]
        }
      ]
    },
    {
      "cell_type": "markdown",
      "source": [
        "**1.1.4.** Obté un nou vector, a3, que sigui la suma d'a1 i a2."
      ],
      "metadata": {
        "id": "EEYYz5DRJibQ"
      }
    },
    {
      "cell_type": "code",
      "source": [
        "a3 = a2 + a1\n",
        "print(a3)"
      ],
      "metadata": {
        "id": "CWdTypsWKO7S",
        "colab": {
          "base_uri": "https://localhost:8080/"
        },
        "outputId": "6f8dbd67-c1ef-4d08-894c-af17682c1090"
      },
      "execution_count": 332,
      "outputs": [
        {
          "output_type": "stream",
          "name": "stdout",
          "text": [
            "[52 49 46 43 40 37 34 31 28 25]\n"
          ]
        }
      ]
    },
    {
      "cell_type": "markdown",
      "source": [
        "**1.1.5.** Obté un nou vector, a4, que sigui la resta d'a1 i a2."
      ],
      "metadata": {
        "id": "rareGAWfJioJ"
      }
    },
    {
      "cell_type": "code",
      "source": [
        "a4 = a1 - a2\n",
        "print(a4)"
      ],
      "metadata": {
        "id": "7tMQQe39KPjy",
        "colab": {
          "base_uri": "https://localhost:8080/"
        },
        "outputId": "97504af8-72f4-4085-c695-90b0e791d30b"
      },
      "execution_count": 333,
      "outputs": [
        {
          "output_type": "stream",
          "name": "stdout",
          "text": [
            "[ 48  41  34  27  20  13   6  -1  -8 -15]\n"
          ]
        }
      ]
    },
    {
      "cell_type": "markdown",
      "source": [
        "**1.1.6.** Canvia de signe tots els valors imparells d'a3 i a4."
      ],
      "metadata": {
        "id": "OzJnluijJiyR"
      }
    },
    {
      "cell_type": "code",
      "source": [
        "a3[a3 % 2 != 0] *= -1\n",
        "a4[a4 % 2 != 0] *= -1\n",
        "\n",
        "print(a3)\n",
        "print(a4)"
      ],
      "metadata": {
        "id": "DGddKysFKQai",
        "colab": {
          "base_uri": "https://localhost:8080/"
        },
        "outputId": "982ab593-4030-409f-e9c2-8c2e215b3cd8"
      },
      "execution_count": 334,
      "outputs": [
        {
          "output_type": "stream",
          "name": "stdout",
          "text": [
            "[ 52 -49  46 -43  40 -37  34 -31  28 -25]\n",
            "[ 48 -41  34 -27  20 -13   6   1  -8  15]\n"
          ]
        }
      ]
    },
    {
      "cell_type": "markdown",
      "source": [
        "**1.1.7.** Obté un nou vector, a5, que contengui el mínim de cada posició entre els vectors a3 i a4."
      ],
      "metadata": {
        "id": "7YUeTAHDJ6GK"
      }
    },
    {
      "cell_type": "code",
      "source": [
        "a5 = np.minimum(a3, a4)\n",
        "print(a5)"
      ],
      "metadata": {
        "id": "vmXL9lzsKRHy",
        "colab": {
          "base_uri": "https://localhost:8080/"
        },
        "outputId": "441e9c00-2a06-4820-b662-c0080eec410c"
      },
      "execution_count": 335,
      "outputs": [
        {
          "output_type": "stream",
          "name": "stdout",
          "text": [
            "[ 48 -49  34 -43  20 -37   6 -31  -8 -25]\n"
          ]
        }
      ]
    },
    {
      "cell_type": "markdown",
      "source": [
        "**1.1.8.** Fes que tots els valors d'a5 siguin positius."
      ],
      "metadata": {
        "id": "yhLeCsMjJ6RJ"
      }
    },
    {
      "cell_type": "code",
      "source": [
        "a5[a5 < 0] *= -1\n",
        "print(a5)"
      ],
      "metadata": {
        "id": "p4jHZUkjKRti",
        "colab": {
          "base_uri": "https://localhost:8080/"
        },
        "outputId": "e5d4a8a2-1195-4daa-fb67-0da301848f45"
      },
      "execution_count": 336,
      "outputs": [
        {
          "output_type": "stream",
          "name": "stdout",
          "text": [
            "[48 49 34 43 20 37  6 31  8 25]\n"
          ]
        }
      ]
    },
    {
      "cell_type": "markdown",
      "source": [
        "###1.2. *`ndarrays`* multidimensionals (matrius)\n"
      ],
      "metadata": {
        "id": "chq_IGmmL6Hb"
      }
    },
    {
      "cell_type": "markdown",
      "source": [
        "**1.2.1.** Crea un ndarray de 2 dimensions (matriu) de 10 files i 4 columnes, anomenada m1 i omple-a amb nombres aleatoris, seguint una distribució normal estàndard."
      ],
      "metadata": {
        "id": "As79s4QoKuOz"
      }
    },
    {
      "cell_type": "code",
      "source": [
        "m1 = np.random.randn(10,4)\n",
        "print(m1)"
      ],
      "metadata": {
        "id": "5E5KUDTdLU9a",
        "colab": {
          "base_uri": "https://localhost:8080/"
        },
        "outputId": "b8ed9c8e-35cd-42b2-eee0-db637b15be8a"
      },
      "execution_count": 337,
      "outputs": [
        {
          "output_type": "stream",
          "name": "stdout",
          "text": [
            "[[-0.03058228 -2.40759715 -1.41528137 -0.16906907]\n",
            " [-1.20960331  1.27574212  0.98773588  0.34006251]\n",
            " [ 0.3025127  -0.79535648 -0.38568756 -0.63423734]\n",
            " [-0.10562784 -1.7091912   0.32404575  0.54661008]\n",
            " [ 0.78369763  0.56659025  0.52235293 -1.48695036]\n",
            " [-1.19866008 -0.74141695  1.06773661 -0.73374368]\n",
            " [ 0.30702083 -0.35402492  0.23848374 -2.66895349]\n",
            " [ 0.28098205 -0.6713372  -0.64600287  0.45372856]\n",
            " [-0.30692984 -1.18753947 -1.08408835  0.20302157]\n",
            " [ 0.1887074  -0.01061297 -0.80008067 -0.98054321]]\n"
          ]
        }
      ]
    },
    {
      "cell_type": "markdown",
      "source": [
        "**1.2.2.** Obté una nova matriu, m2. Els valors de les 5 primers files seran el doble dels de les 5 primeres files de m1. Els de les 5 darreres files, el triple."
      ],
      "metadata": {
        "id": "6hRqmDoTKuYB"
      }
    },
    {
      "cell_type": "code",
      "source": [
        "m2 = np.zeros_like(m1)\n",
        "m2[:5] = m1[:5] * 2\n",
        "m2[5:] = m1[5:] * 3\n",
        "\n",
        "print(m1)\n",
        "print(m2)"
      ],
      "metadata": {
        "id": "nZfgKO21LWB5",
        "colab": {
          "base_uri": "https://localhost:8080/"
        },
        "outputId": "5a8c840b-0342-48f7-f690-8f70473baa44"
      },
      "execution_count": 338,
      "outputs": [
        {
          "output_type": "stream",
          "name": "stdout",
          "text": [
            "[[-0.03058228 -2.40759715 -1.41528137 -0.16906907]\n",
            " [-1.20960331  1.27574212  0.98773588  0.34006251]\n",
            " [ 0.3025127  -0.79535648 -0.38568756 -0.63423734]\n",
            " [-0.10562784 -1.7091912   0.32404575  0.54661008]\n",
            " [ 0.78369763  0.56659025  0.52235293 -1.48695036]\n",
            " [-1.19866008 -0.74141695  1.06773661 -0.73374368]\n",
            " [ 0.30702083 -0.35402492  0.23848374 -2.66895349]\n",
            " [ 0.28098205 -0.6713372  -0.64600287  0.45372856]\n",
            " [-0.30692984 -1.18753947 -1.08408835  0.20302157]\n",
            " [ 0.1887074  -0.01061297 -0.80008067 -0.98054321]]\n",
            "[[-0.06116456 -4.8151943  -2.83056275 -0.33813814]\n",
            " [-2.41920662  2.55148425  1.97547175  0.68012502]\n",
            " [ 0.6050254  -1.59071296 -0.77137512 -1.26847467]\n",
            " [-0.21125569 -3.41838241  0.64809151  1.09322016]\n",
            " [ 1.56739526  1.1331805   1.04470586 -2.97390072]\n",
            " [-3.59598024 -2.22425086  3.20320983 -2.20123104]\n",
            " [ 0.92106249 -1.06207476  0.71545121 -8.00686046]\n",
            " [ 0.84294614 -2.01401159 -1.93800862  1.36118567]\n",
            " [-0.92078951 -3.56261841 -3.25226504  0.60906472]\n",
            " [ 0.56612221 -0.03183892 -2.400242   -2.94162962]]\n"
          ]
        }
      ]
    },
    {
      "cell_type": "markdown",
      "source": [
        "**1.2.3.** Obté una nova matriu de booleans, mb, que contingui True si a la posició corresponent de m2 hi ha un valor major que 1 o menor que -1, i False en cas contrari."
      ],
      "metadata": {
        "id": "l2_3ocDqKuhJ"
      }
    },
    {
      "cell_type": "code",
      "source": [
        "mb = np.zeros_like(m2)\n",
        "mb = (m2 > 1) | (m2 < -1)\n",
        "print(mb)"
      ],
      "metadata": {
        "id": "jP_yQNiGLWsZ",
        "colab": {
          "base_uri": "https://localhost:8080/"
        },
        "outputId": "3ffce6f8-61a0-4674-dd16-488bc6e4124a"
      },
      "execution_count": 339,
      "outputs": [
        {
          "output_type": "stream",
          "name": "stdout",
          "text": [
            "[[False  True  True False]\n",
            " [ True  True  True False]\n",
            " [False  True False  True]\n",
            " [False  True False  True]\n",
            " [ True  True  True  True]\n",
            " [ True  True  True  True]\n",
            " [False  True False  True]\n",
            " [False  True  True  True]\n",
            " [False  True  True False]\n",
            " [False False  True  True]]\n"
          ]
        }
      ]
    },
    {
      "cell_type": "markdown",
      "source": [
        "**1.2.4.** Multiplica per 100 tots els valors de m2 i arrodoneix a l'enter més proper. Fes també que tots els valors siguin positius."
      ],
      "metadata": {
        "id": "fwg-RcC1KuqR"
      }
    },
    {
      "cell_type": "code",
      "source": [
        "m2 = np.abs(np.round(m2 * 100))\n",
        "print(m2)"
      ],
      "metadata": {
        "id": "-vw__RzWLXcC",
        "colab": {
          "base_uri": "https://localhost:8080/"
        },
        "outputId": "6222a303-b1ae-4afb-f56f-7164768df5eb"
      },
      "execution_count": 340,
      "outputs": [
        {
          "output_type": "stream",
          "name": "stdout",
          "text": [
            "[[  6. 482. 283.  34.]\n",
            " [242. 255. 198.  68.]\n",
            " [ 61. 159.  77. 127.]\n",
            " [ 21. 342.  65. 109.]\n",
            " [157. 113. 104. 297.]\n",
            " [360. 222. 320. 220.]\n",
            " [ 92. 106.  72. 801.]\n",
            " [ 84. 201. 194. 136.]\n",
            " [ 92. 356. 325.  61.]\n",
            " [ 57.   3. 240. 294.]]\n"
          ]
        }
      ]
    },
    {
      "cell_type": "markdown",
      "source": [
        "**1.2.5.** A m2 posa el valor 100 en les posicions tals que tinguem True en mb."
      ],
      "metadata": {
        "id": "LfSm6rotKuzq"
      }
    },
    {
      "cell_type": "code",
      "source": [
        "m2[mb] = 100\n",
        "print(m2)"
      ],
      "metadata": {
        "id": "tShJ3MUGLYN5",
        "colab": {
          "base_uri": "https://localhost:8080/"
        },
        "outputId": "26f80e19-a847-4237-f6e0-bb1457393e12"
      },
      "execution_count": 341,
      "outputs": [
        {
          "output_type": "stream",
          "name": "stdout",
          "text": [
            "[[  6. 100. 100.  34.]\n",
            " [100. 100. 100.  68.]\n",
            " [ 61. 100.  77. 100.]\n",
            " [ 21. 100.  65. 100.]\n",
            " [100. 100. 100. 100.]\n",
            " [100. 100. 100. 100.]\n",
            " [ 92. 100.  72. 100.]\n",
            " [ 84. 100. 100. 100.]\n",
            " [ 92. 100. 100.  61.]\n",
            " [ 57.   3. 100. 100.]]\n"
          ]
        }
      ]
    },
    {
      "cell_type": "markdown",
      "source": [
        "**1.2.6.** Obté dues noves matrius de 5 files i 2 columnes, m3 i m4. La matriu m3 ha de tenir els valors de les 5 primers files i les 2 primeres columnes de m2. La matriu m4 ha de tenir els valors de les 5 darreres files i les 2 darreres columnes de m2."
      ],
      "metadata": {
        "id": "2UuleGQ1Ku8r"
      }
    },
    {
      "cell_type": "code",
      "source": [
        "m3 = m2[:5, :2]\n",
        "m4 = m2[5:, -2:]\n",
        "print(m3)\n",
        "print(m4)"
      ],
      "metadata": {
        "id": "yFaxmFoJLZAq",
        "colab": {
          "base_uri": "https://localhost:8080/"
        },
        "outputId": "279fc2ec-0160-4cdb-8cde-e6ab44c4d4c7"
      },
      "execution_count": 342,
      "outputs": [
        {
          "output_type": "stream",
          "name": "stdout",
          "text": [
            "[[  6. 100.]\n",
            " [100. 100.]\n",
            " [ 61. 100.]\n",
            " [ 21. 100.]\n",
            " [100. 100.]]\n",
            "[[100. 100.]\n",
            " [ 72. 100.]\n",
            " [100. 100.]\n",
            " [100.  61.]\n",
            " [100. 100.]]\n"
          ]
        }
      ]
    },
    {
      "cell_type": "markdown",
      "source": [
        "**1.2.7.** Obté una nova matriu, m5, amb el màxim dels valors de m3 i m4."
      ],
      "metadata": {
        "id": "4XtV9-avKvHR"
      }
    },
    {
      "cell_type": "code",
      "source": [
        "m5 = np.maximum(m3, m4)\n",
        "print(m5)"
      ],
      "metadata": {
        "id": "I6ZjgU2KLZiS",
        "colab": {
          "base_uri": "https://localhost:8080/"
        },
        "outputId": "e893a223-2413-41d2-dad4-01e5562a76ea"
      },
      "execution_count": 343,
      "outputs": [
        {
          "output_type": "stream",
          "name": "stdout",
          "text": [
            "[[100. 100.]\n",
            " [100. 100.]\n",
            " [100. 100.]\n",
            " [100. 100.]\n",
            " [100. 100.]]\n"
          ]
        }
      ]
    },
    {
      "cell_type": "markdown",
      "source": [
        "**1.2.8.** Obté els valors màxims i mínims de la matriu m5."
      ],
      "metadata": {
        "id": "4-vStu0dKvQy"
      }
    },
    {
      "cell_type": "code",
      "source": [
        "max_m5 = m5.max()\n",
        "min_m5 = m5.min()\n",
        "print(max_m5)\n",
        "print(min_m5)"
      ],
      "metadata": {
        "id": "f2qVgQng1JwX",
        "colab": {
          "base_uri": "https://localhost:8080/"
        },
        "outputId": "7d8e4140-aede-47fa-c98d-c26a2273045a"
      },
      "execution_count": 344,
      "outputs": [
        {
          "output_type": "stream",
          "name": "stdout",
          "text": [
            "100.0\n",
            "100.0\n"
          ]
        }
      ]
    },
    {
      "cell_type": "markdown",
      "source": [
        "##Bloc 2: pandas\n",
        "\n",
        "Emplena el codi corresponent a cada subapartat, treballant amb la llibreria pandas."
      ],
      "metadata": {
        "id": "0_8SODmf0jyL"
      }
    },
    {
      "cell_type": "markdown",
      "source": [
        "**2.1.** Per començar, importa la llibreria pandas amb el seu nom habitual.\n",
        "\n",
        "A continuació, carrega en un dataframe el dataset de les pel·lícules i sèries de la plataforma Amazon Prime, publicat a Kaggle per OctopusTeam.  Pots obtenir una còpia en format CSV amb les dades actualitzades fins el 22/10/2024 a https://raw.githubusercontent.com/tnavarrete-iedib/bigdata-24-25/refs/heads/main/prime.csv\n",
        "\n",
        "Mostra el nombre de sèries i de pel·lícules del dataframe."
      ],
      "metadata": {
        "id": "9KwfAEo4pKHo"
      }
    },
    {
      "cell_type": "code",
      "source": [
        "import pandas as pd\n",
        "\n",
        "url = \"https://raw.githubusercontent.com/tnavarrete-iedib/bigdata-24-25/refs/heads/main/prime.csv\"\n",
        "df = pd.read_csv(url)\n",
        "\n",
        "num_series = df[df['type'] == 'TV Show'].shape[0]\n",
        "num_movies = df[df['type'] == 'Movie'].shape[0]\n",
        "print(\"Nombre de sèries:\", num_series)\n",
        "print(\"Nombre de pel·lícules:\", num_movies)"
      ],
      "metadata": {
        "id": "FMuZMFFTuUxL",
        "colab": {
          "base_uri": "https://localhost:8080/"
        },
        "outputId": "fe6e7c2b-b831-46f3-93f1-11ca6e5b9578"
      },
      "execution_count": 345,
      "outputs": [
        {
          "output_type": "stream",
          "name": "stdout",
          "text": [
            "Nombre de sèries: 0\n",
            "Nombre de pel·lícules: 38835\n"
          ]
        }
      ]
    },
    {
      "cell_type": "markdown",
      "source": [
        "**2.2.** Obté la mitjana i la desviació estàndard per a les columnes amb la valoració mitjana en IMDB i el nombre de vots en IMDB."
      ],
      "metadata": {
        "id": "ZHqo1-HcNjnA"
      }
    },
    {
      "cell_type": "code",
      "source": [
        "imdb_mean = df['imdbAverageRating'].mean()\n",
        "imdb_std = df['imdbAverageRating'].std()\n",
        "votes_mean = df['imdbNumVotes'].mean()\n",
        "votes_std = df['imdbNumVotes'].std()\n",
        "print(\"Mitjana valoració IMDB:\", imdb_mean)\n",
        "print(\"Desviació estàndard valoració IMDB:\", imdb_std)\n",
        "print(\"Mitjana vots IMDB:\", votes_mean)\n",
        "print(\"Desviació estàndard vots IMDB:\", votes_std)"
      ],
      "metadata": {
        "id": "uJ3K-hBHNyLF",
        "colab": {
          "base_uri": "https://localhost:8080/"
        },
        "outputId": "6f7113b3-aca7-4d0f-acb0-96544cd82a7c"
      },
      "execution_count": 346,
      "outputs": [
        {
          "output_type": "stream",
          "name": "stdout",
          "text": [
            "Mitjana valoració IMDB: 6.022308909995477\n",
            "Desviació estàndard valoració IMDB: 1.3282821546819426\n",
            "Mitjana vots IMDB: 17435.074423337857\n",
            "Desviació estàndard vots IMDB: 86702.11678260994\n"
          ]
        }
      ]
    },
    {
      "cell_type": "markdown",
      "source": [
        "**2.3.** Recupera les 10 sèries llençades el 2024 amb més vots en IMDB, ordenades de més a menys vots."
      ],
      "metadata": {
        "id": "LP0lc1Cd9U6E"
      }
    },
    {
      "cell_type": "code",
      "source": [
        "top_series_2024 = df[(df['type'] == 'TV Show') & (df['releaseYear'] == 2024)]\n",
        "top_series_2024 = top_series_2024.nlargest(10, 'imdbNumVotes')\n",
        "print(\"Top 10 sèries 2024 per vots:\", top_series_2024[['title', 'imdbNumVotes']])"
      ],
      "metadata": {
        "id": "WxxqUIQZK_Pm",
        "colab": {
          "base_uri": "https://localhost:8080/"
        },
        "outputId": "dc006907-65dc-409b-d216-91b509cbadeb"
      },
      "execution_count": 347,
      "outputs": [
        {
          "output_type": "stream",
          "name": "stdout",
          "text": [
            "Top 10 sèries 2024 per vots: Empty DataFrame\n",
            "Columns: [title, imdbNumVotes]\n",
            "Index: []\n"
          ]
        }
      ]
    },
    {
      "cell_type": "markdown",
      "source": [
        "**2.4.** Recupera les 10 pel·lícules llençades des de l'any 2000 del gènere ciència ficció (poden haver-hi d'altres gèneres també) amb millor valoració, ordenades de més a menys valoració en IMDB."
      ],
      "metadata": {
        "id": "XyGhRHyJ8Q2G"
      }
    },
    {
      "cell_type": "code",
      "source": [
        "scifi_movies = df[(df['type'] == 'Movie') & (df['releaseYear'] >= 2000) & (df['genres'].str.contains('Science Fiction', na=False))]\n",
        "top_scifi_movies = scifi_movies.nlargest(10, 'imdbAverageRating')\n",
        "print(\"Top 10 pel·lícules ciència ficció:\", top_scifi_movies[['title', 'imdbAverageRating']])"
      ],
      "metadata": {
        "id": "GBKFcWQa8uzX",
        "colab": {
          "base_uri": "https://localhost:8080/"
        },
        "outputId": "41473c63-39d2-45a4-b035-211bcf99cd97"
      },
      "execution_count": 348,
      "outputs": [
        {
          "output_type": "stream",
          "name": "stdout",
          "text": [
            "Top 10 pel·lícules ciència ficció:                                                    title  imdbAverageRating\n",
            "20347                                            Persona                5.5\n",
            "12261           Close Encounters: Proof of Alien Contact                NaN\n",
            "31821                                      Electric City                NaN\n",
            "32276  Kamen Rider × Super Sentai: Ultra Super Hero Wars                NaN\n",
            "35720                                          Intransit                NaN\n"
          ]
        }
      ]
    },
    {
      "cell_type": "markdown",
      "source": [
        "**2.5.** Calcula el nombre de pel·lícules que s'han llançat cada any des del 2000."
      ],
      "metadata": {
        "id": "3xtyorwrpG3R"
      }
    },
    {
      "cell_type": "code",
      "source": [
        "movies_per_year = df[(df['type'] == 'Movie') & (df['releaseYear'] >= 2000)].groupby('releaseYear').size()\n",
        "print(\"Pel·lícules per any:\", movies_per_year)"
      ],
      "metadata": {
        "id": "6ULPeJ2_uVyZ",
        "colab": {
          "base_uri": "https://localhost:8080/"
        },
        "outputId": "f180e3e3-3b4c-463e-8578-e5b397375d98"
      },
      "execution_count": 349,
      "outputs": [
        {
          "output_type": "stream",
          "name": "stdout",
          "text": [
            "Pel·lícules per any: releaseYear\n",
            "2000.0     524\n",
            "2001.0     516\n",
            "2002.0     582\n",
            "2003.0     558\n",
            "2004.0     637\n",
            "2005.0     759\n",
            "2006.0     808\n",
            "2007.0     922\n",
            "2008.0     955\n",
            "2009.0    1082\n",
            "2010.0    1146\n",
            "2011.0    1313\n",
            "2012.0    1544\n",
            "2013.0    1931\n",
            "2014.0    2073\n",
            "2015.0    2252\n",
            "2016.0    2425\n",
            "2017.0    2643\n",
            "2018.0    2358\n",
            "2019.0     655\n",
            "2020.0     229\n",
            "2021.0     119\n",
            "2022.0     124\n",
            "2023.0     141\n",
            "2024.0     105\n",
            "dtype: int64\n"
          ]
        }
      ]
    },
    {
      "cell_type": "markdown",
      "source": [
        "**2.6.** Volem agrupar les pel·lícules per any de llançament, des de l'any 2000. Has d'obtenir dos objectse Series, on en els índexs tendrem l'any i en els valors:\n",
        "* en un objecte Series, el nombre total de vots en IMDB\n",
        "* en l'altre objecte Series, la valoració mitjana en IMDB"
      ],
      "metadata": {
        "id": "OtGiG6dK44K4"
      }
    },
    {
      "cell_type": "code",
      "source": [
        "votes_per_year = df[df['releaseYear'] >= 2000].groupby('releaseYear')['imdbNumVotes'].sum()\n",
        "rating_per_year = df[df['releaseYear'] >= 2000].groupby('releaseYear')['imdbAverageRating'].mean()"
      ],
      "metadata": {
        "id": "C4pXowb8uWvR"
      },
      "execution_count": 350,
      "outputs": []
    },
    {
      "cell_type": "markdown",
      "source": [
        "**2.7.** A partir d'aquests dos objectes Series de l'apartat anterior, crea un nou objecte DataFrame amb 3 columnes:\n",
        "* Any\n",
        "* Vots en IMDB\n",
        "* Valoració mitjana en IMDB"
      ],
      "metadata": {
        "id": "R9EXmG5FOLNe"
      }
    },
    {
      "cell_type": "code",
      "source": [
        "df_yearly = pd.DataFrame({\n",
        "    'Any': votes_per_year.index,\n",
        "    'Vots en IMDB': votes_per_year.values,\n",
        "    'Valoració mitjana en IMDB': rating_per_year.values\n",
        "})\n",
        "print(\"DataFrame anual:\", df_yearly)"
      ],
      "metadata": {
        "id": "8uDFFE45OuBd",
        "colab": {
          "base_uri": "https://localhost:8080/"
        },
        "outputId": "8f2bc101-2aa1-40c6-c033-bdc2cdf3c67f"
      },
      "execution_count": 355,
      "outputs": [
        {
          "output_type": "stream",
          "name": "stdout",
          "text": [
            "DataFrame anual:        Any  Vots en IMDB  Valoració mitjana en IMDB\n",
            "0   2000.0    16840313.0                   5.785689\n",
            "1   2001.0    18290366.0                   5.928471\n",
            "2   2002.0    19591223.0                   5.955016\n",
            "3   2003.0    19792821.0                   6.014710\n",
            "4   2004.0    24426449.0                   6.050481\n",
            "5   2005.0    25308840.0                   5.924794\n",
            "6   2006.0    23657107.0                   5.917314\n",
            "7   2007.0    26858350.0                   5.920960\n",
            "8   2008.0    30575078.0                   5.899627\n",
            "9   2009.0    28464716.0                   5.957023\n",
            "10  2010.0    30715178.0                   5.994272\n",
            "11  2011.0    34827368.0                   5.930301\n",
            "12  2012.0    33659207.0                   5.991109\n",
            "13  2013.0    39225898.0                   5.940227\n",
            "14  2014.0    38279903.0                   5.979218\n",
            "15  2015.0    29147778.0                   5.961359\n",
            "16  2016.0    31761066.0                   5.930053\n",
            "17  2017.0    26897271.0                   5.922658\n",
            "18  2018.0    23286036.0                   5.933587\n",
            "19  2019.0    23295668.0                   6.175540\n",
            "20  2020.0     6124384.0                   6.375719\n",
            "21  2021.0     8164951.0                   6.726761\n",
            "22  2022.0     9367427.0                   6.643852\n",
            "23  2023.0     5668376.0                   6.667557\n",
            "24  2024.0     2133553.0                   6.497033\n",
            "25  2025.0           0.0                        NaN\n"
          ]
        }
      ]
    },
    {
      "cell_type": "markdown",
      "source": [
        "**2.8.** Guarda el nou objecte DataFrame en un fitxer CSV al directori 'prime' de la teva unitat de Google Drive.\n",
        "\n",
        "---\n",
        "\n"
      ],
      "metadata": {
        "id": "flCXcjVnOh6n"
      }
    },
    {
      "cell_type": "code",
      "source": [
        "df_yearly.to_csv('/yearly_imdb_data.csv', index=False)"
      ],
      "metadata": {
        "id": "mQio9WLiOg49"
      },
      "execution_count": 357,
      "outputs": []
    },
    {
      "cell_type": "markdown",
      "source": [
        "##Bloc 3: Matplotlib\n",
        "\n",
        "A partir del DataFrame de les sèries i pel·lícules d'Amazon Prime del bloc anterior, representa amb Matplotlib una figura amb quatre subplots, organitzats en dues files i dues columnes, d'aquesta manera:\n",
        "* Superior esquerra: histograma per al nombre de vots en IMDB\n",
        "* Superior dreta: histograma per a la valoració mitjana en IMDB\n",
        "* Inferior esquerra: nigul de punts on es relacionen el nombre de vots en IMDB amb la valoració mitjana en IMDB.\n",
        "* Inferior dreta: diagrama de punts i línies que mostri la variació per anys de la valoració mitjana en IMDB de les pel·lícules llançades des del 2000 (dataframe de l'apartat 2.7).\n",
        "\n",
        "Cada subplot ha de mostrar el títol corresponent i els eixos han d'incloure marques i una etiqueta descriptiva. A més, el gràfic de cada subplot ha d'utilitzar un color diferent.\n",
        "\n",
        "Tots els elements han de quedar disposats de manera que es pugui veure tot de manera correcta.\n",
        "\n",
        "Finalment, fes que es descarregui una imatge de la teva figura."
      ],
      "metadata": {
        "id": "W1RrLTsx8RPZ"
      }
    },
    {
      "cell_type": "code",
      "source": [
        "import matplotlib.pyplot as plt\n",
        "\n",
        "# 3.1. Figura amb subplots per visualitzar dades\n",
        "plt.figure(figsize=(10, 8))\n",
        "\n",
        "# Histograma per al nombre de vots en IMDB\n",
        "plt.subplot(2, 2, 1)\n",
        "plt.hist(df['imdbNumVotes'].dropna(), color='skyblue', edgecolor='black')\n",
        "plt.title('Histograma de vots en IMDB')\n",
        "plt.xlabel('Nombre de vots')\n",
        "plt.ylabel('Freqüència')\n",
        "\n",
        "# Histograma per a la valoració mitjana en IMDB\n",
        "plt.subplot(2, 2, 2)\n",
        "plt.hist(df['imdbAverageRating'].dropna(), color='salmon', edgecolor='black')\n",
        "plt.title('Histograma de valoració mitjana en IMDB')\n",
        "plt.xlabel('Valoració mitjana')\n",
        "plt.ylabel('Freqüència')\n",
        "\n",
        "# Nigul de punts de vots vs valoració mitjana\n",
        "plt.subplot(2, 2, 3)\n",
        "plt.scatter(df['imdbNumVotes'], df['imdbAverageRating'], color='purple', alpha=0.5)\n",
        "plt.title('Nombre de vots vs valoració mitjana')\n",
        "plt.xlabel('Nombre de vots')\n",
        "plt.ylabel('Valoració mitjana')\n",
        "\n",
        "# Diagrama per anys de valoració mitjana en IMDB\n",
        "plt.subplot(2, 2, 4)\n",
        "plt.plot(df_yearly['Any'], df_yearly['Valoració mitjana en IMDB'], marker='o', linestyle='-', color='green')\n",
        "plt.title('Valoració mitjana en IMDB per any')\n",
        "plt.xlabel('Any')\n",
        "plt.ylabel('Valoració mitjana')\n",
        "\n",
        "plt.tight_layout()\n",
        "plt.savefig('/figura_imdb_data.png')\n",
        "plt.show()"
      ],
      "metadata": {
        "id": "n4pk5262QCD3",
        "colab": {
          "base_uri": "https://localhost:8080/",
          "height": 807
        },
        "outputId": "c37c70df-f248-4994-edbe-c3e750091f08"
      },
      "execution_count": 358,
      "outputs": [
        {
          "output_type": "display_data",
          "data": {
            "text/plain": [
              "<Figure size 1000x800 with 4 Axes>"
            ],
            "image/png": "[encoded data removed]"
          },
          "metadata": {}
        }
      ]
    }
  ]
}