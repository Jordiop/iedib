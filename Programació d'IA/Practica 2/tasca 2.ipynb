{
 "cells": [
  {
   "cell_type": "markdown",
   "metadata": {
    "id": "DvSS_CFFacl2"
   },
   "source": [
    "# Programació d'intel·ligència artificial. Tasca del Lliurament 2\n",
    "\n",
    "Aquest és l'enunciat de la tasca del segon lliurament de Programació d'Intel·ligència Artificial. Es refereix a les tres llibreries que hi hem tractat: **NumPy**, **pandas**, i **matplotlib**. Consta de tres blocs corresponents a cada una de les llibreries. Cada bloc val un terç de la nota de la tasca.\n",
    "\n",
    "Quan hàgiu acabat de realitzar la tasca, davallau el document .ipynb (menú File, opció Download) i lliurau-lo dins el Moodle de l'aula virtual.\n",
    "\n",
    "Ànims i endavant!"
   ]
  },
  {
   "cell_type": "markdown",
   "metadata": {
    "id": "gpStVTPja5NB"
   },
   "source": [
    "##Bloc 1: NumPy\n",
    "\n",
    "Emplena el codi corresponent a cada subapartat, tenint en compte que, quan sigui possible, és millor emprar la programació vectoritzada i les funcions universals de NumPy."
   ]
  },
  {
   "cell_type": "markdown",
   "metadata": {
    "id": "Z07rUFLwD8W8"
   },
   "source": [
    "### 1.1. *`ndarrays`* unidimensionals (vectors)\n"
   ]
  },
  {
   "cell_type": "markdown",
   "metadata": {
    "id": "nncrh1jXJZJp"
   },
   "source": [
    "**1.1.1.** Per començar, importa la llibreria numpy amb el seu nom habitual.\n",
    "\n",
    "Crea un ndarray unidimensional (vector), anomentat a1, de 10 posicions i omple'l amb els 10 primers nombres naturals (de l'1 al 10), però en ordre invers (del 10 a l'1)"
   ]
  },
  {
   "cell_type": "code",
   "execution_count": 51,
   "metadata": {
    "colab": {
     "base_uri": "https://localhost:8080/"
    },
    "id": "CqAhn9yyaaVF",
    "outputId": "ced709f4-af68-4c27-80cf-2a32853385f5"
   },
   "outputs": [
    {
     "name": "stdout",
     "output_type": "stream",
     "text": [
      "[10  9  8  7  6  5  4  3  2  1]\n"
     ]
    }
   ],
   "source": [
    "import numpy as np\n",
    "\n",
    "a1 = np.arange(10, 0, -1)\n",
    "print(a1)"
   ]
  },
  {
   "cell_type": "markdown",
   "metadata": {
    "id": "OraK-zNNJiAi"
   },
   "source": [
    "**1.1.2.** Crea un altre vector de 10 posicions, a2, i omple'l amb els 10 primers nombres parells."
   ]
  },
  {
   "cell_type": "code",
   "execution_count": 52,
   "metadata": {
    "colab": {
     "base_uri": "https://localhost:8080/"
    },
    "id": "Q-7eb8ybKNRS",
    "outputId": "44c15c26-764a-4d58-ba8a-fd600bc76cee"
   },
   "outputs": [
    {
     "name": "stdout",
     "output_type": "stream",
     "text": [
      "[ 2  4  6  8 10 12 14 16 18 20]\n"
     ]
    }
   ],
   "source": [
    "a2 = np.arange(2, 21, 2)\n",
    "print(a2)"
   ]
  },
  {
   "cell_type": "markdown",
   "metadata": {
    "id": "rbASvDeGJiKZ"
   },
   "source": [
    "**1.1.3.** Multiplica per 5 tots els valors del vector a1."
   ]
  },
  {
   "cell_type": "code",
   "execution_count": 53,
   "metadata": {
    "colab": {
     "base_uri": "https://localhost:8080/"
    },
    "id": "H66mfIoyKOUa",
    "outputId": "501549e1-69f9-40b2-c42a-45c346ff0870"
   },
   "outputs": [
    {
     "name": "stdout",
     "output_type": "stream",
     "text": [
      "[50 45 40 35 30 25 20 15 10  5]\n"
     ]
    }
   ],
   "source": [
    "a1 *= 5\n",
    "print (a1)"
   ]
  },
  {
   "cell_type": "markdown",
   "metadata": {
    "id": "EEYYz5DRJibQ"
   },
   "source": [
    "**1.1.4.** Obté un nou vector, a3, que sigui la suma d'a1 i a2."
   ]
  },
  {
   "cell_type": "code",
   "execution_count": 54,
   "metadata": {
    "colab": {
     "base_uri": "https://localhost:8080/"
    },
    "id": "CWdTypsWKO7S",
    "outputId": "5cc13fce-048e-4cc0-d0f8-0b7bd07c61f2"
   },
   "outputs": [
    {
     "name": "stdout",
     "output_type": "stream",
     "text": [
      "[52 49 46 43 40 37 34 31 28 25]\n"
     ]
    }
   ],
   "source": [
    "a3 = a2 + a1\n",
    "print(a3)"
   ]
  },
  {
   "cell_type": "markdown",
   "metadata": {
    "id": "rareGAWfJioJ"
   },
   "source": [
    "**1.1.5.** Obté un nou vector, a4, que sigui la resta d'a1 i a2."
   ]
  },
  {
   "cell_type": "code",
   "execution_count": 55,
   "metadata": {
    "colab": {
     "base_uri": "https://localhost:8080/"
    },
    "id": "7tMQQe39KPjy",
    "outputId": "b4698bc1-b821-4a3c-c4f1-4c60b5329a88"
   },
   "outputs": [
    {
     "name": "stdout",
     "output_type": "stream",
     "text": [
      "[ 48  41  34  27  20  13   6  -1  -8 -15]\n"
     ]
    }
   ],
   "source": [
    "a4 = a1 - a2\n",
    "print(a4)"
   ]
  },
  {
   "cell_type": "markdown",
   "metadata": {
    "id": "OzJnluijJiyR"
   },
   "source": [
    "**1.1.6.** Canvia de signe tots els valors imparells d'a3 i a4."
   ]
  },
  {
   "cell_type": "code",
   "execution_count": 56,
   "metadata": {
    "colab": {
     "base_uri": "https://localhost:8080/"
    },
    "id": "DGddKysFKQai",
    "outputId": "de812c77-0360-4bf8-fd6d-24f37194d6b7"
   },
   "outputs": [
    {
     "name": "stdout",
     "output_type": "stream",
     "text": [
      "[ 52 -49  46 -43  40 -37  34 -31  28 -25]\n",
      "[ 48 -41  34 -27  20 -13   6   1  -8  15]\n"
     ]
    }
   ],
   "source": [
    "a3[a3 % 2 != 0] *= -1\n",
    "a4[a4 % 2 != 0] *= -1\n",
    "\n",
    "print(a3)\n",
    "print(a4)"
   ]
  },
  {
   "cell_type": "markdown",
   "metadata": {
    "id": "7YUeTAHDJ6GK"
   },
   "source": [
    "**1.1.7.** Obté un nou vector, a5, que contengui el mínim de cada posició entre els vectors a3 i a4."
   ]
  },
  {
   "cell_type": "code",
   "execution_count": 57,
   "metadata": {
    "colab": {
     "base_uri": "https://localhost:8080/"
    },
    "id": "vmXL9lzsKRHy",
    "outputId": "30100ab0-b679-4a38-c8c7-2cd2dc41e689"
   },
   "outputs": [
    {
     "name": "stdout",
     "output_type": "stream",
     "text": [
      "[ 48 -49  34 -43  20 -37   6 -31  -8 -25]\n"
     ]
    }
   ],
   "source": [
    "a5 = np.minimum(a3, a4)\n",
    "print(a5)"
   ]
  },
  {
   "cell_type": "markdown",
   "metadata": {
    "id": "yhLeCsMjJ6RJ"
   },
   "source": [
    "**1.1.8.** Fes que tots els valors d'a5 siguin positius."
   ]
  },
  {
   "cell_type": "code",
   "execution_count": 58,
   "metadata": {
    "colab": {
     "base_uri": "https://localhost:8080/"
    },
    "id": "p4jHZUkjKRti",
    "outputId": "fd41f203-70da-427c-ef53-3a1b0b1667f5"
   },
   "outputs": [
    {
     "name": "stdout",
     "output_type": "stream",
     "text": [
      "[48 49 34 43 20 37  6 31  8 25]\n"
     ]
    }
   ],
   "source": [
    "a5[a5 < 0] *= -1\n",
    "print(a5)"
   ]
  },
  {
   "cell_type": "markdown",
   "metadata": {
    "id": "chq_IGmmL6Hb"
   },
   "source": [
    "###1.2. *`ndarrays`* multidimensionals (matrius)\n"
   ]
  },
  {
   "cell_type": "markdown",
   "metadata": {
    "id": "As79s4QoKuOz"
   },
   "source": [
    "**1.2.1.** Crea un ndarray de 2 dimensions (matriu) de 10 files i 4 columnes, anomenada m1 i omple-a amb nombres aleatoris, seguint una distribució normal estàndard."
   ]
  },
  {
   "cell_type": "code",
   "execution_count": 59,
   "metadata": {
    "colab": {
     "base_uri": "https://localhost:8080/"
    },
    "id": "5E5KUDTdLU9a",
    "outputId": "be38c44a-31dd-4374-da11-7f2e7bb3100a"
   },
   "outputs": [
    {
     "name": "stdout",
     "output_type": "stream",
     "text": [
      "[[-0.11622378 -0.49783839 -1.51187229 -0.31905378]\n",
      " [ 1.93723107 -0.82211324  0.1965853   0.04465649]\n",
      " [ 1.10426443  0.59574245  1.02993012  1.39645366]\n",
      " [-1.62730606 -0.2185364  -0.77592086  0.19744619]\n",
      " [ 1.46984444 -0.5714131   1.81129911 -0.16724599]\n",
      " [ 0.82251619 -0.21730279  0.90754093 -0.67075871]\n",
      " [-1.40370794 -3.02115744  0.25972044  0.66490568]\n",
      " [ 2.00828564 -0.9008886  -2.34840692  1.18914018]\n",
      " [-0.96073057 -0.05025847 -0.18455139  1.82482345]\n",
      " [ 1.08950431 -0.74600189 -0.54851985  1.98976719]]\n"
     ]
    }
   ],
   "source": [
    "m1 = np.random.randn(10,4)\n",
    "print(m1)"
   ]
  },
  {
   "cell_type": "markdown",
   "metadata": {
    "id": "6hRqmDoTKuYB"
   },
   "source": [
    "**1.2.2.** Obté una nova matriu, m2. Els valors de les 5 primers files seran el doble dels de les 5 primeres files de m1. Els de les 5 darreres files, el triple."
   ]
  },
  {
   "cell_type": "code",
   "execution_count": 60,
   "metadata": {
    "colab": {
     "base_uri": "https://localhost:8080/"
    },
    "id": "nZfgKO21LWB5",
    "outputId": "9bb50095-5e34-4b46-9d50-b7ca2e39d648"
   },
   "outputs": [
    {
     "name": "stdout",
     "output_type": "stream",
     "text": [
      "[[-0.11622378 -0.49783839 -1.51187229 -0.31905378]\n",
      " [ 1.93723107 -0.82211324  0.1965853   0.04465649]\n",
      " [ 1.10426443  0.59574245  1.02993012  1.39645366]\n",
      " [-1.62730606 -0.2185364  -0.77592086  0.19744619]\n",
      " [ 1.46984444 -0.5714131   1.81129911 -0.16724599]\n",
      " [ 0.82251619 -0.21730279  0.90754093 -0.67075871]\n",
      " [-1.40370794 -3.02115744  0.25972044  0.66490568]\n",
      " [ 2.00828564 -0.9008886  -2.34840692  1.18914018]\n",
      " [-0.96073057 -0.05025847 -0.18455139  1.82482345]\n",
      " [ 1.08950431 -0.74600189 -0.54851985  1.98976719]]\n",
      "[[-0.23244756 -0.99567679 -3.02374458 -0.63810755]\n",
      " [ 3.87446215 -1.64422648  0.39317059  0.08931297]\n",
      " [ 2.20852886  1.19148489  2.05986024  2.79290732]\n",
      " [-3.25461212 -0.43707279 -1.55184173  0.39489237]\n",
      " [ 2.93968888 -1.1428262   3.62259822 -0.33449197]\n",
      " [ 2.46754856 -0.65190836  2.72262279 -2.01227613]\n",
      " [-4.21112381 -9.06347233  0.77916133  1.99471703]\n",
      " [ 6.02485692 -2.7026658  -7.04522076  3.56742054]\n",
      " [-2.88219172 -0.15077541 -0.55365418  5.47447034]\n",
      " [ 3.26851293 -2.23800568 -1.64555956  5.96930157]]\n"
     ]
    }
   ],
   "source": [
    "m2 = np.zeros_like(m1)\n",
    "m2[:5] = m1[:5] * 2\n",
    "m2[5:] = m1[5:] * 3\n",
    "\n",
    "print(m1)\n",
    "print(m2)"
   ]
  },
  {
   "cell_type": "markdown",
   "metadata": {
    "id": "l2_3ocDqKuhJ"
   },
   "source": [
    "**1.2.3.** Obté una nova matriu de booleans, mb, que contingui True si a la posició corresponent de m2 hi ha un valor major que 1 o menor que -1, i False en cas contrari."
   ]
  },
  {
   "cell_type": "code",
   "execution_count": 61,
   "metadata": {
    "colab": {
     "base_uri": "https://localhost:8080/"
    },
    "id": "jP_yQNiGLWsZ",
    "outputId": "f9a12872-9c78-474b-e34c-a83940b2a8b9"
   },
   "outputs": [
    {
     "name": "stdout",
     "output_type": "stream",
     "text": [
      "[[False False  True False]\n",
      " [ True  True False False]\n",
      " [ True  True  True  True]\n",
      " [ True False  True False]\n",
      " [ True  True  True False]\n",
      " [ True False  True  True]\n",
      " [ True  True False  True]\n",
      " [ True  True  True  True]\n",
      " [ True False False  True]\n",
      " [ True  True  True  True]]\n"
     ]
    }
   ],
   "source": [
    "mb = np.zeros_like(m2)\n",
    "mb = (m2 > 1) | (m2 < -1)\n",
    "print(mb)"
   ]
  },
  {
   "cell_type": "markdown",
   "metadata": {
    "id": "fwg-RcC1KuqR"
   },
   "source": [
    "**1.2.4.** Multiplica per 100 tots els valors de m2 i arrodoneix a l'enter més proper. Fes també que tots els valors siguin positius."
   ]
  },
  {
   "cell_type": "code",
   "execution_count": 62,
   "metadata": {
    "colab": {
     "base_uri": "https://localhost:8080/"
    },
    "id": "-vw__RzWLXcC",
    "outputId": "f1207dde-fc73-4b7b-e06c-d3a76b46a55c"
   },
   "outputs": [
    {
     "name": "stdout",
     "output_type": "stream",
     "text": [
      "[[ 23. 100. 302.  64.]\n",
      " [387. 164.  39.   9.]\n",
      " [221. 119. 206. 279.]\n",
      " [325.  44. 155.  39.]\n",
      " [294. 114. 362.  33.]\n",
      " [247.  65. 272. 201.]\n",
      " [421. 906.  78. 199.]\n",
      " [602. 270. 705. 357.]\n",
      " [288.  15.  55. 547.]\n",
      " [327. 224. 165. 597.]]\n"
     ]
    }
   ],
   "source": [
    "m2 = np.abs(np.round(m2 * 100))\n",
    "print(m2)"
   ]
  },
  {
   "cell_type": "markdown",
   "metadata": {
    "id": "LfSm6rotKuzq"
   },
   "source": [
    "**1.2.5.** A m2 posa el valor 100 en les posicions tals que tinguem True en mb."
   ]
  },
  {
   "cell_type": "code",
   "execution_count": 63,
   "metadata": {
    "colab": {
     "base_uri": "https://localhost:8080/"
    },
    "id": "tShJ3MUGLYN5",
    "outputId": "54eda2a0-245b-47ea-abcd-a876e466262c"
   },
   "outputs": [
    {
     "name": "stdout",
     "output_type": "stream",
     "text": [
      "[[ 23. 100. 100.  64.]\n",
      " [100. 100.  39.   9.]\n",
      " [100. 100. 100. 100.]\n",
      " [100.  44. 100.  39.]\n",
      " [100. 100. 100.  33.]\n",
      " [100.  65. 100. 100.]\n",
      " [100. 100.  78. 100.]\n",
      " [100. 100. 100. 100.]\n",
      " [100.  15.  55. 100.]\n",
      " [100. 100. 100. 100.]]\n"
     ]
    }
   ],
   "source": [
    "m2[mb] = 100\n",
    "print(m2)"
   ]
  },
  {
   "cell_type": "markdown",
   "metadata": {
    "id": "2UuleGQ1Ku8r"
   },
   "source": [
    "**1.2.6.** Obté dues noves matrius de 5 files i 2 columnes, m3 i m4. La matriu m3 ha de tenir els valors de les 5 primers files i les 2 primeres columnes de m2. La matriu m4 ha de tenir els valors de les 5 darreres files i les 2 darreres columnes de m2."
   ]
  },
  {
   "cell_type": "code",
   "execution_count": 64,
   "metadata": {
    "colab": {
     "base_uri": "https://localhost:8080/"
    },
    "id": "yFaxmFoJLZAq",
    "outputId": "3294e0d0-0edc-4134-9804-0271f2f16260"
   },
   "outputs": [
    {
     "name": "stdout",
     "output_type": "stream",
     "text": [
      "[[ 23. 100.]\n",
      " [100. 100.]\n",
      " [100. 100.]\n",
      " [100.  44.]\n",
      " [100. 100.]]\n",
      "[[100. 100.]\n",
      " [ 78. 100.]\n",
      " [100. 100.]\n",
      " [ 55. 100.]\n",
      " [100. 100.]]\n"
     ]
    }
   ],
   "source": [
    "m3 = m2[:5, :2]\n",
    "m4 = m2[5:, -2:]\n",
    "print(m3)\n",
    "print(m4)"
   ]
  },
  {
   "cell_type": "markdown",
   "metadata": {
    "id": "4XtV9-avKvHR"
   },
   "source": [
    "**1.2.7.** Obté una nova matriu, m5, amb el màxim dels valors de m3 i m4."
   ]
  },
  {
   "cell_type": "code",
   "execution_count": 65,
   "metadata": {
    "colab": {
     "base_uri": "https://localhost:8080/"
    },
    "id": "I6ZjgU2KLZiS",
    "outputId": "6290626a-cc7c-490d-c52f-c913fd8844d1"
   },
   "outputs": [
    {
     "name": "stdout",
     "output_type": "stream",
     "text": [
      "[[100. 100.]\n",
      " [100. 100.]\n",
      " [100. 100.]\n",
      " [100. 100.]\n",
      " [100. 100.]]\n"
     ]
    }
   ],
   "source": [
    "m5 = np.maximum(m3, m4)\n",
    "print(m5)"
   ]
  },
  {
   "cell_type": "markdown",
   "metadata": {
    "id": "4-vStu0dKvQy"
   },
   "source": [
    "**1.2.8.** Obté els valors màxims i mínims de la matriu m5."
   ]
  },
  {
   "cell_type": "code",
   "execution_count": 66,
   "metadata": {
    "colab": {
     "base_uri": "https://localhost:8080/"
    },
    "id": "f2qVgQng1JwX",
    "outputId": "d0eacb15-d30a-431d-a9f1-5e5b517285c5"
   },
   "outputs": [
    {
     "name": "stdout",
     "output_type": "stream",
     "text": [
      "100.0\n",
      "100.0\n"
     ]
    }
   ],
   "source": [
    "max_m5 = m5.max()\n",
    "min_m5 = m5.min()\n",
    "print(max_m5)\n",
    "print(min_m5)"
   ]
  },
  {
   "cell_type": "markdown",
   "metadata": {
    "id": "0_8SODmf0jyL"
   },
   "source": [
    "##Bloc 2: pandas\n",
    "\n",
    "Emplena el codi corresponent a cada subapartat, treballant amb la llibreria pandas."
   ]
  },
  {
   "cell_type": "markdown",
   "metadata": {
    "id": "9KwfAEo4pKHo"
   },
   "source": [
    "**2.1.** Per començar, importa la llibreria pandas amb el seu nom habitual.\n",
    "\n",
    "A continuació, carrega en un dataframe el dataset de les pel·lícules i sèries de la plataforma Amazon Prime, publicat a Kaggle per OctopusTeam.  Pots obtenir una còpia en format CSV amb les dades actualitzades fins el 22/10/2024 a https://raw.githubusercontent.com/tnavarrete-iedib/bigdata-24-25/refs/heads/main/prime.csv\n",
    "\n",
    "Mostra el nombre de sèries i de pel·lícules del dataframe."
   ]
  },
  {
   "cell_type": "code",
   "execution_count": 67,
   "metadata": {
    "colab": {
     "base_uri": "https://localhost:8080/"
    },
    "id": "FMuZMFFTuUxL",
    "outputId": "b46ae223-9d6f-490c-ef35-2aa95b14d36a"
   },
   "outputs": [
    {
     "name": "stdout",
     "output_type": "stream",
     "text": [
      "Nombre de sèries: 8332\n",
      "Nombre de pel·lícules: 38835\n"
     ]
    }
   ],
   "source": [
    "import pandas as pd\n",
    "\n",
    "url = \"https://raw.githubusercontent.com/tnavarrete-iedib/bigdata-24-25/refs/heads/main/prime.csv\"\n",
    "df = pd.read_csv(url)\n",
    "\n",
    "num_series = df[df['type'] == 'TV Series'].shape[0]\n",
    "num_movies = df[df['type'] == 'Movie'].shape[0]\n",
    "print(\"Nombre de sèries:\", num_series)\n",
    "print(\"Nombre de pel·lícules:\", num_movies)"
   ]
  },
  {
   "cell_type": "markdown",
   "metadata": {
    "id": "ZHqo1-HcNjnA"
   },
   "source": [
    "**2.2.** Obté la mitjana i la desviació estàndard per a les columnes amb la valoració mitjana en IMDB i el nombre de vots en IMDB."
   ]
  },
  {
   "cell_type": "code",
   "execution_count": 68,
   "metadata": {
    "colab": {
     "base_uri": "https://localhost:8080/"
    },
    "id": "uJ3K-hBHNyLF",
    "outputId": "8ba23dc8-cca9-4701-ed78-aa393869ce18"
   },
   "outputs": [
    {
     "name": "stdout",
     "output_type": "stream",
     "text": [
      "Mitjana valoració IMDB: 6.022308909995477\n",
      "Desviació estàndard valoració IMDB: 1.3282821546818362\n",
      "Mitjana vots IMDB: 17435.074423337857\n",
      "Desviació estàndard vots IMDB: 86702.11678261038\n"
     ]
    }
   ],
   "source": [
    "imdb_mean = df['imdbAverageRating'].mean()\n",
    "imdb_std = df['imdbAverageRating'].std()\n",
    "votes_mean = df['imdbNumVotes'].mean()\n",
    "votes_std = df['imdbNumVotes'].std()\n",
    "print(\"Mitjana valoració IMDB:\", imdb_mean)\n",
    "print(\"Desviació estàndard valoració IMDB:\", imdb_std)\n",
    "print(\"Mitjana vots IMDB:\", votes_mean)\n",
    "print(\"Desviació estàndard vots IMDB:\", votes_std)"
   ]
  },
  {
   "cell_type": "markdown",
   "metadata": {
    "id": "LP0lc1Cd9U6E"
   },
   "source": [
    "**2.3.** Recupera les 10 sèries llençades el 2024 amb més vots en IMDB, ordenades de més a menys vots."
   ]
  },
  {
   "cell_type": "code",
   "execution_count": 69,
   "metadata": {
    "colab": {
     "base_uri": "https://localhost:8080/"
    },
    "id": "WxxqUIQZK_Pm",
    "outputId": "39c75227-8f53-40e3-855c-c611809a80d3"
   },
   "outputs": [
    {
     "name": "stdout",
     "output_type": "stream",
     "text": [
      "                                                     url  \\\n",
      "44152  https://www.amazon.com/gp/video/detail/B0CN4HV16N   \n",
      "45619                                                NaN   \n",
      "44569  https://www.amazon.com/gp/video/detail/B0CLRQGR5G   \n",
      "45819                                                NaN   \n",
      "44880                                                NaN   \n",
      "46194                                                NaN   \n",
      "45692                                                NaN   \n",
      "46977                                                NaN   \n",
      "44808                                                NaN   \n",
      "45849                                                NaN   \n",
      "\n",
      "                                     title       type  \\\n",
      "44152                              Fallout  TV Series   \n",
      "45619                  Indian Police Force  TV Series   \n",
      "44569                     Mr. & Mrs. Smith  TV Series   \n",
      "45819  The Walking Dead: The Ones Who Live  TV Series   \n",
      "44880                        Solo Leveling  TV Series   \n",
      "46194                   Those About to Die  TV Series   \n",
      "45692                         My Lady Jane  TV Series   \n",
      "46977    Maxton Hall: The World Between Us  TV Series   \n",
      "44808               Batman: Caped Crusader  TV Series   \n",
      "45849                          Kaiju No. 8  TV Series   \n",
      "\n",
      "                             genres  releaseYear      imdbId  \\\n",
      "44152      Action, Adventure, Drama       2024.0  tt12637874   \n",
      "45619          Action, Crime, Drama       2024.0  tt19768024   \n",
      "44569         Action, Comedy, Crime       2024.0  tt14044212   \n",
      "45819       Drama, Horror, Thriller       2024.0   tt9859436   \n",
      "44880  Action, Adventure, Animation       2024.0  tt21209876   \n",
      "46194                 Action, Drama       2024.0  tt10569934   \n",
      "45692        Comedy, Drama, Fantasy       2024.0  tt11379456   \n",
      "46977                Drama, Romance       2024.0  tt27792190   \n",
      "44808  Action, Adventure, Animation       2024.0  tt14681596   \n",
      "45849  Action, Adventure, Animation       2024.0  tt21975436   \n",
      "\n",
      "       imdbAverageRating  imdbNumVotes  \\\n",
      "44152                8.4      264143.0   \n",
      "45619                5.1       58325.0   \n",
      "44569                7.0       45824.0   \n",
      "45819                7.9       34709.0   \n",
      "44880                8.3       30870.0   \n",
      "46194                6.6       17482.0   \n",
      "45692                7.4       16954.0   \n",
      "46977                7.5       14199.0   \n",
      "44808                7.3       12819.0   \n",
      "45849                8.3       11964.0   \n",
      "\n",
      "                                      availableCountries  \n",
      "44152  AD, AE, AG, AL, AR, AT, AU, BA, BB, BE, BG, BH...  \n",
      "45619  AD, AE, AG, AL, AR, AT, AU, BA, BB, BE, BG, BH...  \n",
      "44569  AD, AE, AG, AL, AR, AT, AU, BA, BB, BE, BG, BH...  \n",
      "45819  AG, AR, BB, BM, BO, BR, BS, CL, CO, CR, DO, EC...  \n",
      "44880                                                 JP  \n",
      "46194  AD, AT, AU, BE, CA, CH, CI, DE, ES, FR, GB, GF...  \n",
      "45692  AD, AE, AG, AL, AR, AT, AU, BA, BB, BE, BG, BH...  \n",
      "46977  AD, AE, AG, AL, AR, AT, AU, BA, BB, BE, BG, BH...  \n",
      "44808  AD, AE, AG, AL, AR, AT, AU, BA, BB, BE, BG, BH...  \n",
      "45849                                                 JP  \n"
     ]
    }
   ],
   "source": [
    "top_series_2024 = df[(df['releaseYear'] == 2024) & (df['type'] == 'TV Series')].nlargest(10, 'imdbNumVotes')\n",
    "print(top_series_2024)"
   ]
  },
  {
   "cell_type": "markdown",
   "metadata": {
    "id": "XyGhRHyJ8Q2G"
   },
   "source": [
    "**2.4.** Recupera les 10 pel·lícules llençades des de l'any 2000 del gènere ciència ficció (poden haver-hi d'altres gèneres també) amb millor valoració, ordenades de més a menys valoració en IMDB."
   ]
  },
  {
   "cell_type": "code",
   "execution_count": 70,
   "metadata": {
    "colab": {
     "base_uri": "https://localhost:8080/"
    },
    "id": "GBKFcWQa8uzX",
    "outputId": "12e145e1-12cf-4f11-ed04-9f89020a662b"
   },
   "outputs": [
    {
     "name": "stdout",
     "output_type": "stream",
     "text": [
      "Top 10 pel·lícules ciència ficció: Empty DataFrame\n",
      "Columns: [title, imdbAverageRating]\n",
      "Index: []\n"
     ]
    }
   ],
   "source": [
    "scifi_movies = df[(df['type'] == 'Movie') & (df['releaseYear'] >= 2000) & (df['genres'].str.contains('Science Fiction', na=False)) & (df['genres'].str.contains('Sci-fi', na=False))]\n",
    "top_scifi_movies = scifi_movies.nlargest(10, 'imdbAverageRating')\n",
    "print(\"Top 10 pel·lícules ciència ficció:\", top_scifi_movies[['title', 'imdbAverageRating']])"
   ]
  },
  {
   "cell_type": "markdown",
   "metadata": {
    "id": "3xtyorwrpG3R"
   },
   "source": [
    "**2.5.** Calcula el nombre de pel·lícules que s'han llançat cada any des del 2000."
   ]
  },
  {
   "cell_type": "code",
   "execution_count": 71,
   "metadata": {
    "colab": {
     "base_uri": "https://localhost:8080/"
    },
    "id": "6ULPeJ2_uVyZ",
    "outputId": "6d34318d-49c9-47d2-e56e-067089f35dc8"
   },
   "outputs": [
    {
     "name": "stdout",
     "output_type": "stream",
     "text": [
      "Pel·lícules per any: releaseYear\n",
      "2000.0     524\n",
      "2001.0     516\n",
      "2002.0     582\n",
      "2003.0     558\n",
      "2004.0     637\n",
      "2005.0     759\n",
      "2006.0     808\n",
      "2007.0     922\n",
      "2008.0     955\n",
      "2009.0    1082\n",
      "2010.0    1146\n",
      "2011.0    1313\n",
      "2012.0    1544\n",
      "2013.0    1931\n",
      "2014.0    2073\n",
      "2015.0    2252\n",
      "2016.0    2425\n",
      "2017.0    2643\n",
      "2018.0    2358\n",
      "2019.0     655\n",
      "2020.0     229\n",
      "2021.0     119\n",
      "2022.0     124\n",
      "2023.0     141\n",
      "2024.0     105\n",
      "dtype: int64\n"
     ]
    }
   ],
   "source": [
    "movies_per_year = df[(df['type'] == 'Movie') & (df['releaseYear'] >= 2000)].groupby('releaseYear').size()\n",
    "print(\"Pel·lícules per any:\", movies_per_year)"
   ]
  },
  {
   "cell_type": "markdown",
   "metadata": {
    "id": "OtGiG6dK44K4"
   },
   "source": [
    "**2.6.** Volem agrupar les pel·lícules per any de llançament, des de l'any 2000. Has d'obtenir dos objectse Series, on en els índexs tendrem l'any i en els valors:\n",
    "* en un objecte Series, el nombre total de vots en IMDB\n",
    "* en l'altre objecte Series, la valoració mitjana en IMDB"
   ]
  },
  {
   "cell_type": "code",
   "execution_count": 72,
   "metadata": {
    "id": "C4pXowb8uWvR"
   },
   "outputs": [
    {
     "name": "stdout",
     "output_type": "stream",
     "text": [
      "Vots per any: releaseYear\n",
      "2000.0    16401181.0\n",
      "2001.0    17750029.0\n",
      "2002.0    18704791.0\n",
      "2003.0    18507717.0\n",
      "2004.0    22143258.0\n",
      "2005.0    20599881.0\n",
      "2006.0    21669495.0\n",
      "2007.0    24450134.0\n",
      "2008.0    29075591.0\n",
      "2009.0    25880648.0\n",
      "2010.0    27109881.0\n",
      "2011.0    28939339.0\n",
      "2012.0    31933605.0\n",
      "2013.0    34682419.0\n",
      "2014.0    35413300.0\n",
      "2015.0    26866731.0\n",
      "2016.0    28199097.0\n",
      "2017.0    24693376.0\n",
      "2018.0    21507364.0\n",
      "2019.0    19517747.0\n",
      "2020.0     4513403.0\n",
      "2021.0     5978655.0\n",
      "2022.0     7124137.0\n",
      "2023.0     4672335.0\n",
      "2024.0     1471987.0\n",
      "Name: imdbNumVotes, dtype: float64\n",
      "Mitjana valoració per any: releaseYear\n",
      "2000.0    5.646019\n",
      "2001.0    5.801575\n",
      "2002.0    5.813485\n",
      "2003.0    5.810556\n",
      "2004.0    5.865909\n",
      "2005.0    5.747874\n",
      "2006.0    5.756978\n",
      "2007.0    5.732648\n",
      "2008.0    5.714068\n",
      "2009.0    5.796257\n",
      "2010.0    5.790670\n",
      "2011.0    5.737143\n",
      "2012.0    5.801961\n",
      "2013.0    5.762973\n",
      "2014.0    5.824785\n",
      "2015.0    5.772575\n",
      "2016.0    5.761247\n",
      "2017.0    5.762633\n",
      "2018.0    5.754522\n",
      "2019.0    5.676308\n",
      "2020.0    5.419111\n",
      "2021.0    5.832203\n",
      "2022.0    5.883607\n",
      "2023.0    5.975556\n",
      "2024.0    5.723171\n",
      "Name: imdbAverageRating, dtype: float64\n"
     ]
    }
   ],
   "source": [
    "votes_per_year = df[(df['releaseYear'] >= 2000) & (df['type'] == 'Movie')].groupby('releaseYear')['imdbNumVotes'].sum()\n",
    "rating_per_year = df[(df['releaseYear'] >= 2000) & (df['type'] == 'Movie')].groupby('releaseYear')['imdbAverageRating'].mean()\n",
    "print(\"Vots per any:\", votes_per_year)\n",
    "print(\"Mitjana valoració per any:\", rating_per_year)"
   ]
  },
  {
   "cell_type": "markdown",
   "metadata": {
    "id": "R9EXmG5FOLNe"
   },
   "source": [
    "**2.7.** A partir d'aquests dos objectes Series de l'apartat anterior, crea un nou objecte DataFrame amb 3 columnes:\n",
    "* Any\n",
    "* Vots en IMDB\n",
    "* Valoració mitjana en IMDB"
   ]
  },
  {
   "cell_type": "code",
   "execution_count": 73,
   "metadata": {
    "colab": {
     "base_uri": "https://localhost:8080/"
    },
    "id": "8uDFFE45OuBd",
    "outputId": "6c08f254-8b30-439f-9047-cd50a93aa45a"
   },
   "outputs": [
    {
     "name": "stdout",
     "output_type": "stream",
     "text": [
      "DataFrame anual:        Any  Vots en IMDB  Valoració mitjana en IMDB\n",
      "0   2000.0    16401181.0                   5.646019\n",
      "1   2001.0    17750029.0                   5.801575\n",
      "2   2002.0    18704791.0                   5.813485\n",
      "3   2003.0    18507717.0                   5.810556\n",
      "4   2004.0    22143258.0                   5.865909\n",
      "5   2005.0    20599881.0                   5.747874\n",
      "6   2006.0    21669495.0                   5.756978\n",
      "7   2007.0    24450134.0                   5.732648\n",
      "8   2008.0    29075591.0                   5.714068\n",
      "9   2009.0    25880648.0                   5.796257\n",
      "10  2010.0    27109881.0                   5.790670\n",
      "11  2011.0    28939339.0                   5.737143\n",
      "12  2012.0    31933605.0                   5.801961\n",
      "13  2013.0    34682419.0                   5.762973\n",
      "14  2014.0    35413300.0                   5.824785\n",
      "15  2015.0    26866731.0                   5.772575\n",
      "16  2016.0    28199097.0                   5.761247\n",
      "17  2017.0    24693376.0                   5.762633\n",
      "18  2018.0    21507364.0                   5.754522\n",
      "19  2019.0    19517747.0                   5.676308\n",
      "20  2020.0     4513403.0                   5.419111\n",
      "21  2021.0     5978655.0                   5.832203\n",
      "22  2022.0     7124137.0                   5.883607\n",
      "23  2023.0     4672335.0                   5.975556\n",
      "24  2024.0     1471987.0                   5.723171\n"
     ]
    }
   ],
   "source": [
    "df_yearly = pd.DataFrame({\n",
    "    'Any': votes_per_year.index,\n",
    "    'Vots en IMDB': votes_per_year.values,\n",
    "    'Valoració mitjana en IMDB': rating_per_year.values\n",
    "})\n",
    "print(\"DataFrame anual:\", df_yearly)"
   ]
  },
  {
   "cell_type": "markdown",
   "metadata": {
    "id": "flCXcjVnOh6n"
   },
   "source": [
    "**2.8.** Guarda el nou objecte DataFrame en un fitxer CSV al directori 'prime' de la teva unitat de Google Drive.\n",
    "\n",
    "---\n",
    "\n"
   ]
  },
  {
   "cell_type": "code",
   "execution_count": null,
   "metadata": {
    "id": "mQio9WLiOg49"
   },
   "outputs": [],
   "source": [
    "df_yearly.to_csv('/yearly_imdb_data.csv', index=False)"
   ]
  },
  {
   "cell_type": "markdown",
   "metadata": {
    "id": "W1RrLTsx8RPZ"
   },
   "source": [
    "##Bloc 3: Matplotlib\n",
    "\n",
    "A partir del DataFrame de les sèries i pel·lícules d'Amazon Prime del bloc anterior, representa amb Matplotlib una figura amb quatre subplots, organitzats en dues files i dues columnes, d'aquesta manera:\n",
    "* Superior esquerra: histograma per al nombre de vots en IMDB\n",
    "* Superior dreta: histograma per a la valoració mitjana en IMDB\n",
    "* Inferior esquerra: nigul de punts on es relacionen el nombre de vots en IMDB amb la valoració mitjana en IMDB.\n",
    "* Inferior dreta: diagrama de punts i línies que mostri la variació per anys de la valoració mitjana en IMDB de les pel·lícules llançades des del 2000 (dataframe de l'apartat 2.7).\n",
    "\n",
    "Cada subplot ha de mostrar el títol corresponent i els eixos han d'incloure marques i una etiqueta descriptiva. A més, el gràfic de cada subplot ha d'utilitzar un color diferent.\n",
    "\n",
    "Tots els elements han de quedar disposats de manera que es pugui veure tot de manera correcta.\n",
    "\n",
    "Finalment, fes que es descarregui una imatge de la teva figura."
   ]
  },
  {
   "cell_type": "code",
   "execution_count": 75,
   "metadata": {
    "colab": {
     "base_uri": "https://localhost:8080/",
     "height": 807
    },
    "id": "n4pk5262QCD3",
    "outputId": "24c0faf5-51ca-4e4a-bb11-41415dcacf6b"
   },
   "outputs": [
    {
     "ename": "PermissionError",
     "evalue": "[Errno 13] Permission denied: 'C:\\\\figura_imdb_data.png'",
     "output_type": "error",
     "traceback": [
      "\u001b[1;31m---------------------------------------------------------------------------\u001b[0m",
      "\u001b[1;31mPermissionError\u001b[0m                           Traceback (most recent call last)",
      "Cell \u001b[1;32mIn[75], line 35\u001b[0m\n\u001b[0;32m     32\u001b[0m plt\u001b[38;5;241m.\u001b[39mylabel(\u001b[38;5;124m'\u001b[39m\u001b[38;5;124mValoració mitjana\u001b[39m\u001b[38;5;124m'\u001b[39m)\n\u001b[0;32m     34\u001b[0m plt\u001b[38;5;241m.\u001b[39mtight_layout()\n\u001b[1;32m---> 35\u001b[0m \u001b[43mplt\u001b[49m\u001b[38;5;241;43m.\u001b[39;49m\u001b[43msavefig\u001b[49m\u001b[43m(\u001b[49m\u001b[38;5;124;43m'\u001b[39;49m\u001b[38;5;124;43m/figura_imdb_data.png\u001b[39;49m\u001b[38;5;124;43m'\u001b[39;49m\u001b[43m)\u001b[49m\n\u001b[0;32m     36\u001b[0m plt\u001b[38;5;241m.\u001b[39mshow()\n",
      "File \u001b[1;32m~\\AppData\\Local\\Packages\\PythonSoftwareFoundation.Python.3.11_qbz5n2kfra8p0\\LocalCache\\local-packages\\Python311\\site-packages\\matplotlib\\pyplot.py:1228\u001b[0m, in \u001b[0;36msavefig\u001b[1;34m(*args, **kwargs)\u001b[0m\n\u001b[0;32m   1225\u001b[0m fig \u001b[38;5;241m=\u001b[39m gcf()\n\u001b[0;32m   1226\u001b[0m \u001b[38;5;66;03m# savefig default implementation has no return, so mypy is unhappy\u001b[39;00m\n\u001b[0;32m   1227\u001b[0m \u001b[38;5;66;03m# presumably this is here because subclasses can return?\u001b[39;00m\n\u001b[1;32m-> 1228\u001b[0m res \u001b[38;5;241m=\u001b[39m \u001b[43mfig\u001b[49m\u001b[38;5;241;43m.\u001b[39;49m\u001b[43msavefig\u001b[49m\u001b[43m(\u001b[49m\u001b[38;5;241;43m*\u001b[39;49m\u001b[43margs\u001b[49m\u001b[43m,\u001b[49m\u001b[43m \u001b[49m\u001b[38;5;241;43m*\u001b[39;49m\u001b[38;5;241;43m*\u001b[39;49m\u001b[43mkwargs\u001b[49m\u001b[43m)\u001b[49m  \u001b[38;5;66;03m# type: ignore[func-returns-value]\u001b[39;00m\n\u001b[0;32m   1229\u001b[0m fig\u001b[38;5;241m.\u001b[39mcanvas\u001b[38;5;241m.\u001b[39mdraw_idle()  \u001b[38;5;66;03m# Need this if 'transparent=True', to reset colors.\u001b[39;00m\n\u001b[0;32m   1230\u001b[0m \u001b[38;5;28;01mreturn\u001b[39;00m res\n",
      "File \u001b[1;32m~\\AppData\\Local\\Packages\\PythonSoftwareFoundation.Python.3.11_qbz5n2kfra8p0\\LocalCache\\local-packages\\Python311\\site-packages\\matplotlib\\figure.py:3395\u001b[0m, in \u001b[0;36mFigure.savefig\u001b[1;34m(self, fname, transparent, **kwargs)\u001b[0m\n\u001b[0;32m   3393\u001b[0m     \u001b[38;5;28;01mfor\u001b[39;00m ax \u001b[38;5;129;01min\u001b[39;00m \u001b[38;5;28mself\u001b[39m\u001b[38;5;241m.\u001b[39maxes:\n\u001b[0;32m   3394\u001b[0m         _recursively_make_axes_transparent(stack, ax)\n\u001b[1;32m-> 3395\u001b[0m \u001b[38;5;28;43mself\u001b[39;49m\u001b[38;5;241;43m.\u001b[39;49m\u001b[43mcanvas\u001b[49m\u001b[38;5;241;43m.\u001b[39;49m\u001b[43mprint_figure\u001b[49m\u001b[43m(\u001b[49m\u001b[43mfname\u001b[49m\u001b[43m,\u001b[49m\u001b[43m \u001b[49m\u001b[38;5;241;43m*\u001b[39;49m\u001b[38;5;241;43m*\u001b[39;49m\u001b[43mkwargs\u001b[49m\u001b[43m)\u001b[49m\n",
      "File \u001b[1;32m~\\AppData\\Local\\Packages\\PythonSoftwareFoundation.Python.3.11_qbz5n2kfra8p0\\LocalCache\\local-packages\\Python311\\site-packages\\matplotlib\\backend_bases.py:2204\u001b[0m, in \u001b[0;36mFigureCanvasBase.print_figure\u001b[1;34m(self, filename, dpi, facecolor, edgecolor, orientation, format, bbox_inches, pad_inches, bbox_extra_artists, backend, **kwargs)\u001b[0m\n\u001b[0;32m   2200\u001b[0m \u001b[38;5;28;01mtry\u001b[39;00m:\n\u001b[0;32m   2201\u001b[0m     \u001b[38;5;66;03m# _get_renderer may change the figure dpi (as vector formats\u001b[39;00m\n\u001b[0;32m   2202\u001b[0m     \u001b[38;5;66;03m# force the figure dpi to 72), so we need to set it again here.\u001b[39;00m\n\u001b[0;32m   2203\u001b[0m     \u001b[38;5;28;01mwith\u001b[39;00m cbook\u001b[38;5;241m.\u001b[39m_setattr_cm(\u001b[38;5;28mself\u001b[39m\u001b[38;5;241m.\u001b[39mfigure, dpi\u001b[38;5;241m=\u001b[39mdpi):\n\u001b[1;32m-> 2204\u001b[0m         result \u001b[38;5;241m=\u001b[39m \u001b[43mprint_method\u001b[49m\u001b[43m(\u001b[49m\n\u001b[0;32m   2205\u001b[0m \u001b[43m            \u001b[49m\u001b[43mfilename\u001b[49m\u001b[43m,\u001b[49m\n\u001b[0;32m   2206\u001b[0m \u001b[43m            \u001b[49m\u001b[43mfacecolor\u001b[49m\u001b[38;5;241;43m=\u001b[39;49m\u001b[43mfacecolor\u001b[49m\u001b[43m,\u001b[49m\n\u001b[0;32m   2207\u001b[0m \u001b[43m            \u001b[49m\u001b[43medgecolor\u001b[49m\u001b[38;5;241;43m=\u001b[39;49m\u001b[43medgecolor\u001b[49m\u001b[43m,\u001b[49m\n\u001b[0;32m   2208\u001b[0m \u001b[43m            \u001b[49m\u001b[43morientation\u001b[49m\u001b[38;5;241;43m=\u001b[39;49m\u001b[43morientation\u001b[49m\u001b[43m,\u001b[49m\n\u001b[0;32m   2209\u001b[0m \u001b[43m            \u001b[49m\u001b[43mbbox_inches_restore\u001b[49m\u001b[38;5;241;43m=\u001b[39;49m\u001b[43m_bbox_inches_restore\u001b[49m\u001b[43m,\u001b[49m\n\u001b[0;32m   2210\u001b[0m \u001b[43m            \u001b[49m\u001b[38;5;241;43m*\u001b[39;49m\u001b[38;5;241;43m*\u001b[39;49m\u001b[43mkwargs\u001b[49m\u001b[43m)\u001b[49m\n\u001b[0;32m   2211\u001b[0m \u001b[38;5;28;01mfinally\u001b[39;00m:\n\u001b[0;32m   2212\u001b[0m     \u001b[38;5;28;01mif\u001b[39;00m bbox_inches \u001b[38;5;129;01mand\u001b[39;00m restore_bbox:\n",
      "File \u001b[1;32m~\\AppData\\Local\\Packages\\PythonSoftwareFoundation.Python.3.11_qbz5n2kfra8p0\\LocalCache\\local-packages\\Python311\\site-packages\\matplotlib\\backend_bases.py:2054\u001b[0m, in \u001b[0;36mFigureCanvasBase._switch_canvas_and_return_print_method.<locals>.<lambda>\u001b[1;34m(*args, **kwargs)\u001b[0m\n\u001b[0;32m   2050\u001b[0m     optional_kws \u001b[38;5;241m=\u001b[39m {  \u001b[38;5;66;03m# Passed by print_figure for other renderers.\u001b[39;00m\n\u001b[0;32m   2051\u001b[0m         \u001b[38;5;124m\"\u001b[39m\u001b[38;5;124mdpi\u001b[39m\u001b[38;5;124m\"\u001b[39m, \u001b[38;5;124m\"\u001b[39m\u001b[38;5;124mfacecolor\u001b[39m\u001b[38;5;124m\"\u001b[39m, \u001b[38;5;124m\"\u001b[39m\u001b[38;5;124medgecolor\u001b[39m\u001b[38;5;124m\"\u001b[39m, \u001b[38;5;124m\"\u001b[39m\u001b[38;5;124morientation\u001b[39m\u001b[38;5;124m\"\u001b[39m,\n\u001b[0;32m   2052\u001b[0m         \u001b[38;5;124m\"\u001b[39m\u001b[38;5;124mbbox_inches_restore\u001b[39m\u001b[38;5;124m\"\u001b[39m}\n\u001b[0;32m   2053\u001b[0m     skip \u001b[38;5;241m=\u001b[39m optional_kws \u001b[38;5;241m-\u001b[39m {\u001b[38;5;241m*\u001b[39minspect\u001b[38;5;241m.\u001b[39msignature(meth)\u001b[38;5;241m.\u001b[39mparameters}\n\u001b[1;32m-> 2054\u001b[0m     print_method \u001b[38;5;241m=\u001b[39m functools\u001b[38;5;241m.\u001b[39mwraps(meth)(\u001b[38;5;28;01mlambda\u001b[39;00m \u001b[38;5;241m*\u001b[39margs, \u001b[38;5;241m*\u001b[39m\u001b[38;5;241m*\u001b[39mkwargs: \u001b[43mmeth\u001b[49m\u001b[43m(\u001b[49m\n\u001b[0;32m   2055\u001b[0m \u001b[43m        \u001b[49m\u001b[38;5;241;43m*\u001b[39;49m\u001b[43margs\u001b[49m\u001b[43m,\u001b[49m\u001b[43m \u001b[49m\u001b[38;5;241;43m*\u001b[39;49m\u001b[38;5;241;43m*\u001b[39;49m\u001b[43m{\u001b[49m\u001b[43mk\u001b[49m\u001b[43m:\u001b[49m\u001b[43m \u001b[49m\u001b[43mv\u001b[49m\u001b[43m \u001b[49m\u001b[38;5;28;43;01mfor\u001b[39;49;00m\u001b[43m \u001b[49m\u001b[43mk\u001b[49m\u001b[43m,\u001b[49m\u001b[43m \u001b[49m\u001b[43mv\u001b[49m\u001b[43m \u001b[49m\u001b[38;5;129;43;01min\u001b[39;49;00m\u001b[43m \u001b[49m\u001b[43mkwargs\u001b[49m\u001b[38;5;241;43m.\u001b[39;49m\u001b[43mitems\u001b[49m\u001b[43m(\u001b[49m\u001b[43m)\u001b[49m\u001b[43m \u001b[49m\u001b[38;5;28;43;01mif\u001b[39;49;00m\u001b[43m \u001b[49m\u001b[43mk\u001b[49m\u001b[43m \u001b[49m\u001b[38;5;129;43;01mnot\u001b[39;49;00m\u001b[43m \u001b[49m\u001b[38;5;129;43;01min\u001b[39;49;00m\u001b[43m \u001b[49m\u001b[43mskip\u001b[49m\u001b[43m}\u001b[49m\u001b[43m)\u001b[49m)\n\u001b[0;32m   2056\u001b[0m \u001b[38;5;28;01melse\u001b[39;00m:  \u001b[38;5;66;03m# Let third-parties do as they see fit.\u001b[39;00m\n\u001b[0;32m   2057\u001b[0m     print_method \u001b[38;5;241m=\u001b[39m meth\n",
      "File \u001b[1;32m~\\AppData\\Local\\Packages\\PythonSoftwareFoundation.Python.3.11_qbz5n2kfra8p0\\LocalCache\\local-packages\\Python311\\site-packages\\matplotlib\\backends\\backend_agg.py:496\u001b[0m, in \u001b[0;36mFigureCanvasAgg.print_png\u001b[1;34m(self, filename_or_obj, metadata, pil_kwargs)\u001b[0m\n\u001b[0;32m    449\u001b[0m \u001b[38;5;28;01mdef\u001b[39;00m \u001b[38;5;21mprint_png\u001b[39m(\u001b[38;5;28mself\u001b[39m, filename_or_obj, \u001b[38;5;241m*\u001b[39m, metadata\u001b[38;5;241m=\u001b[39m\u001b[38;5;28;01mNone\u001b[39;00m, pil_kwargs\u001b[38;5;241m=\u001b[39m\u001b[38;5;28;01mNone\u001b[39;00m):\n\u001b[0;32m    450\u001b[0m \u001b[38;5;250m    \u001b[39m\u001b[38;5;124;03m\"\"\"\u001b[39;00m\n\u001b[0;32m    451\u001b[0m \u001b[38;5;124;03m    Write the figure to a PNG file.\u001b[39;00m\n\u001b[0;32m    452\u001b[0m \n\u001b[1;32m   (...)\u001b[0m\n\u001b[0;32m    494\u001b[0m \u001b[38;5;124;03m        *metadata*, including the default 'Software' key.\u001b[39;00m\n\u001b[0;32m    495\u001b[0m \u001b[38;5;124;03m    \"\"\"\u001b[39;00m\n\u001b[1;32m--> 496\u001b[0m     \u001b[38;5;28;43mself\u001b[39;49m\u001b[38;5;241;43m.\u001b[39;49m\u001b[43m_print_pil\u001b[49m\u001b[43m(\u001b[49m\u001b[43mfilename_or_obj\u001b[49m\u001b[43m,\u001b[49m\u001b[43m \u001b[49m\u001b[38;5;124;43m\"\u001b[39;49m\u001b[38;5;124;43mpng\u001b[39;49m\u001b[38;5;124;43m\"\u001b[39;49m\u001b[43m,\u001b[49m\u001b[43m \u001b[49m\u001b[43mpil_kwargs\u001b[49m\u001b[43m,\u001b[49m\u001b[43m \u001b[49m\u001b[43mmetadata\u001b[49m\u001b[43m)\u001b[49m\n",
      "File \u001b[1;32m~\\AppData\\Local\\Packages\\PythonSoftwareFoundation.Python.3.11_qbz5n2kfra8p0\\LocalCache\\local-packages\\Python311\\site-packages\\matplotlib\\backends\\backend_agg.py:445\u001b[0m, in \u001b[0;36mFigureCanvasAgg._print_pil\u001b[1;34m(self, filename_or_obj, fmt, pil_kwargs, metadata)\u001b[0m\n\u001b[0;32m    440\u001b[0m \u001b[38;5;250m\u001b[39m\u001b[38;5;124;03m\"\"\"\u001b[39;00m\n\u001b[0;32m    441\u001b[0m \u001b[38;5;124;03mDraw the canvas, then save it using `.image.imsave` (to which\u001b[39;00m\n\u001b[0;32m    442\u001b[0m \u001b[38;5;124;03m*pil_kwargs* and *metadata* are forwarded).\u001b[39;00m\n\u001b[0;32m    443\u001b[0m \u001b[38;5;124;03m\"\"\"\u001b[39;00m\n\u001b[0;32m    444\u001b[0m FigureCanvasAgg\u001b[38;5;241m.\u001b[39mdraw(\u001b[38;5;28mself\u001b[39m)\n\u001b[1;32m--> 445\u001b[0m \u001b[43mmpl\u001b[49m\u001b[38;5;241;43m.\u001b[39;49m\u001b[43mimage\u001b[49m\u001b[38;5;241;43m.\u001b[39;49m\u001b[43mimsave\u001b[49m\u001b[43m(\u001b[49m\n\u001b[0;32m    446\u001b[0m \u001b[43m    \u001b[49m\u001b[43mfilename_or_obj\u001b[49m\u001b[43m,\u001b[49m\u001b[43m \u001b[49m\u001b[38;5;28;43mself\u001b[39;49m\u001b[38;5;241;43m.\u001b[39;49m\u001b[43mbuffer_rgba\u001b[49m\u001b[43m(\u001b[49m\u001b[43m)\u001b[49m\u001b[43m,\u001b[49m\u001b[43m \u001b[49m\u001b[38;5;28;43mformat\u001b[39;49m\u001b[38;5;241;43m=\u001b[39;49m\u001b[43mfmt\u001b[49m\u001b[43m,\u001b[49m\u001b[43m \u001b[49m\u001b[43morigin\u001b[49m\u001b[38;5;241;43m=\u001b[39;49m\u001b[38;5;124;43m\"\u001b[39;49m\u001b[38;5;124;43mupper\u001b[39;49m\u001b[38;5;124;43m\"\u001b[39;49m\u001b[43m,\u001b[49m\n\u001b[0;32m    447\u001b[0m \u001b[43m    \u001b[49m\u001b[43mdpi\u001b[49m\u001b[38;5;241;43m=\u001b[39;49m\u001b[38;5;28;43mself\u001b[39;49m\u001b[38;5;241;43m.\u001b[39;49m\u001b[43mfigure\u001b[49m\u001b[38;5;241;43m.\u001b[39;49m\u001b[43mdpi\u001b[49m\u001b[43m,\u001b[49m\u001b[43m \u001b[49m\u001b[43mmetadata\u001b[49m\u001b[38;5;241;43m=\u001b[39;49m\u001b[43mmetadata\u001b[49m\u001b[43m,\u001b[49m\u001b[43m \u001b[49m\u001b[43mpil_kwargs\u001b[49m\u001b[38;5;241;43m=\u001b[39;49m\u001b[43mpil_kwargs\u001b[49m\u001b[43m)\u001b[49m\n",
      "File \u001b[1;32m~\\AppData\\Local\\Packages\\PythonSoftwareFoundation.Python.3.11_qbz5n2kfra8p0\\LocalCache\\local-packages\\Python311\\site-packages\\matplotlib\\image.py:1676\u001b[0m, in \u001b[0;36mimsave\u001b[1;34m(fname, arr, vmin, vmax, cmap, format, origin, dpi, metadata, pil_kwargs)\u001b[0m\n\u001b[0;32m   1674\u001b[0m pil_kwargs\u001b[38;5;241m.\u001b[39msetdefault(\u001b[38;5;124m\"\u001b[39m\u001b[38;5;124mformat\u001b[39m\u001b[38;5;124m\"\u001b[39m, \u001b[38;5;28mformat\u001b[39m)\n\u001b[0;32m   1675\u001b[0m pil_kwargs\u001b[38;5;241m.\u001b[39msetdefault(\u001b[38;5;124m\"\u001b[39m\u001b[38;5;124mdpi\u001b[39m\u001b[38;5;124m\"\u001b[39m, (dpi, dpi))\n\u001b[1;32m-> 1676\u001b[0m \u001b[43mimage\u001b[49m\u001b[38;5;241;43m.\u001b[39;49m\u001b[43msave\u001b[49m\u001b[43m(\u001b[49m\u001b[43mfname\u001b[49m\u001b[43m,\u001b[49m\u001b[43m \u001b[49m\u001b[38;5;241;43m*\u001b[39;49m\u001b[38;5;241;43m*\u001b[39;49m\u001b[43mpil_kwargs\u001b[49m\u001b[43m)\u001b[49m\n",
      "File \u001b[1;32m~\\AppData\\Local\\Packages\\PythonSoftwareFoundation.Python.3.11_qbz5n2kfra8p0\\LocalCache\\local-packages\\Python311\\site-packages\\PIL\\Image.py:2600\u001b[0m, in \u001b[0;36mImage.save\u001b[1;34m(self, fp, format, **params)\u001b[0m\n\u001b[0;32m   2598\u001b[0m         fp \u001b[38;5;241m=\u001b[39m builtins\u001b[38;5;241m.\u001b[39mopen(filename, \u001b[38;5;124m\"\u001b[39m\u001b[38;5;124mr+b\u001b[39m\u001b[38;5;124m\"\u001b[39m)\n\u001b[0;32m   2599\u001b[0m     \u001b[38;5;28;01melse\u001b[39;00m:\n\u001b[1;32m-> 2600\u001b[0m         fp \u001b[38;5;241m=\u001b[39m \u001b[43mbuiltins\u001b[49m\u001b[38;5;241;43m.\u001b[39;49m\u001b[43mopen\u001b[49m\u001b[43m(\u001b[49m\u001b[43mfilename\u001b[49m\u001b[43m,\u001b[49m\u001b[43m \u001b[49m\u001b[38;5;124;43m\"\u001b[39;49m\u001b[38;5;124;43mw+b\u001b[39;49m\u001b[38;5;124;43m\"\u001b[39;49m\u001b[43m)\u001b[49m\n\u001b[0;32m   2601\u001b[0m \u001b[38;5;28;01melse\u001b[39;00m:\n\u001b[0;32m   2602\u001b[0m     fp \u001b[38;5;241m=\u001b[39m cast(IO[\u001b[38;5;28mbytes\u001b[39m], fp)\n",
      "\u001b[1;31mPermissionError\u001b[0m: [Errno 13] Permission denied: 'C:\\\\figura_imdb_data.png'"
     ]
    },
    {
     "data": {
      "image/png": "[encoded data removed]",
      "text/plain": [
       "<Figure size 1000x800 with 4 Axes>"
      ]
     },
     "metadata": {},
     "output_type": "display_data"
    }
   ],
   "source": [
    "import matplotlib.pyplot as plt\n",
    "\n",
    "# 3.1. Figura amb subplots per visualitzar dades\n",
    "plt.figure(figsize=(10, 8))\n",
    "\n",
    "# Histograma per al nombre de vots en IMDB\n",
    "plt.subplot(2, 2, 1)\n",
    "plt.hist(df['imdbNumVotes'].dropna(), color='skyblue', edgecolor='black')\n",
    "plt.title('Histograma de vots en IMDB')\n",
    "plt.xlabel('Nombre de vots')\n",
    "plt.ylabel('Freqüència')\n",
    "\n",
    "# Histograma per a la valoració mitjana en IMDB\n",
    "plt.subplot(2, 2, 2)\n",
    "plt.hist(df['imdbAverageRating'].dropna(), color='salmon', edgecolor='black')\n",
    "plt.title('Histograma de valoració mitjana en IMDB')\n",
    "plt.xlabel('Valoració mitjana')\n",
    "plt.ylabel('Freqüència')\n",
    "\n",
    "# Nigul de punts de vots vs valoració mitjana\n",
    "plt.subplot(2, 2, 3)\n",
    "plt.scatter(df['imdbNumVotes'], df['imdbAverageRating'], color='purple', alpha=0.5)\n",
    "plt.title('Nombre de vots vs valoració mitjana')\n",
    "plt.xlabel('Nombre de vots')\n",
    "plt.ylabel('Valoració mitjana')\n",
    "\n",
    "# Diagrama per anys de valoració mitjana en IMDB\n",
    "plt.subplot(2, 2, 4)\n",
    "plt.plot(df_yearly['Any'], df_yearly['Valoració mitjana en IMDB'], marker='o', linestyle='-', color='green')\n",
    "plt.title('Valoració mitjana en IMDB per any')\n",
    "plt.xlabel('Any')\n",
    "plt.ylabel('Valoració mitjana')\n",
    "\n",
    "plt.tight_layout()\n",
    "plt.savefig('/figura_imdb_data.png')\n",
    "plt.show()"
   ]
  }
 ],
 "metadata": {
  "colab": {
   "provenance": []
  },
  "kernelspec": {
   "display_name": "Python 3",
   "name": "python3"
  },
  "language_info": {
   "codemirror_mode": {
    "name": "ipython",
    "version": 3
   },
   "file_extension": ".py",
   "mimetype": "text/x-python",
   "name": "python",
   "nbconvert_exporter": "python",
   "pygments_lexer": "ipython3",
   "version": "3.11.9"
  }
 },
 "nbformat": 4,
 "nbformat_minor": 0
}
