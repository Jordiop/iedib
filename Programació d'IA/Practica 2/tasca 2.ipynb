{
  "nbformat": 4,
  "nbformat_minor": 0,
  "metadata": {
    "colab": {
      "provenance": []
    },
    "kernelspec": {
      "name": "python3",
      "display_name": "Python 3"
    },
    "language_info": {
      "name": "python"
    }
  },
  "cells": [
    {
      "cell_type": "markdown",
      "source": [
        "# Programació d'intel·ligència artificial. Tasca del Lliurament 2\n",
        "\n",
        "Aquest és l'enunciat de la tasca del segon lliurament de Programació d'Intel·ligència Artificial. Es refereix a les tres llibreries que hi hem tractat: **NumPy**, **pandas**, i **matplotlib**. Consta de tres blocs corresponents a cada una de les llibreries. Cada bloc val un terç de la nota de la tasca.\n",
        "\n",
        "Quan hàgiu acabat de realitzar la tasca, davallau el document .ipynb (menú File, opció Download) i lliurau-lo dins el Moodle de l'aula virtual.\n",
        "\n",
        "Ànims i endavant!"
      ],
      "metadata": {
        "id": "DvSS_CFFacl2"
      }
    },
    {
      "cell_type": "markdown",
      "source": [
        "##Bloc 1: NumPy\n",
        "\n",
        "Emplena el codi corresponent a cada subapartat, tenint en compte que, quan sigui possible, és millor emprar la programació vectoritzada i les funcions universals de NumPy."
      ],
      "metadata": {
        "id": "gpStVTPja5NB"
      }
    },
    {
      "cell_type": "markdown",
      "source": [
        "### 1.1. *`ndarrays`* unidimensionals (vectors)\n"
      ],
      "metadata": {
        "id": "Z07rUFLwD8W8"
      }
    },
    {
      "cell_type": "markdown",
      "source": [
        "**1.1.1.** Per començar, importa la llibreria numpy amb el seu nom habitual.\n",
        "\n",
        "Crea un ndarray unidimensional (vector), anomentat a1, de 10 posicions i omple'l amb els 10 primers nombres naturals (de l'1 al 10), però en ordre invers (del 10 a l'1)"
      ],
      "metadata": {
        "id": "nncrh1jXJZJp"
      }
    },
    {
      "cell_type": "code",
      "execution_count": null,
      "metadata": {
        "id": "CqAhn9yyaaVF",
        "outputId": "ced709f4-af68-4c27-80cf-2a32853385f5",
        "colab": {
          "base_uri": "https://localhost:8080/"
        }
      },
      "outputs": [
        {
          "output_type": "stream",
          "name": "stdout",
          "text": [
            "[10  9  8  7  6  5  4  3  2  1]\n"
          ]
        }
      ],
      "source": [
        "import numpy as np\n",
        "\n",
        "a1 = np.arange(10, 0, -1)\n",
        "print(a1)"
      ]
    },
    {
      "cell_type": "markdown",
      "source": [
        "**1.1.2.** Crea un altre vector de 10 posicions, a2, i omple'l amb els 10 primers nombres parells."
      ],
      "metadata": {
        "id": "OraK-zNNJiAi"
      }
    },
    {
      "cell_type": "code",
      "source": [
        "a2 = np.arange(2, 21, 2)\n",
        "print(a2)"
      ],
      "metadata": {
        "id": "Q-7eb8ybKNRS",
        "colab": {
          "base_uri": "https://localhost:8080/"
        },
        "outputId": "44c15c26-764a-4d58-ba8a-fd600bc76cee"
      },
      "execution_count": null,
      "outputs": [
        {
          "output_type": "stream",
          "name": "stdout",
          "text": [
            "[ 2  4  6  8 10 12 14 16 18 20]\n"
          ]
        }
      ]
    },
    {
      "cell_type": "markdown",
      "source": [
        "**1.1.3.** Multiplica per 5 tots els valors del vector a1."
      ],
      "metadata": {
        "id": "rbASvDeGJiKZ"
      }
    },
    {
      "cell_type": "code",
      "source": [
        "a1 *= 5\n",
        "print (a1)"
      ],
      "metadata": {
        "id": "H66mfIoyKOUa",
        "colab": {
          "base_uri": "https://localhost:8080/"
        },
        "outputId": "501549e1-69f9-40b2-c42a-45c346ff0870"
      },
      "execution_count": null,
      "outputs": [
        {
          "output_type": "stream",
          "name": "stdout",
          "text": [
            "[50 45 40 35 30 25 20 15 10  5]\n"
          ]
        }
      ]
    },
    {
      "cell_type": "markdown",
      "source": [
        "**1.1.4.** Obté un nou vector, a3, que sigui la suma d'a1 i a2."
      ],
      "metadata": {
        "id": "EEYYz5DRJibQ"
      }
    },
    {
      "cell_type": "code",
      "source": [
        "a3 = a2 + a1\n",
        "print(a3)"
      ],
      "metadata": {
        "id": "CWdTypsWKO7S",
        "colab": {
          "base_uri": "https://localhost:8080/"
        },
        "outputId": "5cc13fce-048e-4cc0-d0f8-0b7bd07c61f2"
      },
      "execution_count": null,
      "outputs": [
        {
          "output_type": "stream",
          "name": "stdout",
          "text": [
            "[52 49 46 43 40 37 34 31 28 25]\n"
          ]
        }
      ]
    },
    {
      "cell_type": "markdown",
      "source": [
        "**1.1.5.** Obté un nou vector, a4, que sigui la resta d'a1 i a2."
      ],
      "metadata": {
        "id": "rareGAWfJioJ"
      }
    },
    {
      "cell_type": "code",
      "source": [
        "a4 = a1 - a2\n",
        "print(a4)"
      ],
      "metadata": {
        "id": "7tMQQe39KPjy",
        "colab": {
          "base_uri": "https://localhost:8080/"
        },
        "outputId": "b4698bc1-b821-4a3c-c4f1-4c60b5329a88"
      },
      "execution_count": null,
      "outputs": [
        {
          "output_type": "stream",
          "name": "stdout",
          "text": [
            "[ 48  41  34  27  20  13   6  -1  -8 -15]\n"
          ]
        }
      ]
    },
    {
      "cell_type": "markdown",
      "source": [
        "**1.1.6.** Canvia de signe tots els valors imparells d'a3 i a4."
      ],
      "metadata": {
        "id": "OzJnluijJiyR"
      }
    },
    {
      "cell_type": "code",
      "source": [
        "a3[a3 % 2 != 0] *= -1\n",
        "a4[a4 % 2 != 0] *= -1\n",
        "\n",
        "print(a3)\n",
        "print(a4)"
      ],
      "metadata": {
        "id": "DGddKysFKQai",
        "colab": {
          "base_uri": "https://localhost:8080/"
        },
        "outputId": "de812c77-0360-4bf8-fd6d-24f37194d6b7"
      },
      "execution_count": null,
      "outputs": [
        {
          "output_type": "stream",
          "name": "stdout",
          "text": [
            "[ 52 -49  46 -43  40 -37  34 -31  28 -25]\n",
            "[ 48 -41  34 -27  20 -13   6   1  -8  15]\n"
          ]
        }
      ]
    },
    {
      "cell_type": "markdown",
      "source": [
        "**1.1.7.** Obté un nou vector, a5, que contengui el mínim de cada posició entre els vectors a3 i a4."
      ],
      "metadata": {
        "id": "7YUeTAHDJ6GK"
      }
    },
    {
      "cell_type": "code",
      "source": [
        "a5 = np.minimum(a3, a4)\n",
        "print(a5)"
      ],
      "metadata": {
        "id": "vmXL9lzsKRHy",
        "colab": {
          "base_uri": "https://localhost:8080/"
        },
        "outputId": "30100ab0-b679-4a38-c8c7-2cd2dc41e689"
      },
      "execution_count": null,
      "outputs": [
        {
          "output_type": "stream",
          "name": "stdout",
          "text": [
            "[ 48 -49  34 -43  20 -37   6 -31  -8 -25]\n"
          ]
        }
      ]
    },
    {
      "cell_type": "markdown",
      "source": [
        "**1.1.8.** Fes que tots els valors d'a5 siguin positius."
      ],
      "metadata": {
        "id": "yhLeCsMjJ6RJ"
      }
    },
    {
      "cell_type": "code",
      "source": [
        "a5[a5 < 0] *= -1\n",
        "print(a5)"
      ],
      "metadata": {
        "id": "p4jHZUkjKRti",
        "colab": {
          "base_uri": "https://localhost:8080/"
        },
        "outputId": "fd41f203-70da-427c-ef53-3a1b0b1667f5"
      },
      "execution_count": null,
      "outputs": [
        {
          "output_type": "stream",
          "name": "stdout",
          "text": [
            "[48 49 34 43 20 37  6 31  8 25]\n"
          ]
        }
      ]
    },
    {
      "cell_type": "markdown",
      "source": [
        "###1.2. *`ndarrays`* multidimensionals (matrius)\n"
      ],
      "metadata": {
        "id": "chq_IGmmL6Hb"
      }
    },
    {
      "cell_type": "markdown",
      "source": [
        "**1.2.1.** Crea un ndarray de 2 dimensions (matriu) de 10 files i 4 columnes, anomenada m1 i omple-a amb nombres aleatoris, seguint una distribució normal estàndard."
      ],
      "metadata": {
        "id": "As79s4QoKuOz"
      }
    },
    {
      "cell_type": "code",
      "source": [
        "m1 = np.random.randn(10,4)\n",
        "print(m1)"
      ],
      "metadata": {
        "id": "5E5KUDTdLU9a",
        "colab": {
          "base_uri": "https://localhost:8080/"
        },
        "outputId": "be38c44a-31dd-4374-da11-7f2e7bb3100a"
      },
      "execution_count": null,
      "outputs": [
        {
          "output_type": "stream",
          "name": "stdout",
          "text": [
            "[[-0.28159239 -0.6588788   2.01520161 -2.66586364]\n",
            " [-1.04919841  0.30500909  0.01532232 -0.60176086]\n",
            " [-0.99297451  1.25675678 -0.98086458 -0.40227599]\n",
            " [-1.76403504 -0.93297589 -1.52754103  0.35823021]\n",
            " [-1.09377715 -1.49231491  0.73915812 -0.08014092]\n",
            " [-0.38595705  0.76645139  0.29157501  0.62169615]\n",
            " [-0.90036544  0.29721887 -1.1701244   0.56068168]\n",
            " [-0.59047742  1.4988738   0.98638745  0.58907695]\n",
            " [-0.69349689 -0.02726599 -1.28020296  0.27869502]\n",
            " [ 0.48521613 -0.50003374 -0.7054321  -1.46621861]]\n"
          ]
        }
      ]
    },
    {
      "cell_type": "markdown",
      "source": [
        "**1.2.2.** Obté una nova matriu, m2. Els valors de les 5 primers files seran el doble dels de les 5 primeres files de m1. Els de les 5 darreres files, el triple."
      ],
      "metadata": {
        "id": "6hRqmDoTKuYB"
      }
    },
    {
      "cell_type": "code",
      "source": [
        "m2 = np.zeros_like(m1)\n",
        "m2[:5] = m1[:5] * 2\n",
        "m2[5:] = m1[5:] * 3\n",
        "\n",
        "print(m1)\n",
        "print(m2)"
      ],
      "metadata": {
        "id": "nZfgKO21LWB5",
        "colab": {
          "base_uri": "https://localhost:8080/"
        },
        "outputId": "9bb50095-5e34-4b46-9d50-b7ca2e39d648"
      },
      "execution_count": null,
      "outputs": [
        {
          "output_type": "stream",
          "name": "stdout",
          "text": [
            "[[-0.28159239 -0.6588788   2.01520161 -2.66586364]\n",
            " [-1.04919841  0.30500909  0.01532232 -0.60176086]\n",
            " [-0.99297451  1.25675678 -0.98086458 -0.40227599]\n",
            " [-1.76403504 -0.93297589 -1.52754103  0.35823021]\n",
            " [-1.09377715 -1.49231491  0.73915812 -0.08014092]\n",
            " [-0.38595705  0.76645139  0.29157501  0.62169615]\n",
            " [-0.90036544  0.29721887 -1.1701244   0.56068168]\n",
            " [-0.59047742  1.4988738   0.98638745  0.58907695]\n",
            " [-0.69349689 -0.02726599 -1.28020296  0.27869502]\n",
            " [ 0.48521613 -0.50003374 -0.7054321  -1.46621861]]\n",
            "[[-0.56318478 -1.31775759  4.03040321 -5.33172729]\n",
            " [-2.09839683  0.61001819  0.03064464 -1.20352172]\n",
            " [-1.98594901  2.51351357 -1.96172916 -0.80455198]\n",
            " [-3.52807007 -1.86595178 -3.05508207  0.71646043]\n",
            " [-2.18755431 -2.98462983  1.47831625 -0.16028184]\n",
            " [-1.15787114  2.29935418  0.87472502  1.86508844]\n",
            " [-2.70109633  0.89165662 -3.51037319  1.68204503]\n",
            " [-1.77143226  4.49662139  2.95916236  1.76723084]\n",
            " [-2.08049066 -0.08179798 -3.84060887  0.83608505]\n",
            " [ 1.45564838 -1.50010122 -2.11629629 -4.39865583]]\n"
          ]
        }
      ]
    },
    {
      "cell_type": "markdown",
      "source": [
        "**1.2.3.** Obté una nova matriu de booleans, mb, que contingui True si a la posició corresponent de m2 hi ha un valor major que 1 o menor que -1, i False en cas contrari."
      ],
      "metadata": {
        "id": "l2_3ocDqKuhJ"
      }
    },
    {
      "cell_type": "code",
      "source": [
        "mb = np.zeros_like(m2)\n",
        "mb = (m2 > 1) | (m2 < -1)\n",
        "print(mb)"
      ],
      "metadata": {
        "id": "jP_yQNiGLWsZ",
        "colab": {
          "base_uri": "https://localhost:8080/"
        },
        "outputId": "f9a12872-9c78-474b-e34c-a83940b2a8b9"
      },
      "execution_count": null,
      "outputs": [
        {
          "output_type": "stream",
          "name": "stdout",
          "text": [
            "[[False  True  True  True]\n",
            " [ True False False  True]\n",
            " [ True  True  True False]\n",
            " [ True  True  True False]\n",
            " [ True  True  True False]\n",
            " [ True  True False  True]\n",
            " [ True False  True  True]\n",
            " [ True  True  True  True]\n",
            " [ True False  True False]\n",
            " [ True  True  True  True]]\n"
          ]
        }
      ]
    },
    {
      "cell_type": "markdown",
      "source": [
        "**1.2.4.** Multiplica per 100 tots els valors de m2 i arrodoneix a l'enter més proper. Fes també que tots els valors siguin positius."
      ],
      "metadata": {
        "id": "fwg-RcC1KuqR"
      }
    },
    {
      "cell_type": "code",
      "source": [
        "m2 = np.abs(np.round(m2 * 100))\n",
        "print(m2)"
      ],
      "metadata": {
        "id": "-vw__RzWLXcC",
        "colab": {
          "base_uri": "https://localhost:8080/"
        },
        "outputId": "f1207dde-fc73-4b7b-e06c-d3a76b46a55c"
      },
      "execution_count": null,
      "outputs": [
        {
          "output_type": "stream",
          "name": "stdout",
          "text": [
            "[[ 56. 132. 403. 533.]\n",
            " [210.  61.   3. 120.]\n",
            " [199. 251. 196.  80.]\n",
            " [353. 187. 306.  72.]\n",
            " [219. 298. 148.  16.]\n",
            " [116. 230.  87. 187.]\n",
            " [270.  89. 351. 168.]\n",
            " [177. 450. 296. 177.]\n",
            " [208.   8. 384.  84.]\n",
            " [146. 150. 212. 440.]]\n"
          ]
        }
      ]
    },
    {
      "cell_type": "markdown",
      "source": [
        "**1.2.5.** A m2 posa el valor 100 en les posicions tals que tinguem True en mb."
      ],
      "metadata": {
        "id": "LfSm6rotKuzq"
      }
    },
    {
      "cell_type": "code",
      "source": [
        "m2[mb] = 100\n",
        "print(m2)"
      ],
      "metadata": {
        "id": "tShJ3MUGLYN5",
        "colab": {
          "base_uri": "https://localhost:8080/"
        },
        "outputId": "54eda2a0-245b-47ea-abcd-a876e466262c"
      },
      "execution_count": null,
      "outputs": [
        {
          "output_type": "stream",
          "name": "stdout",
          "text": [
            "[[ 56. 100. 100. 100.]\n",
            " [100.  61.   3. 100.]\n",
            " [100. 100. 100.  80.]\n",
            " [100. 100. 100.  72.]\n",
            " [100. 100. 100.  16.]\n",
            " [100. 100.  87. 100.]\n",
            " [100.  89. 100. 100.]\n",
            " [100. 100. 100. 100.]\n",
            " [100.   8. 100.  84.]\n",
            " [100. 100. 100. 100.]]\n"
          ]
        }
      ]
    },
    {
      "cell_type": "markdown",
      "source": [
        "**1.2.6.** Obté dues noves matrius de 5 files i 2 columnes, m3 i m4. La matriu m3 ha de tenir els valors de les 5 primers files i les 2 primeres columnes de m2. La matriu m4 ha de tenir els valors de les 5 darreres files i les 2 darreres columnes de m2."
      ],
      "metadata": {
        "id": "2UuleGQ1Ku8r"
      }
    },
    {
      "cell_type": "code",
      "source": [
        "m3 = m2[:5, :2]\n",
        "m4 = m2[5:, -2:]\n",
        "print(m3)\n",
        "print(m4)"
      ],
      "metadata": {
        "id": "yFaxmFoJLZAq",
        "colab": {
          "base_uri": "https://localhost:8080/"
        },
        "outputId": "3294e0d0-0edc-4134-9804-0271f2f16260"
      },
      "execution_count": null,
      "outputs": [
        {
          "output_type": "stream",
          "name": "stdout",
          "text": [
            "[[ 56. 100.]\n",
            " [100.  61.]\n",
            " [100. 100.]\n",
            " [100. 100.]\n",
            " [100. 100.]]\n",
            "[[ 87. 100.]\n",
            " [100. 100.]\n",
            " [100. 100.]\n",
            " [100.  84.]\n",
            " [100. 100.]]\n"
          ]
        }
      ]
    },
    {
      "cell_type": "markdown",
      "source": [
        "**1.2.7.** Obté una nova matriu, m5, amb el màxim dels valors de m3 i m4."
      ],
      "metadata": {
        "id": "4XtV9-avKvHR"
      }
    },
    {
      "cell_type": "code",
      "source": [
        "m5 = np.maximum(m3, m4)\n",
        "print(m5)"
      ],
      "metadata": {
        "id": "I6ZjgU2KLZiS",
        "colab": {
          "base_uri": "https://localhost:8080/"
        },
        "outputId": "6290626a-cc7c-490d-c52f-c913fd8844d1"
      },
      "execution_count": null,
      "outputs": [
        {
          "output_type": "stream",
          "name": "stdout",
          "text": [
            "[[ 87. 100.]\n",
            " [100. 100.]\n",
            " [100. 100.]\n",
            " [100. 100.]\n",
            " [100. 100.]]\n"
          ]
        }
      ]
    },
    {
      "cell_type": "markdown",
      "source": [
        "**1.2.8.** Obté els valors màxims i mínims de la matriu m5."
      ],
      "metadata": {
        "id": "4-vStu0dKvQy"
      }
    },
    {
      "cell_type": "code",
      "source": [
        "max_m5 = m5.max()\n",
        "min_m5 = m5.min()\n",
        "print(max_m5)\n",
        "print(min_m5)"
      ],
      "metadata": {
        "id": "f2qVgQng1JwX",
        "colab": {
          "base_uri": "https://localhost:8080/"
        },
        "outputId": "d0eacb15-d30a-431d-a9f1-5e5b517285c5"
      },
      "execution_count": null,
      "outputs": [
        {
          "output_type": "stream",
          "name": "stdout",
          "text": [
            "100.0\n",
            "87.0\n"
          ]
        }
      ]
    },
    {
      "cell_type": "markdown",
      "source": [
        "##Bloc 2: pandas\n",
        "\n",
        "Emplena el codi corresponent a cada subapartat, treballant amb la llibreria pandas."
      ],
      "metadata": {
        "id": "0_8SODmf0jyL"
      }
    },
    {
      "cell_type": "markdown",
      "source": [
        "**2.1.** Per començar, importa la llibreria pandas amb el seu nom habitual.\n",
        "\n",
        "A continuació, carrega en un dataframe el dataset de les pel·lícules i sèries de la plataforma Amazon Prime, publicat a Kaggle per OctopusTeam.  Pots obtenir una còpia en format CSV amb les dades actualitzades fins el 22/10/2024 a https://raw.githubusercontent.com/tnavarrete-iedib/bigdata-24-25/refs/heads/main/prime.csv\n",
        "\n",
        "Mostra el nombre de sèries i de pel·lícules del dataframe."
      ],
      "metadata": {
        "id": "9KwfAEo4pKHo"
      }
    },
    {
      "cell_type": "code",
      "source": [
        "import pandas as pd\n",
        "\n",
        "url = \"https://raw.githubusercontent.com/tnavarrete-iedib/bigdata-24-25/refs/heads/main/prime.csv\"\n",
        "df = pd.read_csv(url)\n",
        "\n",
        "num_series = df[df['type'] == 'TV Show'].shape[0]\n",
        "num_movies = df[df['type'] == 'Movie'].shape[0]\n",
        "print(\"Nombre de sèries:\", num_series)\n",
        "print(\"Nombre de pel·lícules:\", num_movies)"
      ],
      "metadata": {
        "id": "FMuZMFFTuUxL",
        "colab": {
          "base_uri": "https://localhost:8080/"
        },
        "outputId": "b46ae223-9d6f-490c-ef35-2aa95b14d36a"
      },
      "execution_count": null,
      "outputs": [
        {
          "output_type": "stream",
          "name": "stdout",
          "text": [
            "Nombre de sèries: 0\n",
            "Nombre de pel·lícules: 38835\n"
          ]
        }
      ]
    },
    {
      "cell_type": "markdown",
      "source": [
        "**2.2.** Obté la mitjana i la desviació estàndard per a les columnes amb la valoració mitjana en IMDB i el nombre de vots en IMDB."
      ],
      "metadata": {
        "id": "ZHqo1-HcNjnA"
      }
    },
    {
      "cell_type": "code",
      "source": [
        "imdb_mean = df['imdbAverageRating'].mean()\n",
        "imdb_std = df['imdbAverageRating'].std()\n",
        "votes_mean = df['imdbNumVotes'].mean()\n",
        "votes_std = df['imdbNumVotes'].std()\n",
        "print(\"Mitjana valoració IMDB:\", imdb_mean)\n",
        "print(\"Desviació estàndard valoració IMDB:\", imdb_std)\n",
        "print(\"Mitjana vots IMDB:\", votes_mean)\n",
        "print(\"Desviació estàndard vots IMDB:\", votes_std)"
      ],
      "metadata": {
        "id": "uJ3K-hBHNyLF",
        "colab": {
          "base_uri": "https://localhost:8080/"
        },
        "outputId": "8ba23dc8-cca9-4701-ed78-aa393869ce18"
      },
      "execution_count": null,
      "outputs": [
        {
          "output_type": "stream",
          "name": "stdout",
          "text": [
            "Mitjana valoració IMDB: 6.022308909995477\n",
            "Desviació estàndard valoració IMDB: 1.3282821546819426\n",
            "Mitjana vots IMDB: 17435.074423337857\n",
            "Desviació estàndard vots IMDB: 86702.11678260994\n"
          ]
        }
      ]
    },
    {
      "cell_type": "markdown",
      "source": [
        "**2.3.** Recupera les 10 sèries llençades el 2024 amb més vots en IMDB, ordenades de més a menys vots."
      ],
      "metadata": {
        "id": "LP0lc1Cd9U6E"
      }
    },
    {
      "cell_type": "code",
      "source": [
        "top_series_2024 = df[(df['type'] == 'TV Show') & (df['releaseYear'] == 2024)]\n",
        "top_series_2024 = top_series_2024.nlargest(10, 'imdbNumVotes')\n",
        "print(\"Top 10 sèries 2024 per vots:\", top_series_2024[['title', 'imdbNumVotes']])"
      ],
      "metadata": {
        "id": "WxxqUIQZK_Pm",
        "colab": {
          "base_uri": "https://localhost:8080/"
        },
        "outputId": "39c75227-8f53-40e3-855c-c611809a80d3"
      },
      "execution_count": null,
      "outputs": [
        {
          "output_type": "stream",
          "name": "stdout",
          "text": [
            "Top 10 sèries 2024 per vots: Empty DataFrame\n",
            "Columns: [title, imdbNumVotes]\n",
            "Index: []\n"
          ]
        }
      ]
    },
    {
      "cell_type": "markdown",
      "source": [
        "**2.4.** Recupera les 10 pel·lícules llençades des de l'any 2000 del gènere ciència ficció (poden haver-hi d'altres gèneres també) amb millor valoració, ordenades de més a menys valoració en IMDB."
      ],
      "metadata": {
        "id": "XyGhRHyJ8Q2G"
      }
    },
    {
      "cell_type": "code",
      "source": [
        "scifi_movies = df[(df['type'] == 'Movie') & (df['releaseYear'] >= 2000) & (df['genres'].str.contains('Science Fiction', na=False)) & (df['genres'].str.contains('Sci-fi', na=False))]\n",
        "top_scifi_movies = scifi_movies.nlargest(10, 'imdbAverageRating')\n",
        "print(\"Top 10 pel·lícules ciència ficció:\", top_scifi_movies[['title', 'imdbAverageRating']])"
      ],
      "metadata": {
        "id": "GBKFcWQa8uzX",
        "colab": {
          "base_uri": "https://localhost:8080/"
        },
        "outputId": "12e145e1-12cf-4f11-ed04-9f89020a662b"
      },
      "execution_count": null,
      "outputs": [
        {
          "output_type": "stream",
          "name": "stdout",
          "text": [
            "Top 10 pel·lícules ciència ficció: Empty DataFrame\n",
            "Columns: [title, imdbAverageRating]\n",
            "Index: []\n"
          ]
        }
      ]
    },
    {
      "cell_type": "markdown",
      "source": [
        "**2.5.** Calcula el nombre de pel·lícules que s'han llançat cada any des del 2000."
      ],
      "metadata": {
        "id": "3xtyorwrpG3R"
      }
    },
    {
      "cell_type": "code",
      "source": [
        "movies_per_year = df[(df['type'] == 'Movie') & (df['releaseYear'] >= 2000)].groupby('releaseYear').size()\n",
        "print(\"Pel·lícules per any:\", movies_per_year)"
      ],
      "metadata": {
        "id": "6ULPeJ2_uVyZ",
        "colab": {
          "base_uri": "https://localhost:8080/"
        },
        "outputId": "6d34318d-49c9-47d2-e56e-067089f35dc8"
      },
      "execution_count": null,
      "outputs": [
        {
          "output_type": "stream",
          "name": "stdout",
          "text": [
            "Pel·lícules per any: releaseYear\n",
            "2000.0     524\n",
            "2001.0     516\n",
            "2002.0     582\n",
            "2003.0     558\n",
            "2004.0     637\n",
            "2005.0     759\n",
            "2006.0     808\n",
            "2007.0     922\n",
            "2008.0     955\n",
            "2009.0    1082\n",
            "2010.0    1146\n",
            "2011.0    1313\n",
            "2012.0    1544\n",
            "2013.0    1931\n",
            "2014.0    2073\n",
            "2015.0    2252\n",
            "2016.0    2425\n",
            "2017.0    2643\n",
            "2018.0    2358\n",
            "2019.0     655\n",
            "2020.0     229\n",
            "2021.0     119\n",
            "2022.0     124\n",
            "2023.0     141\n",
            "2024.0     105\n",
            "dtype: int64\n"
          ]
        }
      ]
    },
    {
      "cell_type": "markdown",
      "source": [
        "**2.6.** Volem agrupar les pel·lícules per any de llançament, des de l'any 2000. Has d'obtenir dos objectse Series, on en els índexs tendrem l'any i en els valors:\n",
        "* en un objecte Series, el nombre total de vots en IMDB\n",
        "* en l'altre objecte Series, la valoració mitjana en IMDB"
      ],
      "metadata": {
        "id": "OtGiG6dK44K4"
      }
    },
    {
      "cell_type": "code",
      "source": [
        "votes_per_year = df[(df['type'] == 'Movie') & df['releaseYear'] >= 2000].groupby('releaseYear')['imdbNumVotes'].sum()\n",
        "rating_per_year = df[(df['type'] == 'Movie') & df['releaseYear'] >= 2000].groupby('releaseYear')['imdbAverageRating'].mean()"
      ],
      "metadata": {
        "id": "C4pXowb8uWvR"
      },
      "execution_count": null,
      "outputs": []
    },
    {
      "cell_type": "markdown",
      "source": [
        "**2.7.** A partir d'aquests dos objectes Series de l'apartat anterior, crea un nou objecte DataFrame amb 3 columnes:\n",
        "* Any\n",
        "* Vots en IMDB\n",
        "* Valoració mitjana en IMDB"
      ],
      "metadata": {
        "id": "R9EXmG5FOLNe"
      }
    },
    {
      "cell_type": "code",
      "source": [
        "df_yearly = pd.DataFrame({\n",
        "    'Any': votes_per_year.index,\n",
        "    'Vots en IMDB': votes_per_year.values,\n",
        "    'Valoració mitjana en IMDB': rating_per_year.values\n",
        "})\n",
        "print(\"DataFrame anual:\", df_yearly)"
      ],
      "metadata": {
        "id": "8uDFFE45OuBd",
        "colab": {
          "base_uri": "https://localhost:8080/"
        },
        "outputId": "6c08f254-8b30-439f-9047-cd50a93aa45a"
      },
      "execution_count": null,
      "outputs": [
        {
          "output_type": "stream",
          "name": "stdout",
          "text": [
            "DataFrame anual: Empty DataFrame\n",
            "Columns: [Any, Vots en IMDB, Valoració mitjana en IMDB]\n",
            "Index: []\n"
          ]
        }
      ]
    },
    {
      "cell_type": "markdown",
      "source": [
        "**2.8.** Guarda el nou objecte DataFrame en un fitxer CSV al directori 'prime' de la teva unitat de Google Drive.\n",
        "\n",
        "---\n",
        "\n"
      ],
      "metadata": {
        "id": "flCXcjVnOh6n"
      }
    },
    {
      "cell_type": "code",
      "source": [
        "df_yearly.to_csv('/yearly_imdb_data.csv', index=False)"
      ],
      "metadata": {
        "id": "mQio9WLiOg49"
      },
      "execution_count": null,
      "outputs": []
    },
    {
      "cell_type": "markdown",
      "source": [
        "##Bloc 3: Matplotlib\n",
        "\n",
        "A partir del DataFrame de les sèries i pel·lícules d'Amazon Prime del bloc anterior, representa amb Matplotlib una figura amb quatre subplots, organitzats en dues files i dues columnes, d'aquesta manera:\n",
        "* Superior esquerra: histograma per al nombre de vots en IMDB\n",
        "* Superior dreta: histograma per a la valoració mitjana en IMDB\n",
        "* Inferior esquerra: nigul de punts on es relacionen el nombre de vots en IMDB amb la valoració mitjana en IMDB.\n",
        "* Inferior dreta: diagrama de punts i línies que mostri la variació per anys de la valoració mitjana en IMDB de les pel·lícules llançades des del 2000 (dataframe de l'apartat 2.7).\n",
        "\n",
        "Cada subplot ha de mostrar el títol corresponent i els eixos han d'incloure marques i una etiqueta descriptiva. A més, el gràfic de cada subplot ha d'utilitzar un color diferent.\n",
        "\n",
        "Tots els elements han de quedar disposats de manera que es pugui veure tot de manera correcta.\n",
        "\n",
        "Finalment, fes que es descarregui una imatge de la teva figura."
      ],
      "metadata": {
        "id": "W1RrLTsx8RPZ"
      }
    },
    {
      "cell_type": "code",
      "source": [
        "import matplotlib.pyplot as plt\n",
        "\n",
        "# 3.1. Figura amb subplots per visualitzar dades\n",
        "plt.figure(figsize=(10, 8))\n",
        "\n",
        "# Histograma per al nombre de vots en IMDB\n",
        "plt.subplot(2, 2, 1)\n",
        "plt.hist(df['imdbNumVotes'].dropna(), color='skyblue', edgecolor='black')\n",
        "plt.title('Histograma de vots en IMDB')\n",
        "plt.xlabel('Nombre de vots')\n",
        "plt.ylabel('Freqüència')\n",
        "\n",
        "# Histograma per a la valoració mitjana en IMDB\n",
        "plt.subplot(2, 2, 2)\n",
        "plt.hist(df['imdbAverageRating'].dropna(), color='salmon', edgecolor='black')\n",
        "plt.title('Histograma de valoració mitjana en IMDB')\n",
        "plt.xlabel('Valoració mitjana')\n",
        "plt.ylabel('Freqüència')\n",
        "\n",
        "# Nigul de punts de vots vs valoració mitjana\n",
        "plt.subplot(2, 2, 3)\n",
        "plt.scatter(df['imdbNumVotes'], df['imdbAverageRating'], color='purple', alpha=0.5)\n",
        "plt.title('Nombre de vots vs valoració mitjana')\n",
        "plt.xlabel('Nombre de vots')\n",
        "plt.ylabel('Valoració mitjana')\n",
        "\n",
        "# Diagrama per anys de valoració mitjana en IMDB\n",
        "plt.subplot(2, 2, 4)\n",
        "plt.plot(df_yearly['Any'], df_yearly['Valoració mitjana en IMDB'], marker='o', linestyle='-', color='green')\n",
        "plt.title('Valoració mitjana en IMDB per any')\n",
        "plt.xlabel('Any')\n",
        "plt.ylabel('Valoració mitjana')\n",
        "\n",
        "plt.tight_layout()\n",
        "plt.savefig('/figura_imdb_data.png')\n",
        "plt.show()"
      ],
      "metadata": {
        "id": "n4pk5262QCD3",
        "colab": {
          "base_uri": "https://localhost:8080/",
          "height": 807
        },
        "outputId": "24c0faf5-51ca-4e4a-bb11-41415dcacf6b"
      },
      "execution_count": null,
      "outputs": [
        {
          "output_type": "display_data",
          "data": {
            "text/plain": [
              "<Figure size 1000x800 with 4 Axes>"
            ],
            "image/png": "[encoded data removed]"
          },
          "metadata": {}
        }
      ]
    }
  ]
}