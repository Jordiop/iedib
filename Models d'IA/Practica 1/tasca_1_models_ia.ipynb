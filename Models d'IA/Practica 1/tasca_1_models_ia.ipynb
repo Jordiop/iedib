{
  "nbformat": 4,
  "nbformat_minor": 0,
  "metadata": {
    "colab": {
      "provenance": []
    },
    "kernelspec": {
      "name": "python3",
      "display_name": "Python 3"
    },
    "language_info": {
      "name": "python"
    }
  },
  "cells": [
    {
      "cell_type": "markdown",
      "source": [
        "# Tasca 1\n",
        "\n",
        "Aquest quadern és la Tasca 1 de Models d'intel·ligència artificial.\n",
        "\n",
        "Quan l'hàgiu acabada, davallau-la com a .ipynb i lliurau-la al Moodle del mòdul.\n",
        "\n",
        "Recordau que teniu el fòrum de dubtes per resoldre les dificultats que pugueu trobar.\n",
        "\n",
        "Ànim i endavant!"
      ],
      "metadata": {
        "id": "SLuA3Igh0_y-"
      }
    },
    {
      "cell_type": "markdown",
      "source": [
        "##Pregunta 1\n",
        "\n",
        "   Llegiu l'article Cap a la intel·ligència artificial de Ramon López de Mántaras\n",
        "https://metode.cat/revistes-metode/monografics/cap-a-la-intelligencia-artificial.html\n",
        "   \n",
        "\n",
        "   a) Quin és l'objectiu de la intel·ligència artificial, segons López de Mántaras en aquest article?\n",
        "\n",
        "   L'objectiu de la intel·ligència artificial segons el autor mencionat és aconseguir que una màquina tingui una intel·ligència de tipus general similar a la humana i ho qualifica de una de les fites més abicioses que s'ha plantejat la ciència.\n",
        "\n",
        "   b) En quin o quins dels quatre quadrants proposats per Russell i Norvig la situau? (pensar humanament, actuar humanament, pensar racionalment, actuar racionalment) Argumentau-ho.\n",
        "\n",
        "  A l'article, l'autor fa referència a la intel·ligència artificial general, similar a la humana. Aquesta intel·ligència no es limita només a actuar com un humà, sinó que implica replicar els processos cognitius humans, com ara el raonament, la comprensió i l'aprenentatge.\n",
        "\n",
        "  Tot i això, també es podria argumentar que l'objectiu inclou aspectes d'actuar humanament. Si una màquina aconsegueix una intel·ligència general similar a la humana, s'esperaria que també pogués actuar de manera similar en diverses situacions.\n",
        "   \n",
        "   c) Discutiu l'argument de Weizenbaum amb què López de Mántaras expressa el seu acord: \"cap màquina hauria de prendre decisions de manera completament autònoma o donar consells que requereixin, entre altres coses, saviesa, producte d’experiències humanes, així com tenir en compte valors humans.\" Trobau-hi arguments a favor i en contra.\n",
        "\n",
        "   Arguments a favor:\n",
        "\n",
        "Límits ètics: Les màquines, per molt sofisticades que siguin, no tenen la capacitat de comprendre plenament les implicacions morals i els valors humans. Per tant, atorgar-los autonomia total en decisions importants podria tenir conseqüències negatives.\n",
        "\n",
        "Responsabilitat: En cas de decisions errònies o perjudicials preses per una màquina autònoma, la responsabilitat seria difícil d'assignar.\n",
        "\n",
        "Control humà: Mantenir el control humà sobre les decisions importants és crucial per garantir que la IA s'utilitzi de manera responsable i beneficiosa per a la societat.\n",
        "Arguments en contra:\n",
        "\n",
        "Eficiència: En certes situacions, la IA pot prendre decisions més ràpides i eficients que els humans, especialment en entorns complexos o amb grans quantitats de dades.\n",
        "\n",
        "Objectivitat: La IA pot estar lliure de biaixos emocionals i subjectivitat, cosa que podria portar a decisions més justes i imparcials en alguns casos.\n",
        "\n",
        "Progrés: Limitar la autonomia de la IA podria frenar el seu desenvolupament i la seva capacitat per resoldre problemes complexos.\n",
        "\n",
        "\n",
        "\n",
        "   d) Ponderau els vostres arguments a favor i en contra i preneu una decisió final sobre el vostre acord o desacord amb Weizenbaum i López de Mántaras.\n",
        "\n",
        "   \n",
        "   "
      ],
      "metadata": {
        "id": "-7bdM3861z2X"
      }
    },
    {
      "cell_type": "markdown",
      "source": [],
      "metadata": {
        "id": "BpNk6fCkYEny"
      }
    },
    {
      "cell_type": "markdown",
      "source": [
        "## Pregunta 2\n",
        "\n",
        "Comentau una aplicació de la IA del vostre interès. Podeu cercar-la a partir dels temes mencionats als apunts.\n",
        "\n",
        "a) Donau un enllaç a una explicació d'aquesta aplicació (pot ser un article, una entrada d'un blog, una notícia...)\n",
        "\n",
        "http://scielo.sld.cu/scielo.php?pid=S1024-94352008000500005&script=sci_arttext\n",
        "\n",
        "b) Descriviu-la breument.\n",
        "\n",
        "El article destaca el potencial ús de la IA a situacions mèdiques qeu requereixen un ampli camp de coneixemente. També destaca la diferència de velocitat amb un human i una efectiva presa de desisions.\n",
        "\n",
        "c) Justificau per què pensau que és una aplicació rellevant.\n",
        "\n",
        "En l'àmbit mèdic té 2 potencials ventatges, el primer és la velocitat i el % de precisió que pot tenir una IA i el segon es alliberar als metges de decisions complicades o sense un clar resultat.\n",
        "\n",
        "d) Quins problemes ètics planteja?\n",
        "\n",
        "El triatge de problemes i el no voler ajudar a pacients que eventualment aniran a pitjor."
      ],
      "metadata": {
        "id": "ex_Ulo6m2I2t"
      }
    },
    {
      "cell_type": "markdown",
      "source": [
        "\n",
        "## Pregunta 3\n",
        "\n",
        "a) Justificau la vostra opinió sobre la proposta per una pausa en la investigació d'IA avançada.\n",
        "\n",
        "https://futureoflife.org/open-letter/pause-giant-ai-experiments/\n",
        "\n",
        "Una dels majors hites de la història de la humanitat és la carrera espacial. Les dues principals potències mundials varen lluitar de manera paralel·la per conseguir arribar a la lluna. I ningú, els va possar obstacles. És vera que hi ha qüestions dificils com la probable pèrdua de tipus de feina mecànics o repetitius o la ètica darrera una IA, pero la realitat és que no té molt de sentit possar barreres al desenvolupament que prest o tard arribarà. El que hem de fer és educar a la gent i ensenyar-lis com treure profit de aquestes eines.\n",
        "\n",
        "b) Un temps després de la publicació de la carta, el CAIS fa publicar un manifest molt breu de 22 paraules, molt relacionat amb la carta anterior. Amb quines tecnologies compara aquest manifest la IA? En la vostra opinió, la comparació és adequada?\n",
        "\n",
        "https://www.safe.ai/statement-on-ai-risk\n",
        "\n",
        "Ho compara amb les experiències pasades o presents, tal com el poder nuclear i les pandèmies. Totes les comparacions poden ser adequades si les agafam en cert punt. Aquí estan assegurant que una IA pot tenir el poder per acabar amb la humanitat. Així doncs, la comparació si que seria adequada amb les armes nuclears o les pandèmies.\n",
        "\n",
        "b) Quins són els tres investigadors en IA que varen rebre el premi Turing el 2019?\n",
        "\n",
        "Geoffrey Hinton, Yann LeCun i Yoshua Bengio.\n",
        "\n",
        "c) D'aquests tres pioners, quins varen signar el manifest breu?\n",
        "\n",
        "Tant Geoffrey Hinton com Yoshua Bengio varen firmar el manifest.\n",
        "\n",
        "d) Pensau que això és una mostra de la unanimitat o de la divisió d'opinions dins la comunitat d'IA sobre els riscos de la tecnologia?\n",
        "\n",
        "És una clara falta de unanimitat. És molt complicat quan hi ha temes de ètica que hi hagi unanimitat. Inclús dins un grup molt reduit, sempre hi pot haver diverses opinions. En un tema tan recent i sense saber les conseqüències que pot dur aquesta tecnologia, és molt normal la diferència de opinions.\n",
        "\n"
      ],
      "metadata": {
        "id": "DOM5kTT_1Z8O"
      }
    },
    {
      "cell_type": "markdown",
      "source": [
        "## Pregunta 4\n",
        "\n",
        "Triau un dels textos del número especial sobre intel·ligència artificial https://revistaidees.cat/monografics/intelligencia-artificial/ i comentau-lo responent aquestes qüestions.\n",
        "\n",
        "a) Per què heu triat aquest article?\n",
        "\n",
        "Aquest article parla de la tendència practicament obligatoria de la humanitat de pensar en el capitalisme extrem i desregulat a un model més equilibrat on tot funcioni sense estar a nes límit.\n",
        "\n",
        "b) Realitzau un perfil de l'autor o autors.\n",
        "\n",
        "Els dos camps de feina del autor, son la economia i la tecnologia, i es fa un article en base a coneixements propis del autor.\n",
        "\n",
        "c) Resumiu les idees principals que s'hi exposen.\n",
        "\n",
        "- Exceptisisme enlloc de optimisme per aquesta tecnologia\n",
        "- Racionalitat incomparable amb la humana\n",
        "- Canvi de focus de investigació\n",
        "- Debats evolucionats i distints des de els anys 90\n",
        "\n",
        "d) Justificau el vostre acord o desacord amb el contingut.\n",
        "\n",
        "M'agrada el article perquè és optimista però també realista en quant a les capacitats i les amenaces de la IA. Penso que és la manera de operar quan hi ha aquest tipus de debats.\n"
      ],
      "metadata": {
        "id": "EAFM46545d0X"
      }
    },
    {
      "cell_type": "markdown",
      "source": [
        "## Pregunta 5\n",
        "\n",
        "Cercau una notícia relacionada amb un impacte social de la IA. Com a exemple, un parell de temes que podem trobar fàcilment a la premsa són: vaga d'actors i guionistes per l'ús d'IA, la generació d'imatges personals falses o l'ús de la veu d'actors coneguts en sistemes automàtics de parla.\n",
        "\n",
        "Comentau-la responent a les qüestions següents.\n",
        "\n",
        "a) Donau l'enllaç a la notícia.\n",
        "\n",
        "https://es.cointelegraph.com/news/sag-aftra-strike-ends-as-ai-deal-reached-hollywood-still-torn\n",
        "\n",
        "b) Amb quins principis de la IA responsable està relacionada?\n",
        "\n",
        "IA centrada en persones. Es suposa que la IA la hem de orientar a ajudar a les persones, no a perjudicar-les.\n",
        "\n",
        "c) Quin conflicte planteja la notícia?\n",
        "\n",
        "Substitució dels humans per la IA en treballs creatius.\n",
        "\n",
        "d) Quines vies de solució pensau que hi pot haver?\n",
        "\n",
        "Regulació del que se pot fer (cal fer entendre que la IA és una eina per un treballador i no un treballador com a tal).  \n",
        "\n",
        "e) S'han produït situacions semblants amb tecnologies anteriors a la IA?\n",
        "\n",
        "Lo més semblant i amb una resolució molt dolenta a curt termini va ser la 2a revolució industrial, on se substituia personal de les fàbriques en pro de màquines més eficients i menys demandants. Va resultar en protestes massives en els païssos més afectats però la ressolució va acabar en el tipus de indústria que tenim avui dia."
      ],
      "metadata": {
        "id": "gb6xs3_B3MdN"
      }
    }
  ]
}