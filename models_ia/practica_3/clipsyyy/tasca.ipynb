{
 "cells": [
  {
   "cell_type": "markdown",
   "metadata": {},
   "source": [
    "# Pregunta 1\n",
    "Implementau un sistema expert en Python utilitzant CLIPSPY.\n",
    "\n",
    "Podeu triar una de les següents tres aplicacions, en la línia dels apunts del tema.\n",
    "\n",
    "    Mèdica, per exemple avaluació de l'activitat física.\n",
    "    Hipotecària, com ara perfil del risc segons ingressos i estabilitat laboral.\n",
    "    Legal, per exemple calcular l'impost de successions i donacions.\n",
    "\n",
    "Si ho preferiu, també podeu triar un altre tema que sigui del vostre interès."
   ]
  },
  {
   "cell_type": "code",
   "execution_count": 7,
   "metadata": {},
   "outputs": [
    {
     "name": "stdout",
     "output_type": "stream",
     "text": [
      "\n",
      "Testejant: Principiant - Pèrdua de pes\n",
      "Dades: {'age': 30, 'weight': 75, 'height': 175, 'activity_level': 'low', 'health_conditions': 'none', 'fitness_goal': 'weight loss', 'time_available': 'normal'}\n",
      "\n",
      "No s'han trobat recomanacions per aquest cas!\n",
      "--------------------------------------------------------------------------------\n",
      "\n",
      "Testejant: Persona ocupada\n",
      "Dades: {'age': 35, 'weight': 70, 'height': 170, 'activity_level': 'moderate', 'health_conditions': 'none', 'fitness_goal': 'general fitness', 'time_available': 'limited'}\n",
      "\n",
      "No s'han trobat recomanacions per aquest cas!\n",
      "--------------------------------------------------------------------------------\n",
      "\n",
      "Testejant: Persona gran amb artritis\n",
      "Dades: {'age': 70, 'weight': 65, 'height': 165, 'activity_level': 'low', 'health_conditions': 'arthritis', 'fitness_goal': 'maintenance', 'time_available': 'normal'}\n",
      "\n",
      "Recomanacions trobades:\n",
      "\n",
      "Tipus d'exercici: Low Impact Training\n",
      "Intensitat: Low\n",
      "Freqüència: 2-3 times per week\n",
      "Duració: 20-30 minutes\n",
      "Exercicis específics: Water aerobics, Tai Chi, Chair yoga, Light resistance band exercises\n",
      "Pla de progressió: Week 1-2: Start with 10-15 min sessions. Gradually increase duration and resistance as comfortable.\n",
      "Consells nutricionals: Focus on anti-inflammatory foods, adequate calcium and vitamin D intake.\n",
      "Precaucions: Avoid high-impact movements, listen to body, stop if pain occurs\n",
      "--------------------------------------------------------------------------------\n"
     ]
    }
   ],
   "source": [
    "# Primera cel·la - Setup\n",
    "from src.expert_system.exfisic import PhysicalActivityExpert\n",
    "\n",
    "expert = PhysicalActivityExpert()\n",
    "\n",
    "# Segona cel·la - Funció per provar un cas específic\n",
    "test_cases = [\n",
    "        {\n",
    "            \"name\": \"Principiant - Pèrdua de pes\",\n",
    "            \"data\": {\n",
    "                \"age\": 30,\n",
    "                \"weight\": 75,\n",
    "                \"height\": 175,\n",
    "                \"activity_level\": \"low\",\n",
    "                \"health_conditions\": \"none\",\n",
    "                \"fitness_goal\": \"weight loss\",\n",
    "                \"time_available\": \"normal\"\n",
    "            }\n",
    "        },\n",
    "        {\n",
    "            \"name\": \"Persona ocupada\",\n",
    "            \"data\": {\n",
    "                \"age\": 35,\n",
    "                \"weight\": 70,\n",
    "                \"height\": 170,\n",
    "                \"activity_level\": \"moderate\",\n",
    "                \"health_conditions\": \"none\",\n",
    "                \"fitness_goal\": \"general fitness\",\n",
    "                \"time_available\": \"limited\"\n",
    "            }\n",
    "        },\n",
    "        {\n",
    "            \"name\": \"Persona gran amb artritis\",\n",
    "            \"data\": {\n",
    "                \"age\": 70,\n",
    "                \"weight\": 65,\n",
    "                \"height\": 165,\n",
    "                \"activity_level\": \"low\",\n",
    "                \"health_conditions\": \"arthritis\",\n",
    "                \"fitness_goal\": \"maintenance\",\n",
    "                \"time_available\": \"normal\"\n",
    "            }\n",
    "        }\n",
    "    ]\n",
    "    \n",
    "for case in test_cases:\n",
    "    print(f\"\\nTestejant: {case['name']}\")\n",
    "    print(\"Dades:\", case['data'])\n",
    "    recommendations = expert.get_recommendation(**case['data'])\n",
    "    \n",
    "    if recommendations:\n",
    "        print(\"\\nRecomanacions trobades:\")\n",
    "        for rec in recommendations:\n",
    "            print(\"\\nTipus d'exercici:\", rec['exercise_type'])\n",
    "            print(\"Intensitat:\", rec['intensity'])\n",
    "            print(\"Freqüència:\", rec['frequency'])\n",
    "            print(\"Duració:\", rec['duration'])\n",
    "            print(\"Exercicis específics:\", rec['specific_exercises'])\n",
    "            print(\"Pla de progressió:\", rec['progression_plan'])\n",
    "            print(\"Consells nutricionals:\", rec['nutrition_advice'])\n",
    "            print(\"Precaucions:\", rec['precautions'])\n",
    "    else:\n",
    "        print(\"\\nNo s'han trobat recomanacions per aquest cas!\")\n",
    "    \n",
    "    print(\"-\" * 80)"
   ]
  },
  {
   "cell_type": "markdown",
   "metadata": {},
   "source": [
    "# Pregunta 2\n",
    "Triau un altre problema dels sis d'exemple que hi ha a la web arcprize.org i resoleu-lo seguint aquest guió.\n",
    "\n",
    "    Definiu les graelles d'entrada i de sortida.\n",
    "    Construïu les funcions auxiliars que necessiteu per resoldre el problema. Al problema del puzzle, aquestes funcions trobaven les peces horitzontals, verticals i quadrades.\n",
    "    Construïu una funció de solució que utilitzi les auxiliars de l'apartat anterior.\n",
    "    Comprovau que la solució a les entrades d'entrenament són les sortides corresponents.\n",
    "    Comprovau que la solució a l'entrada de test correspon amb la solució de la web.\n",
    "\n",
    "He triat el arcprize #6\n",
    "Es cerca els quadrats coincidents en una matriu de 7x3 dividida per una linia vertical en la columna 4. (Puzzle ID: 0520fde7)\n",
    "\n"
   ]
  },
  {
   "cell_type": "code",
   "execution_count": 8,
   "metadata": {},
   "outputs": [
    {
     "name": "stdout",
     "output_type": "stream",
     "text": [
      "[[False False False]\n",
      " [False  True False]\n",
      " [False False False]]\n",
      "[[False  True False]\n",
      " [False False  True]\n",
      " [False  True False]]\n",
      "[[False False False]\n",
      " [ True False False]\n",
      " [False False  True]]\n",
      "[[False False False]\n",
      " [ True False False]\n",
      " [False False False]]\n"
     ]
    }
   ],
   "source": [
    "import numpy as np\n",
    "\n",
    "def dividir_matriu(matrix, separator=-1):\n",
    "    separator_index = np.where(matrix[0] == separator)[0][0]\n",
    "    left = matrix[:, :separator_index]\n",
    "    right = matrix[:, separator_index + 1:]\n",
    "    return left, right\n",
    "\n",
    "def unio_matriu(left, right):\n",
    "    return np.logical_and(left, right)\n",
    "\n",
    "matriu1 = np.array([\n",
    "\t[1, 0, 0, -1, 0, 1, 0],\n",
    "\t[0, 1, 0, -1, 1, 1, 1],\n",
    "\t[1, 0, 0, -1, 0, 0, 0]\n",
    "])\n",
    "\n",
    "m1div1, m1div2 = dividir_matriu(matriu1)\n",
    "resposta1 = unio_matriu(m1div1, m1div2)\n",
    "\n",
    "matriu2 = np.array([\n",
    "\t[1, 1, 0, -1, 0, 1, 0],\n",
    "\t[0, 0, 1, -1, 1, 1, 1],\n",
    "\t[1, 1, 0, -1, 0, 1, 0]\n",
    "])\n",
    "\n",
    "m2div1, m2div2 = dividir_matriu(matriu2)\n",
    "resposta2 = unio_matriu(m2div1, m2div2)\n",
    "\n",
    "matriu3 = np.array([\n",
    "\t[0, 0, 1, -1, 0, 0, 0],\n",
    "\t[1, 1, 0, -1, 1, 0, 1],\n",
    "\t[0, 1, 1, -1, 1, 0, 1]\n",
    "])\n",
    "\n",
    "m3div1, m3div2 = dividir_matriu(matriu3)\n",
    "resposta3 = unio_matriu(m3div1, m3div2)\n",
    "\n",
    "test = np.array([\n",
    "    [0, 1, 0, -1, 0, 0, 0],\n",
    "    [1, 1, 0, -1, 1, 0, 1],\n",
    "    [0, 1, 0, -1, 0, 0, 1]\n",
    "])\n",
    "\n",
    "testdiv1, testdiv2 = dividir_matriu(test)\n",
    "respostatest = unio_matriu(testdiv1, testdiv2)\n",
    "\n",
    "print(resposta1)\n",
    "print(resposta2)\n",
    "print(resposta3)\n",
    "print(respostatest)"
   ]
  },
  {
   "cell_type": "code",
   "execution_count": null,
   "metadata": {},
   "outputs": [
    {
     "data": {
      "image/png": "[encoded data removed]",
      "text/plain": [
       "<Figure size 300x300 with 1 Axes>"
      ]
     },
     "metadata": {},
     "output_type": "display_data"
    },
    {
     "data": {
      "image/png": "[encoded data removed]",
      "text/plain": [
       "<Figure size 300x300 with 1 Axes>"
      ]
     },
     "metadata": {},
     "output_type": "display_data"
    },
    {
     "data": {
      "image/png": "[encoded data removed]",
      "text/plain": [
       "<Figure size 300x300 with 1 Axes>"
      ]
     },
     "metadata": {},
     "output_type": "display_data"
    },
    {
     "data": {
      "image/png": "[encoded data removed]",
      "text/plain": [
       "<Figure size 300x300 with 1 Axes>"
      ]
     },
     "metadata": {},
     "output_type": "display_data"
    }
   ],
   "source": [
    "import matplotlib.pyplot as plt\n",
    "import matplotlib.colors as mcolors\n",
    "\n",
    "def plot_solution(grid, title):\n",
    "    rows, cols = grid.shape\n",
    "    plt.figure(figsize=(cols, rows))\n",
    "    cmap = mcolors.ListedColormap(['#78716c', '#ef4444'])\n",
    "    bounds = [0, 0.5, 1]\n",
    "    norm = mcolors.BoundaryNorm(bounds, cmap.N)\n",
    "\n",
    "    plt.imshow(grid, cmap=cmap, norm=norm, origin='upper')\n",
    "    # Add grid lines\n",
    "    for r in range(rows + 1):\n",
    "        plt.axhline(r - 0.5, color='white', linewidth=0.5)\n",
    "    for c in range(cols + 1):\n",
    "        plt.axvline(c - 0.5, color='white', linewidth=0.5)\n",
    "\n",
    "    # Remove ticks from axis\n",
    "    plt.xticks([])\n",
    "    plt.yticks([])\n",
    "    plt.tick_params(which='both', bottom=False, left=False)\n",
    "    plt.title(title)\n",
    "    plt.show()\n",
    "\n",
    "plot_solution(resposta1, 'Resposta 1')\n",
    "plot_solution(resposta2, 'Resposta 2')\n",
    "plot_solution(resposta3, 'Resposta 3')\n",
    "plot_solution(respostatest, 'Resposta 4')"
   ]
  }
 ],
 "metadata": {
  "kernelspec": {
   "display_name": "Python 3",
   "language": "python",
   "name": "python3"
  },
  "language_info": {
   "codemirror_mode": {
    "name": "ipython",
    "version": 3
   },
   "file_extension": ".py",
   "mimetype": "text/x-python",
   "name": "python",
   "nbconvert_exporter": "python",
   "pygments_lexer": "ipython3",
   "version": "3.11.9"
  }
 },
 "nbformat": 4,
 "nbformat_minor": 2
}
