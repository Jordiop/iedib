{
  "cells": [
    {
      "cell_type": "markdown",
      "metadata": {
        "id": "iKNI7TEY70zb"
      },
      "source": [
        "# A walk through latent space with Stable Diffusion\n",
        "\n",
        "**Authors:** Ian Stenbit, [fchollet](https://twitter.com/fchollet), [lukewood](https://twitter.com/luke_wood_ml)<br>\n",
        "**Date created:** 2022/09/28<br>\n",
        "**Last modified:** 2022/09/28<br>\n",
        "**Description:** Explore the latent manifold of Stable Diffusion."
      ]
    },
    {
      "cell_type": "markdown",
      "metadata": {
        "id": "GCj-Dzpx70zd"
      },
      "source": [
        "## Overview\n",
        "\n",
        "Generative image models learn a \"latent manifold\" of the visual world:\n",
        "a low-dimensional vector space where each point maps to an image.\n",
        "Going from such a point on the manifold back to a displayable image\n",
        "is called \"decoding\" -- in the Stable Diffusion model, this is handled by\n",
        "the \"decoder\" model.\n",
        "\n",
        "![The Stable Diffusion architecture](https://i.imgur.com/2uC8rYJ.png)\n",
        "\n",
        "This latent manifold of images is continuous and interpolative, meaning that:\n",
        "\n",
        "1. Moving a little on the manifold only changes the corresponding image a little (continuity).\n",
        "2. For any two points A and B on the manifold (i.e. any two images), it is possible\n",
        "to move from A to B via a path where each intermediate point is also on the manifold (i.e.\n",
        "is also a valid image). Intermediate points would be called \"interpolations\" between\n",
        "the two starting images.\n",
        "\n",
        "Stable Diffusion isn't just an image model, though, it's also a natural language model.\n",
        "It has two latent spaces: the image representation space learned by the\n",
        "encoder used during training, and the prompt latent space\n",
        "which is learned using a combination of pretraining and training-time\n",
        "fine-tuning.\n",
        "\n",
        "_Latent space walking_, or _latent space exploration_, is the process of\n",
        "sampling a point in latent space and incrementally changing the latent\n",
        "representation. Its most common application is generating animations\n",
        "where each sampled point is fed to the decoder and is stored as a\n",
        "frame in the final animation.\n",
        "For high-quality latent representations, this produces coherent-looking\n",
        "animations. These animations can provide insight into the feature map of the\n",
        "latent space, and can ultimately lead to improvements in the training\n",
        "process. One such GIF is displayed below:\n",
        "\n",
        "![Panda to Plane](/img/examples/generative/random_walks_with_stable_diffusion/panda2plane.gif)\n",
        "\n",
        "In this guide, we will show how to take advantage of the Stable Diffusion API\n",
        "in KerasCV to perform prompt interpolation and circular walks through\n",
        "Stable Diffusion's visual latent manifold, as well as through\n",
        "the text encoder's latent manifold.\n",
        "\n",
        "This guide assumes the reader has a\n",
        "high-level understanding of Stable Diffusion.\n",
        "If you haven't already, you should start\n",
        "by reading the [Stable Diffusion Tutorial](https://keras.io/guides/keras_cv/generate_images_with_stable_diffusion/).\n",
        "\n",
        "To start, we import KerasCV and load up a Stable Diffusion model using the\n",
        "optimizations discussed in the tutorial\n",
        "[Generate images with Stable Diffusion](https://keras.io/guides/keras_cv/generate_images_with_stable_diffusion/).\n",
        "Note that if you are running with a M1 Mac GPU you should not enable mixed precision."
      ]
    },
    {
      "cell_type": "code",
      "execution_count": 3,
      "metadata": {
        "colab": {
          "base_uri": "https://localhost:8080/"
        },
        "id": "tpQA2hhu70zf",
        "outputId": "e089f887-04cd-4022-f192-94832a293957"
      },
      "outputs": [
        {
          "name": "stdout",
          "output_type": "stream",
          "text": [
            "  \u001b[1;31merror\u001b[0m: \u001b[1msubprocess-exited-with-error\u001b[0m\n",
            "  \n",
            "  \u001b[31m×\u001b[0m \u001b[32mpython setup.py bdist_wheel\u001b[0m did not run successfully.\n",
            "  \u001b[31m│\u001b[0m exit code: \u001b[1;36m1\u001b[0m\n",
            "  \u001b[31m╰─>\u001b[0m \u001b[31m[64 lines of output]\u001b[0m\n",
            "  \u001b[31m   \u001b[0m /Users/jordiop/Desktop/iedib/.venv/lib/python3.10/site-packages/setuptools/_distutils/dist.py:261: UserWarning: Unknown distribution option: 'test_suite'\n",
            "  \u001b[31m   \u001b[0m   warnings.warn(msg)\n",
            "  \u001b[31m   \u001b[0m running bdist_wheel\n",
            "  \u001b[31m   \u001b[0m running build\n",
            "  \u001b[31m   \u001b[0m running build_py\n",
            "  \u001b[31m   \u001b[0m creating build/lib.macosx-15-arm64-cpython-310/tree\n",
            "  \u001b[31m   \u001b[0m copying tree/sequence.py -> build/lib.macosx-15-arm64-cpython-310/tree\n",
            "  \u001b[31m   \u001b[0m copying tree/__init__.py -> build/lib.macosx-15-arm64-cpython-310/tree\n",
            "  \u001b[31m   \u001b[0m copying tree/tree_test.py -> build/lib.macosx-15-arm64-cpython-310/tree\n",
            "  \u001b[31m   \u001b[0m copying tree/tree_benchmark.py -> build/lib.macosx-15-arm64-cpython-310/tree\n",
            "  \u001b[31m   \u001b[0m running build_ext\n",
            "  \u001b[31m   \u001b[0m Traceback (most recent call last):\n",
            "  \u001b[31m   \u001b[0m   File \"/private/var/folders/71/5mtxxc3d6kj3p5xfbvh_mbp00000gn/T/pip-install-tk9vwap9/dm-tree_7686b5ab98bf492f945273a7c5624a79/setup.py\", line 69, in _check_build_environment\n",
            "  \u001b[31m   \u001b[0m     subprocess.check_call(['cmake', '--version'])\n",
            "  \u001b[31m   \u001b[0m   File \"/opt/homebrew/Cellar/python@3.10/3.10.16/Frameworks/Python.framework/Versions/3.10/lib/python3.10/subprocess.py\", line 364, in check_call\n",
            "  \u001b[31m   \u001b[0m     retcode = call(*popenargs, **kwargs)\n",
            "  \u001b[31m   \u001b[0m   File \"/opt/homebrew/Cellar/python@3.10/3.10.16/Frameworks/Python.framework/Versions/3.10/lib/python3.10/subprocess.py\", line 345, in call\n",
            "  \u001b[31m   \u001b[0m     with Popen(*popenargs, **kwargs) as p:\n",
            "  \u001b[31m   \u001b[0m   File \"/opt/homebrew/Cellar/python@3.10/3.10.16/Frameworks/Python.framework/Versions/3.10/lib/python3.10/subprocess.py\", line 971, in __init__\n",
            "  \u001b[31m   \u001b[0m     self._execute_child(args, executable, preexec_fn, close_fds,\n",
            "  \u001b[31m   \u001b[0m   File \"/opt/homebrew/Cellar/python@3.10/3.10.16/Frameworks/Python.framework/Versions/3.10/lib/python3.10/subprocess.py\", line 1863, in _execute_child\n",
            "  \u001b[31m   \u001b[0m     raise child_exception_type(errno_num, err_msg, err_filename)\n",
            "  \u001b[31m   \u001b[0m FileNotFoundError: [Errno 2] No such file or directory: 'cmake'\n",
            "  \u001b[31m   \u001b[0m \n",
            "  \u001b[31m   \u001b[0m The above exception was the direct cause of the following exception:\n",
            "  \u001b[31m   \u001b[0m \n",
            "  \u001b[31m   \u001b[0m Traceback (most recent call last):\n",
            "  \u001b[31m   \u001b[0m   File \"<string>\", line 2, in <module>\n",
            "  \u001b[31m   \u001b[0m   File \"<pip-setuptools-caller>\", line 34, in <module>\n",
            "  \u001b[31m   \u001b[0m   File \"/private/var/folders/71/5mtxxc3d6kj3p5xfbvh_mbp00000gn/T/pip-install-tk9vwap9/dm-tree_7686b5ab98bf492f945273a7c5624a79/setup.py\", line 119, in <module>\n",
            "  \u001b[31m   \u001b[0m     setuptools.setup(\n",
            "  \u001b[31m   \u001b[0m   File \"/Users/jordiop/Desktop/iedib/.venv/lib/python3.10/site-packages/setuptools/__init__.py\", line 117, in setup\n",
            "  \u001b[31m   \u001b[0m     return distutils.core.setup(**attrs)\n",
            "  \u001b[31m   \u001b[0m   File \"/Users/jordiop/Desktop/iedib/.venv/lib/python3.10/site-packages/setuptools/_distutils/core.py\", line 183, in setup\n",
            "  \u001b[31m   \u001b[0m     return run_commands(dist)\n",
            "  \u001b[31m   \u001b[0m   File \"/Users/jordiop/Desktop/iedib/.venv/lib/python3.10/site-packages/setuptools/_distutils/core.py\", line 199, in run_commands\n",
            "  \u001b[31m   \u001b[0m     dist.run_commands()\n",
            "  \u001b[31m   \u001b[0m   File \"/Users/jordiop/Desktop/iedib/.venv/lib/python3.10/site-packages/setuptools/_distutils/dist.py\", line 954, in run_commands\n",
            "  \u001b[31m   \u001b[0m     self.run_command(cmd)\n",
            "  \u001b[31m   \u001b[0m   File \"/Users/jordiop/Desktop/iedib/.venv/lib/python3.10/site-packages/setuptools/dist.py\", line 995, in run_command\n",
            "  \u001b[31m   \u001b[0m     super().run_command(command)\n",
            "  \u001b[31m   \u001b[0m   File \"/Users/jordiop/Desktop/iedib/.venv/lib/python3.10/site-packages/setuptools/_distutils/dist.py\", line 973, in run_command\n",
            "  \u001b[31m   \u001b[0m     cmd_obj.run()\n",
            "  \u001b[31m   \u001b[0m   File \"/Users/jordiop/Desktop/iedib/.venv/lib/python3.10/site-packages/setuptools/command/bdist_wheel.py\", line 381, in run\n",
            "  \u001b[31m   \u001b[0m     self.run_command(\"build\")\n",
            "  \u001b[31m   \u001b[0m   File \"/Users/jordiop/Desktop/iedib/.venv/lib/python3.10/site-packages/setuptools/_distutils/cmd.py\", line 316, in run_command\n",
            "  \u001b[31m   \u001b[0m     self.distribution.run_command(command)\n",
            "  \u001b[31m   \u001b[0m   File \"/Users/jordiop/Desktop/iedib/.venv/lib/python3.10/site-packages/setuptools/dist.py\", line 995, in run_command\n",
            "  \u001b[31m   \u001b[0m     super().run_command(command)\n",
            "  \u001b[31m   \u001b[0m   File \"/Users/jordiop/Desktop/iedib/.venv/lib/python3.10/site-packages/setuptools/_distutils/dist.py\", line 973, in run_command\n",
            "  \u001b[31m   \u001b[0m     cmd_obj.run()\n",
            "  \u001b[31m   \u001b[0m   File \"/Users/jordiop/Desktop/iedib/.venv/lib/python3.10/site-packages/setuptools/_distutils/command/build.py\", line 135, in run\n",
            "  \u001b[31m   \u001b[0m     self.run_command(cmd_name)\n",
            "  \u001b[31m   \u001b[0m   File \"/Users/jordiop/Desktop/iedib/.venv/lib/python3.10/site-packages/setuptools/_distutils/cmd.py\", line 316, in run_command\n",
            "  \u001b[31m   \u001b[0m     self.distribution.run_command(command)\n",
            "  \u001b[31m   \u001b[0m   File \"/Users/jordiop/Desktop/iedib/.venv/lib/python3.10/site-packages/setuptools/dist.py\", line 995, in run_command\n",
            "  \u001b[31m   \u001b[0m     super().run_command(command)\n",
            "  \u001b[31m   \u001b[0m   File \"/Users/jordiop/Desktop/iedib/.venv/lib/python3.10/site-packages/setuptools/_distutils/dist.py\", line 973, in run_command\n",
            "  \u001b[31m   \u001b[0m     cmd_obj.run()\n",
            "  \u001b[31m   \u001b[0m   File \"/private/var/folders/71/5mtxxc3d6kj3p5xfbvh_mbp00000gn/T/pip-install-tk9vwap9/dm-tree_7686b5ab98bf492f945273a7c5624a79/setup.py\", line 62, in run\n",
            "  \u001b[31m   \u001b[0m     self._check_build_environment()\n",
            "  \u001b[31m   \u001b[0m   File \"/private/var/folders/71/5mtxxc3d6kj3p5xfbvh_mbp00000gn/T/pip-install-tk9vwap9/dm-tree_7686b5ab98bf492f945273a7c5624a79/setup.py\", line 72, in _check_build_environment\n",
            "  \u001b[31m   \u001b[0m     raise RuntimeError(\n",
            "  \u001b[31m   \u001b[0m RuntimeError: CMake must be installed to build the following extensions: _tree\n",
            "  \u001b[31m   \u001b[0m \u001b[31m[end of output]\u001b[0m\n",
            "  \n",
            "  \u001b[1;35mnote\u001b[0m: This error originates from a subprocess, and is likely not a problem with pip.\n",
            "\u001b[31m  ERROR: Failed building wheel for dm-tree\u001b[0m\u001b[31m\n",
            "\u001b[0m\u001b[31mERROR: Failed to build installable wheels for some pyproject.toml based projects (dm-tree)\u001b[0m\u001b[31m\n",
            "\u001b[0m"
          ]
        }
      ],
      "source": [
        "!pip install keras-cv --upgrade --quiet"
      ]
    },
    {
      "cell_type": "code",
      "execution_count": 4,
      "metadata": {
        "colab": {
          "base_uri": "https://localhost:8080/"
        },
        "id": "tTFkrqLp70zg",
        "outputId": "161f71b8-41bf-4561-c9ff-1b1bc096d758"
      },
      "outputs": [
        {
          "ename": "ModuleNotFoundError",
          "evalue": "No module named 'keras_cv'",
          "output_type": "error",
          "traceback": [
            "\u001b[0;31m---------------------------------------------------------------------------\u001b[0m",
            "\u001b[0;31mModuleNotFoundError\u001b[0m                       Traceback (most recent call last)",
            "Cell \u001b[0;32mIn[4], line 1\u001b[0m\n\u001b[0;32m----> 1\u001b[0m \u001b[38;5;28;01mimport\u001b[39;00m\u001b[38;5;250m \u001b[39m\u001b[38;5;21;01mkeras_cv\u001b[39;00m\n\u001b[1;32m      2\u001b[0m \u001b[38;5;28;01mimport\u001b[39;00m\u001b[38;5;250m \u001b[39m\u001b[38;5;21;01mkeras\u001b[39;00m\n\u001b[1;32m      3\u001b[0m \u001b[38;5;28;01mimport\u001b[39;00m\u001b[38;5;250m \u001b[39m\u001b[38;5;21;01mmatplotlib\u001b[39;00m\u001b[38;5;21;01m.\u001b[39;00m\u001b[38;5;21;01mpyplot\u001b[39;00m\u001b[38;5;250m \u001b[39m\u001b[38;5;28;01mas\u001b[39;00m\u001b[38;5;250m \u001b[39m\u001b[38;5;21;01mplt\u001b[39;00m\n",
            "\u001b[0;31mModuleNotFoundError\u001b[0m: No module named 'keras_cv'"
          ]
        }
      ],
      "source": [
        "import keras_cv\n",
        "import keras\n",
        "import matplotlib.pyplot as plt\n",
        "from keras import ops\n",
        "import numpy as np\n",
        "import math\n",
        "from PIL import Image\n",
        "\n",
        "# Enable mixed precision\n",
        "# (only do this if you have a recent NVIDIA GPU)\n",
        "# keras.mixed_precision.set_global_policy(\"mixed_float16\")\n",
        "\n",
        "# Instantiate the Stable Diffusion model\n",
        "model = keras_cv.models.StableDiffusion(jit_compile=True)"
      ]
    },
    {
      "cell_type": "markdown",
      "metadata": {
        "id": "RNYtdQfv70zh"
      },
      "source": [
        "## Interpolating between text prompts\n",
        "\n",
        "In Stable Diffusion, a text prompt is first encoded into a vector,\n",
        "and that encoding is used to guide the diffusion process.\n",
        "The latent encoding vector has shape\n",
        "77x768 (that's huge!), and when we give Stable Diffusion a text prompt, we're\n",
        "generating images from just one such point on the latent manifold.\n",
        "\n",
        "To explore more of this manifold, we can interpolate between two text encodings\n",
        "and generate images at those interpolated points:"
      ]
    },
    {
      "cell_type": "code",
      "execution_count": null,
      "metadata": {
        "colab": {
          "base_uri": "https://localhost:8080/",
          "height": 885
        },
        "id": "17ompJsx70zh",
        "outputId": "856b502f-c92c-40bd-b8eb-7c127c2593ca"
      },
      "outputs": [
        {
          "name": "stderr",
          "output_type": "stream",
          "text": [
            "/usr/local/lib/python3.11/dist-packages/keras/src/layers/layer.py:1387: UserWarning: Layer 'clip_encoder_layer_5' looks like it has unbuilt state, but Keras is not able to trace the layer `call()` in order to build it automatically. Possible causes:\n",
            "1. The `call()` method of your layer may be crashing. Try to `__call__()` the layer eagerly on some test input first to see if it works. E.g. `x = np.random.random((3, 4)); y = layer(x)`\n",
            "2. If the `call()` method is correct, then you may need to implement the `def build(self, input_shape)` method on your layer. It should create all variables used by the layer (e.g. by calling `layer.build()` on all its children layers).\n",
            "Exception encountered: ''Exception encountered when calling CLIPAttention.call().\n",
            "\n",
            "\u001b[1mpred must not be a Python bool\u001b[0m\n",
            "\n",
            "Arguments received by CLIPAttention.call():\n",
            "  • inputs=tf.Tensor(shape=(None, 77, 768), dtype=float16)\n",
            "  • attention_mask=None''\n",
            "  warnings.warn(\n",
            "/usr/local/lib/python3.11/dist-packages/keras/src/layers/layer.py:393: UserWarning: `build()` was called on layer 'clip_encoder_layer_5', however the layer does not have a `build()` method implemented and it looks like it has unbuilt state. This will cause the layer to be marked as built, despite not being actually built, which may cause failures down the line. Make sure to implement a proper `build()` method.\n",
            "  warnings.warn(\n"
          ]
        },
        {
          "ename": "TypeError",
          "evalue": "Exception encountered when calling CLIPEncoderLayer.call().\n\n\u001b[1mCould not automatically infer the output shape / dtype of 'clip_encoder_layer_5' (of type CLIPEncoderLayer). Either the `CLIPEncoderLayer.call()` method is incorrect, or you need to implement the `CLIPEncoderLayer.compute_output_spec() / compute_output_shape()` method. Error encountered:\n\nException encountered when calling CLIPAttention.call().\n\n\u001b[1mpred must not be a Python bool\u001b[0m\n\nArguments received by CLIPAttention.call():\n  • inputs=tf.Tensor(shape=(None, 77, 768), dtype=float16)\n  • attention_mask=None\u001b[0m\n\nArguments received by CLIPEncoderLayer.call():\n  • args=('<KerasTensor shape=(None, 77, 768), dtype=float16, sparse=False, name=keras_tensor_11>',)\n  • kwargs=<class 'inspect._empty'>",
          "output_type": "error",
          "traceback": [
            "\u001b[0;31m---------------------------------------------------------------------------\u001b[0m",
            "\u001b[0;31mTypeError\u001b[0m                                 Traceback (most recent call last)",
            "\u001b[0;32m<ipython-input-11-fef23049d58c>\u001b[0m in \u001b[0;36m<cell line: 0>\u001b[0;34m()\u001b[0m\n\u001b[1;32m      3\u001b[0m \u001b[0minterpolation_steps\u001b[0m \u001b[0;34m=\u001b[0m \u001b[0;36m5\u001b[0m\u001b[0;34m\u001b[0m\u001b[0;34m\u001b[0m\u001b[0m\n\u001b[1;32m      4\u001b[0m \u001b[0;34m\u001b[0m\u001b[0m\n\u001b[0;32m----> 5\u001b[0;31m \u001b[0mencoding_1\u001b[0m \u001b[0;34m=\u001b[0m \u001b[0mops\u001b[0m\u001b[0;34m.\u001b[0m\u001b[0msqueeze\u001b[0m\u001b[0;34m(\u001b[0m\u001b[0mmodel\u001b[0m\u001b[0;34m.\u001b[0m\u001b[0mencode_text\u001b[0m\u001b[0;34m(\u001b[0m\u001b[0mprompt_1\u001b[0m\u001b[0;34m)\u001b[0m\u001b[0;34m)\u001b[0m\u001b[0;34m\u001b[0m\u001b[0;34m\u001b[0m\u001b[0m\n\u001b[0m\u001b[1;32m      6\u001b[0m \u001b[0mencoding_2\u001b[0m \u001b[0;34m=\u001b[0m \u001b[0mops\u001b[0m\u001b[0;34m.\u001b[0m\u001b[0msqueeze\u001b[0m\u001b[0;34m(\u001b[0m\u001b[0mmodel\u001b[0m\u001b[0;34m.\u001b[0m\u001b[0mencode_text\u001b[0m\u001b[0;34m(\u001b[0m\u001b[0mprompt_2\u001b[0m\u001b[0;34m)\u001b[0m\u001b[0;34m)\u001b[0m\u001b[0;34m\u001b[0m\u001b[0;34m\u001b[0m\u001b[0m\n\u001b[1;32m      7\u001b[0m \u001b[0;34m\u001b[0m\u001b[0m\n",
            "\u001b[0;32m/usr/local/lib/python3.11/dist-packages/keras_cv/src/models/stable_diffusion/stable_diffusion.py\u001b[0m in \u001b[0;36mencode_text\u001b[0;34m(self, prompt)\u001b[0m\n\u001b[1;32m    123\u001b[0m         \u001b[0mphrase\u001b[0m \u001b[0;34m=\u001b[0m \u001b[0mops\u001b[0m\u001b[0;34m.\u001b[0m\u001b[0mconvert_to_tensor\u001b[0m\u001b[0;34m(\u001b[0m\u001b[0;34m[\u001b[0m\u001b[0mphrase\u001b[0m\u001b[0;34m]\u001b[0m\u001b[0;34m,\u001b[0m \u001b[0mdtype\u001b[0m\u001b[0;34m=\u001b[0m\u001b[0;34m\"int32\"\u001b[0m\u001b[0;34m)\u001b[0m\u001b[0;34m\u001b[0m\u001b[0;34m\u001b[0m\u001b[0m\n\u001b[1;32m    124\u001b[0m \u001b[0;34m\u001b[0m\u001b[0m\n\u001b[0;32m--> 125\u001b[0;31m         context = self.text_encoder.predict_on_batch(\n\u001b[0m\u001b[1;32m    126\u001b[0m             \u001b[0;34m{\u001b[0m\u001b[0;34m\"tokens\"\u001b[0m\u001b[0;34m:\u001b[0m \u001b[0mphrase\u001b[0m\u001b[0;34m,\u001b[0m \u001b[0;34m\"positions\"\u001b[0m\u001b[0;34m:\u001b[0m \u001b[0mself\u001b[0m\u001b[0;34m.\u001b[0m\u001b[0m_get_pos_ids\u001b[0m\u001b[0;34m(\u001b[0m\u001b[0;34m)\u001b[0m\u001b[0;34m}\u001b[0m\u001b[0;34m\u001b[0m\u001b[0;34m\u001b[0m\u001b[0m\n\u001b[1;32m    127\u001b[0m         )\n",
            "\u001b[0;32m/usr/local/lib/python3.11/dist-packages/keras_cv/src/models/stable_diffusion/stable_diffusion.py\u001b[0m in \u001b[0;36mtext_encoder\u001b[0;34m(self)\u001b[0m\n\u001b[1;32m    425\u001b[0m         \"\"\"\n\u001b[1;32m    426\u001b[0m         \u001b[0;32mif\u001b[0m \u001b[0mself\u001b[0m\u001b[0;34m.\u001b[0m\u001b[0m_text_encoder\u001b[0m \u001b[0;32mis\u001b[0m \u001b[0;32mNone\u001b[0m\u001b[0;34m:\u001b[0m\u001b[0;34m\u001b[0m\u001b[0;34m\u001b[0m\u001b[0m\n\u001b[0;32m--> 427\u001b[0;31m             \u001b[0mself\u001b[0m\u001b[0;34m.\u001b[0m\u001b[0m_text_encoder\u001b[0m \u001b[0;34m=\u001b[0m \u001b[0mTextEncoder\u001b[0m\u001b[0;34m(\u001b[0m\u001b[0mMAX_PROMPT_LENGTH\u001b[0m\u001b[0;34m)\u001b[0m\u001b[0;34m\u001b[0m\u001b[0;34m\u001b[0m\u001b[0m\n\u001b[0m\u001b[1;32m    428\u001b[0m             \u001b[0;32mif\u001b[0m \u001b[0mself\u001b[0m\u001b[0;34m.\u001b[0m\u001b[0mjit_compile\u001b[0m\u001b[0;34m:\u001b[0m\u001b[0;34m\u001b[0m\u001b[0;34m\u001b[0m\u001b[0m\n\u001b[1;32m    429\u001b[0m                 \u001b[0mself\u001b[0m\u001b[0;34m.\u001b[0m\u001b[0m_text_encoder\u001b[0m\u001b[0;34m.\u001b[0m\u001b[0mcompile\u001b[0m\u001b[0;34m(\u001b[0m\u001b[0mjit_compile\u001b[0m\u001b[0;34m=\u001b[0m\u001b[0;32mTrue\u001b[0m\u001b[0;34m)\u001b[0m\u001b[0;34m\u001b[0m\u001b[0;34m\u001b[0m\u001b[0m\n",
            "\u001b[0;32m/usr/local/lib/python3.11/dist-packages/keras_cv/src/models/stable_diffusion/text_encoder.py\u001b[0m in \u001b[0;36m__init__\u001b[0;34m(self, max_length, vocab_size, name, download_weights)\u001b[0m\n\u001b[1;32m     31\u001b[0m         \u001b[0mx\u001b[0m \u001b[0;34m=\u001b[0m \u001b[0mCLIPEmbedding\u001b[0m\u001b[0;34m(\u001b[0m\u001b[0mvocab_size\u001b[0m\u001b[0;34m,\u001b[0m \u001b[0;36m768\u001b[0m\u001b[0;34m,\u001b[0m \u001b[0mmax_length\u001b[0m\u001b[0;34m)\u001b[0m\u001b[0;34m(\u001b[0m\u001b[0;34m[\u001b[0m\u001b[0mtokens\u001b[0m\u001b[0;34m,\u001b[0m \u001b[0mpositions\u001b[0m\u001b[0;34m]\u001b[0m\u001b[0;34m)\u001b[0m\u001b[0;34m\u001b[0m\u001b[0;34m\u001b[0m\u001b[0m\n\u001b[1;32m     32\u001b[0m         \u001b[0;32mfor\u001b[0m \u001b[0m_\u001b[0m \u001b[0;32min\u001b[0m \u001b[0mrange\u001b[0m\u001b[0;34m(\u001b[0m\u001b[0;36m12\u001b[0m\u001b[0;34m)\u001b[0m\u001b[0;34m:\u001b[0m\u001b[0;34m\u001b[0m\u001b[0;34m\u001b[0m\u001b[0m\n\u001b[0;32m---> 33\u001b[0;31m             \u001b[0mx\u001b[0m \u001b[0;34m=\u001b[0m \u001b[0mCLIPEncoderLayer\u001b[0m\u001b[0;34m(\u001b[0m\u001b[0;36m768\u001b[0m\u001b[0;34m,\u001b[0m \u001b[0;36m12\u001b[0m\u001b[0;34m,\u001b[0m \u001b[0mactivation\u001b[0m\u001b[0;34m=\u001b[0m\u001b[0mquick_gelu\u001b[0m\u001b[0;34m)\u001b[0m\u001b[0;34m(\u001b[0m\u001b[0mx\u001b[0m\u001b[0;34m)\u001b[0m\u001b[0;34m\u001b[0m\u001b[0;34m\u001b[0m\u001b[0m\n\u001b[0m\u001b[1;32m     34\u001b[0m         \u001b[0membedded\u001b[0m \u001b[0;34m=\u001b[0m \u001b[0mkeras\u001b[0m\u001b[0;34m.\u001b[0m\u001b[0mlayers\u001b[0m\u001b[0;34m.\u001b[0m\u001b[0mLayerNormalization\u001b[0m\u001b[0;34m(\u001b[0m\u001b[0mepsilon\u001b[0m\u001b[0;34m=\u001b[0m\u001b[0;36m1e-5\u001b[0m\u001b[0;34m)\u001b[0m\u001b[0;34m(\u001b[0m\u001b[0mx\u001b[0m\u001b[0;34m)\u001b[0m\u001b[0;34m\u001b[0m\u001b[0;34m\u001b[0m\u001b[0m\n\u001b[1;32m     35\u001b[0m         \u001b[0msuper\u001b[0m\u001b[0;34m(\u001b[0m\u001b[0;34m)\u001b[0m\u001b[0;34m.\u001b[0m\u001b[0m__init__\u001b[0m\u001b[0;34m(\u001b[0m\u001b[0;34m[\u001b[0m\u001b[0mtokens\u001b[0m\u001b[0;34m,\u001b[0m \u001b[0mpositions\u001b[0m\u001b[0;34m]\u001b[0m\u001b[0;34m,\u001b[0m \u001b[0membedded\u001b[0m\u001b[0;34m,\u001b[0m \u001b[0mname\u001b[0m\u001b[0;34m=\u001b[0m\u001b[0mname\u001b[0m\u001b[0;34m)\u001b[0m\u001b[0;34m\u001b[0m\u001b[0;34m\u001b[0m\u001b[0m\n",
            "\u001b[0;32m/usr/local/lib/python3.11/dist-packages/keras/src/utils/traceback_utils.py\u001b[0m in \u001b[0;36merror_handler\u001b[0;34m(*args, **kwargs)\u001b[0m\n\u001b[1;32m    120\u001b[0m             \u001b[0;31m# To get the full stack trace, call:\u001b[0m\u001b[0;34m\u001b[0m\u001b[0;34m\u001b[0m\u001b[0m\n\u001b[1;32m    121\u001b[0m             \u001b[0;31m# `keras.config.disable_traceback_filtering()`\u001b[0m\u001b[0;34m\u001b[0m\u001b[0;34m\u001b[0m\u001b[0m\n\u001b[0;32m--> 122\u001b[0;31m             \u001b[0;32mraise\u001b[0m \u001b[0me\u001b[0m\u001b[0;34m.\u001b[0m\u001b[0mwith_traceback\u001b[0m\u001b[0;34m(\u001b[0m\u001b[0mfiltered_tb\u001b[0m\u001b[0;34m)\u001b[0m \u001b[0;32mfrom\u001b[0m \u001b[0;32mNone\u001b[0m\u001b[0;34m\u001b[0m\u001b[0;34m\u001b[0m\u001b[0m\n\u001b[0m\u001b[1;32m    123\u001b[0m         \u001b[0;32mfinally\u001b[0m\u001b[0;34m:\u001b[0m\u001b[0;34m\u001b[0m\u001b[0;34m\u001b[0m\u001b[0m\n\u001b[1;32m    124\u001b[0m             \u001b[0;32mdel\u001b[0m \u001b[0mfiltered_tb\u001b[0m\u001b[0;34m\u001b[0m\u001b[0;34m\u001b[0m\u001b[0m\n",
            "\u001b[0;32m/usr/local/lib/python3.11/dist-packages/keras_cv/src/models/stable_diffusion/text_encoder.py\u001b[0m in \u001b[0;36mcall\u001b[0;34m(self, inputs)\u001b[0m\n\u001b[1;32m    100\u001b[0m         \u001b[0mresidual\u001b[0m \u001b[0;34m=\u001b[0m \u001b[0minputs\u001b[0m\u001b[0;34m\u001b[0m\u001b[0;34m\u001b[0m\u001b[0m\n\u001b[1;32m    101\u001b[0m         \u001b[0mx\u001b[0m \u001b[0;34m=\u001b[0m \u001b[0mself\u001b[0m\u001b[0;34m.\u001b[0m\u001b[0mlayer_norm1\u001b[0m\u001b[0;34m(\u001b[0m\u001b[0minputs\u001b[0m\u001b[0;34m)\u001b[0m\u001b[0;34m\u001b[0m\u001b[0;34m\u001b[0m\u001b[0m\n\u001b[0;32m--> 102\u001b[0;31m         \u001b[0mx\u001b[0m \u001b[0;34m=\u001b[0m \u001b[0mself\u001b[0m\u001b[0;34m.\u001b[0m\u001b[0mclip_attn\u001b[0m\u001b[0;34m(\u001b[0m\u001b[0mx\u001b[0m\u001b[0;34m)\u001b[0m\u001b[0;34m\u001b[0m\u001b[0;34m\u001b[0m\u001b[0m\n\u001b[0m\u001b[1;32m    103\u001b[0m         \u001b[0mx\u001b[0m \u001b[0;34m=\u001b[0m \u001b[0mresidual\u001b[0m \u001b[0;34m+\u001b[0m \u001b[0mx\u001b[0m\u001b[0;34m\u001b[0m\u001b[0;34m\u001b[0m\u001b[0m\n\u001b[1;32m    104\u001b[0m         \u001b[0mresidual\u001b[0m \u001b[0;34m=\u001b[0m \u001b[0mx\u001b[0m\u001b[0;34m\u001b[0m\u001b[0;34m\u001b[0m\u001b[0m\n",
            "\u001b[0;32m/usr/local/lib/python3.11/dist-packages/keras_cv/src/models/stable_diffusion/text_encoder.py\u001b[0m in \u001b[0;36mcall\u001b[0;34m(self, inputs, attention_mask)\u001b[0m\n\u001b[1;32m    134\u001b[0m         \u001b[0;32mif\u001b[0m \u001b[0mattention_mask\u001b[0m \u001b[0;32mis\u001b[0m \u001b[0;32mNone\u001b[0m \u001b[0;32mand\u001b[0m \u001b[0mself\u001b[0m\u001b[0;34m.\u001b[0m\u001b[0mcausal\u001b[0m\u001b[0;34m:\u001b[0m\u001b[0;34m\u001b[0m\u001b[0;34m\u001b[0m\u001b[0m\n\u001b[1;32m    135\u001b[0m             \u001b[0mlength\u001b[0m \u001b[0;34m=\u001b[0m \u001b[0mops\u001b[0m\u001b[0;34m.\u001b[0m\u001b[0mshape\u001b[0m\u001b[0;34m(\u001b[0m\u001b[0minputs\u001b[0m\u001b[0;34m)\u001b[0m\u001b[0;34m[\u001b[0m\u001b[0;36m1\u001b[0m\u001b[0;34m]\u001b[0m\u001b[0;34m\u001b[0m\u001b[0;34m\u001b[0m\u001b[0m\n\u001b[0;32m--> 136\u001b[0;31m             attention_mask = ops.triu(\n\u001b[0m\u001b[1;32m    137\u001b[0m                 \u001b[0mops\u001b[0m\u001b[0;34m.\u001b[0m\u001b[0mones\u001b[0m\u001b[0;34m(\u001b[0m\u001b[0;34m(\u001b[0m\u001b[0;36m1\u001b[0m\u001b[0;34m,\u001b[0m \u001b[0;36m1\u001b[0m\u001b[0;34m,\u001b[0m \u001b[0mlength\u001b[0m\u001b[0;34m,\u001b[0m \u001b[0mlength\u001b[0m\u001b[0;34m)\u001b[0m\u001b[0;34m,\u001b[0m \u001b[0mdtype\u001b[0m\u001b[0;34m=\u001b[0m\u001b[0mself\u001b[0m\u001b[0;34m.\u001b[0m\u001b[0mcompute_dtype\u001b[0m\u001b[0;34m)\u001b[0m\u001b[0;34m\u001b[0m\u001b[0;34m\u001b[0m\u001b[0m\n\u001b[1;32m    138\u001b[0m                 \u001b[0;34m*\u001b[0m \u001b[0;34m-\u001b[0m\u001b[0mfloat\u001b[0m\u001b[0;34m(\u001b[0m\u001b[0;34m\"inf\"\u001b[0m\u001b[0;34m)\u001b[0m\u001b[0;34m,\u001b[0m\u001b[0;34m\u001b[0m\u001b[0;34m\u001b[0m\u001b[0m\n",
            "\u001b[0;31mTypeError\u001b[0m: Exception encountered when calling CLIPEncoderLayer.call().\n\n\u001b[1mCould not automatically infer the output shape / dtype of 'clip_encoder_layer_5' (of type CLIPEncoderLayer). Either the `CLIPEncoderLayer.call()` method is incorrect, or you need to implement the `CLIPEncoderLayer.compute_output_spec() / compute_output_shape()` method. Error encountered:\n\nException encountered when calling CLIPAttention.call().\n\n\u001b[1mpred must not be a Python bool\u001b[0m\n\nArguments received by CLIPAttention.call():\n  • inputs=tf.Tensor(shape=(None, 77, 768), dtype=float16)\n  • attention_mask=None\u001b[0m\n\nArguments received by CLIPEncoderLayer.call():\n  • args=('<KerasTensor shape=(None, 77, 768), dtype=float16, sparse=False, name=keras_tensor_11>',)\n  • kwargs=<class 'inspect._empty'>"
          ]
        }
      ],
      "source": [
        "prompt_1 = \"A lush rainforest with vibrant birds and flowing waterfalls\"\n",
        "prompt_2 = \"A futuristic cityscape with neon lights and flying vehicles\"\n",
        "interpolation_steps = 5\n",
        "\n",
        "encoding_1 = ops.squeeze(model.encode_text(prompt_1))\n",
        "encoding_2 = ops.squeeze(model.encode_text(prompt_2))\n",
        "\n",
        "interpolated_encodings = ops.linspace(encoding_1, encoding_2, interpolation_steps)\n",
        "\n",
        "# Show the size of the latent manifold\n",
        "print(f\"Encoding shape: {encoding_1.shape}\")"
      ]
    },
    {
      "cell_type": "markdown",
      "metadata": {
        "id": "POEyk8fW70zi"
      },
      "source": [
        "Once we've interpolated the encodings, we can generate images from each point.\n",
        "Note that in order to maintain some stability between the resulting images we\n",
        "keep the diffusion noise constant between images."
      ]
    },
    {
      "cell_type": "code",
      "execution_count": null,
      "metadata": {
        "colab": {
          "base_uri": "https://localhost:8080/",
          "height": 216
        },
        "id": "QtGaSk3G70zj",
        "outputId": "acc38d59-3bd4-43cd-b8db-a23dbb00dc15"
      },
      "outputs": [
        {
          "ename": "NameError",
          "evalue": "name 'interpolated_encodings' is not defined",
          "output_type": "error",
          "traceback": [
            "\u001b[0;31m---------------------------------------------------------------------------\u001b[0m",
            "\u001b[0;31mNameError\u001b[0m                                 Traceback (most recent call last)",
            "\u001b[0;32m<ipython-input-10-765b913b4a6f>\u001b[0m in \u001b[0;36m<cell line: 0>\u001b[0;34m()\u001b[0m\n\u001b[1;32m      3\u001b[0m \u001b[0;34m\u001b[0m\u001b[0m\n\u001b[1;32m      4\u001b[0m images = model.generate_image(\n\u001b[0;32m----> 5\u001b[0;31m     \u001b[0minterpolated_encodings\u001b[0m\u001b[0;34m,\u001b[0m\u001b[0;34m\u001b[0m\u001b[0;34m\u001b[0m\u001b[0m\n\u001b[0m\u001b[1;32m      6\u001b[0m     \u001b[0mbatch_size\u001b[0m\u001b[0;34m=\u001b[0m\u001b[0minterpolation_steps\u001b[0m\u001b[0;34m,\u001b[0m\u001b[0;34m\u001b[0m\u001b[0;34m\u001b[0m\u001b[0m\n\u001b[1;32m      7\u001b[0m     \u001b[0mdiffusion_noise\u001b[0m\u001b[0;34m=\u001b[0m\u001b[0mnoise\u001b[0m\u001b[0;34m,\u001b[0m\u001b[0;34m\u001b[0m\u001b[0;34m\u001b[0m\u001b[0m\n",
            "\u001b[0;31mNameError\u001b[0m: name 'interpolated_encodings' is not defined"
          ]
        }
      ],
      "source": [
        "seed = 12345\n",
        "noise = keras.random.normal((512 // 8, 512 // 8, 4), seed=seed)\n",
        "\n",
        "images = model.generate_image(\n",
        "    interpolated_encodings,\n",
        "    batch_size=interpolation_steps,\n",
        "    diffusion_noise=noise,\n",
        ")"
      ]
    },
    {
      "cell_type": "markdown",
      "metadata": {
        "id": "aPbGzscI70zk"
      },
      "source": [
        "Now that we've generated some interpolated images, let's take a look at them!\n",
        "\n",
        "Throughout this tutorial, we're going to export sequences of images as gifs so\n",
        "that they can be easily viewed with some temporal context. For sequences of\n",
        "images where the first and last images don't match conceptually, we rubber-band\n",
        "the gif.\n",
        "\n",
        "If you're running in Colab, you can view your own GIFs by running:\n",
        "\n",
        "```\n",
        "from IPython.display import Image as IImage\n",
        "IImage(\"doggo-and-fruit-5.gif\")\n",
        "```"
      ]
    },
    {
      "cell_type": "code",
      "execution_count": null,
      "metadata": {
        "id": "Er43zhX_70zl"
      },
      "outputs": [],
      "source": [
        "\n",
        "def export_as_gif(filename, images, frames_per_second=10, rubber_band=False):\n",
        "    if rubber_band:\n",
        "        images += images[2:-1][::-1]\n",
        "    images[0].save(\n",
        "        filename,\n",
        "        save_all=True,\n",
        "        append_images=images[1:],\n",
        "        duration=1000 // frames_per_second,\n",
        "        loop=0,\n",
        "    )\n",
        "\n",
        "\n",
        "export_as_gif(\n",
        "    \"doggo-and-fruit-5.gif\",\n",
        "    [Image.fromarray(img) for img in images],\n",
        "    frames_per_second=2,\n",
        "    rubber_band=True,\n",
        ")"
      ]
    },
    {
      "cell_type": "markdown",
      "metadata": {
        "id": "Ex-CwKFy70zl"
      },
      "source": [
        "![Dog to Fruit 5](https://i.imgur.com/4ZCxZY4.gif)\n",
        "\n",
        "The results may seem surprising. Generally, interpolating between prompts\n",
        "produces coherent looking images, and often demonstrates a progressive concept\n",
        "shift between the contents of the two prompts. This is indicative of a high\n",
        "quality representation space, that closely mirrors the natural structure\n",
        "of the visual world.\n",
        "\n",
        "To best visualize this, we should do a much more fine-grained interpolation,\n",
        "using hundreds of steps. In order to keep batch size small (so that we don't\n",
        "OOM our GPU), this requires manually batching our interpolated\n",
        "encodings."
      ]
    },
    {
      "cell_type": "code",
      "execution_count": null,
      "metadata": {
        "id": "Y50OwEbc70zm"
      },
      "outputs": [],
      "source": [
        "interpolation_steps = 150\n",
        "batch_size = 3\n",
        "batches = interpolation_steps // batch_size\n",
        "\n",
        "interpolated_encodings = ops.linspace(encoding_1, encoding_2, interpolation_steps)\n",
        "batched_encodings = ops.split(interpolated_encodings, batches)\n",
        "\n",
        "images = []\n",
        "for batch in range(batches):\n",
        "    images += [\n",
        "        Image.fromarray(img)\n",
        "        for img in model.generate_image(\n",
        "            batched_encodings[batch],\n",
        "            batch_size=batch_size,\n",
        "            num_steps=25,\n",
        "            diffusion_noise=noise,\n",
        "        )\n",
        "    ]\n",
        "\n",
        "export_as_gif(\"doggo-and-fruit-150.gif\", images, rubber_band=True)"
      ]
    },
    {
      "cell_type": "markdown",
      "metadata": {
        "id": "P1fTfm2D70zm"
      },
      "source": [
        "![Dog to Fruit 150](/img/examples/generative/random_walks_with_stable_diffusion/dog2fruit150.gif)\n",
        "\n",
        "The resulting gif shows a much clearer and more coherent shift between the two\n",
        "prompts. Try out some prompts of your own and experiment!\n",
        "\n",
        "We can even extend this concept for more than one image. For example, we can\n",
        "interpolate between four prompts:"
      ]
    },
    {
      "cell_type": "code",
      "execution_count": null,
      "metadata": {
        "id": "xgvbjIxo70zm"
      },
      "outputs": [],
      "source": [
        "prompt_1 = \"A lush rainforest with vibrant birds and flowing waterfalls\"\n",
        "prompt_2 = \"A futuristic cityscape with neon lights and flying vehicles\"\n",
        "prompt_3 = \"An ancient Egyptian temple with hieroglyphics and sandstone columns\"\n",
        "prompt_4 = \"A sleek modern minimalist apartment with glass and steel\"\n",
        "\n",
        "interpolation_steps = 6\n",
        "batch_size = 3\n",
        "batches = (interpolation_steps**2) // batch_size\n",
        "\n",
        "encoding_1 = ops.squeeze(model.encode_text(prompt_1))\n",
        "encoding_2 = ops.squeeze(model.encode_text(prompt_2))\n",
        "encoding_3 = ops.squeeze(model.encode_text(prompt_3))\n",
        "encoding_4 = ops.squeeze(model.encode_text(prompt_4))\n",
        "\n",
        "interpolated_encodings = ops.linspace(\n",
        "    ops.linspace(encoding_1, encoding_2, interpolation_steps),\n",
        "    ops.linspace(encoding_3, encoding_4, interpolation_steps),\n",
        "    interpolation_steps,\n",
        ")\n",
        "interpolated_encodings = ops.reshape(\n",
        "    interpolated_encodings, (interpolation_steps**2, 77, 768)\n",
        ")\n",
        "batched_encodings = ops.split(interpolated_encodings, batches)\n",
        "\n",
        "images = []\n",
        "for batch in range(batches):\n",
        "    images.append(\n",
        "        model.generate_image(\n",
        "            batched_encodings[batch],\n",
        "            batch_size=batch_size,\n",
        "            diffusion_noise=noise,\n",
        "        )\n",
        "    )\n",
        "\n",
        "\n",
        "def plot_grid(\n",
        "    images,\n",
        "    path,\n",
        "    grid_size,\n",
        "    scale=2,\n",
        "):\n",
        "    fig, axs = plt.subplots(\n",
        "    grid_size, grid_size, figsize=(grid_size * scale, grid_size * scale)\n",
        "    )\n",
        "    fig.tight_layout()\n",
        "    plt.subplots_adjust(wspace=0, hspace=0)\n",
        "    plt.margins(x=0, y=0)\n",
        "    plt.axis(\"off\")\n",
        "    for ax in axs.flat:\n",
        "        ax.axis(\"off\")\n",
        "    images = images.astype(int)\n",
        "    for i in range(min(grid_size * grid_size, len(images))):\n",
        "        ax = axs.flat[i]\n",
        "        ax.imshow(images[i].astype(\"uint8\"))\n",
        "        ax.axis(\"off\")\n",
        "    for i in range(len(images), grid_size * grid_size):\n",
        "        axs.flat[i].axis(\"off\")\n",
        "        axs.flat[i].remove()\n",
        "    plt.savefig(\n",
        "        fname=path,\n",
        "        pad_inches=0,\n",
        "        bbox_inches=\"tight\",\n",
        "        transparent=False,\n",
        "        dpi=60,\n",
        "    )\n",
        "\n",
        "\n",
        "images = np.concatenate(images)\n",
        "plot_grid(images, \"4-way-interpolation.jpg\", interpolation_steps)"
      ]
    },
    {
      "cell_type": "markdown",
      "metadata": {
        "id": "qBH8_fII70zn"
      },
      "source": [
        "We can also interpolate while allowing diffusion noise to vary by dropping\n",
        "the `diffusion_noise` parameter:"
      ]
    },
    {
      "cell_type": "code",
      "execution_count": null,
      "metadata": {
        "id": "-qsC5hFm70zn"
      },
      "outputs": [],
      "source": [
        "images = []\n",
        "for batch in range(batches):\n",
        "    images.append(model.generate_image(batched_encodings[batch], batch_size=batch_size))\n",
        "\n",
        "images = np.concatenate(images)\n",
        "plot_grid(images, \"4-way-interpolation-varying-noise.jpg\", interpolation_steps)"
      ]
    },
    {
      "cell_type": "markdown",
      "metadata": {
        "id": "pUslQc2d70zo"
      },
      "source": [
        "Next up -- let's go for some walks!\n",
        "\n",
        "## A walk around a text prompt\n",
        "\n",
        "Our next experiment will be to go for a walk around the latent manifold\n",
        "starting from a point produced by a particular prompt."
      ]
    },
    {
      "cell_type": "code",
      "execution_count": null,
      "metadata": {
        "id": "drZIUtyl70zo"
      },
      "outputs": [],
      "source": [
        "walk_steps = 150\n",
        "batch_size = 3\n",
        "batches = walk_steps // batch_size\n",
        "step_size = 0.005\n",
        "\n",
        "encoding = ops.squeeze(\n",
        "    model.encode_text(\"An ancient Egyptian temple with hieroglyphics and sandstone columns\")\n",
        ")\n",
        "# Note that (77, 768) is the shape of the text encoding.\n",
        "delta = ops.ones_like(encoding) * step_size\n",
        "\n",
        "walked_encodings = []\n",
        "for step_index in range(walk_steps):\n",
        "    walked_encodings.append(encoding)\n",
        "    encoding += delta\n",
        "walked_encodings = ops.stack(walked_encodings)\n",
        "batched_encodings = ops.split(walked_encodings, batches)\n",
        "\n",
        "images = []\n",
        "for batch in range(batches):\n",
        "    images += [\n",
        "        Image.fromarray(img)\n",
        "        for img in model.generate_image(\n",
        "            batched_encodings[batch],\n",
        "            batch_size=batch_size,\n",
        "            num_steps=25,\n",
        "            diffusion_noise=noise,\n",
        "        )\n",
        "    ]\n",
        "\n",
        "export_as_gif(\"eiffel-tower-starry-night.gif\", images, rubber_band=True)"
      ]
    },
    {
      "cell_type": "markdown",
      "metadata": {
        "id": "5aw8V_9370zp"
      },
      "source": [
        "![Eiffel tower walk gif](https://i.imgur.com/9MMYtal.gif)\n",
        "\n",
        "Perhaps unsurprisingly, walking too far from the encoder's latent manifold\n",
        "produces images that look incoherent. Try it for yourself by setting\n",
        "your own prompt, and adjusting `step_size` to increase or decrease the magnitude\n",
        "of the walk. Note that when the magnitude of the walk gets large, the walk often\n",
        "leads into areas which produce extremely noisy images.\n",
        "\n",
        "## A circular walk through the diffusion noise space for a single prompt\n",
        "\n",
        "Our final experiment is to stick to one prompt and explore the variety of images\n",
        "that the diffusion model can produce from that prompt. We do this by controlling\n",
        "the noise that is used to seed the diffusion process.\n",
        "\n",
        "We create two noise components, `x` and `y`, and do a walk from 0 to 2π, summing\n",
        "the cosine of our `x` component and the sin of our `y` component to produce noise.\n",
        "Using this approach, the end of our walk arrives at the same noise inputs where\n",
        "we began our walk, so we get a \"loopable\" result!"
      ]
    },
    {
      "cell_type": "code",
      "execution_count": null,
      "metadata": {
        "id": "zpiNPWwt70zq"
      },
      "outputs": [],
      "source": [
        "prompt = \"A sleek modern minimalist apartment with glass and steel\"\n",
        "encoding = ops.squeeze(model.encode_text(prompt))\n",
        "walk_steps = 150\n",
        "batch_size = 3\n",
        "batches = walk_steps // batch_size\n",
        "\n",
        "walk_noise_x = keras.random.normal(noise.shape, dtype=\"float64\")\n",
        "walk_noise_y = keras.random.normal(noise.shape, dtype=\"float64\")\n",
        "\n",
        "walk_scale_x = ops.cos(ops.linspace(0, 2, walk_steps) * math.pi)\n",
        "walk_scale_y = ops.sin(ops.linspace(0, 2, walk_steps) * math.pi)\n",
        "noise_x = ops.tensordot(walk_scale_x, walk_noise_x, axes=0)\n",
        "noise_y = ops.tensordot(walk_scale_y, walk_noise_y, axes=0)\n",
        "noise = ops.add(noise_x, noise_y)\n",
        "batched_noise = ops.split(noise, batches)\n",
        "\n",
        "images = []\n",
        "for batch in range(batches):\n",
        "    images += [\n",
        "        Image.fromarray(img)\n",
        "        for img in model.generate_image(\n",
        "            encoding,\n",
        "            batch_size=batch_size,\n",
        "            num_steps=25,\n",
        "            diffusion_noise=batched_noise[batch],\n",
        "        )\n",
        "    ]\n",
        "\n",
        "export_as_gif(\"cows.gif\", images)"
      ]
    },
    {
      "cell_type": "markdown",
      "metadata": {
        "id": "Kyy9lkbL70zs"
      },
      "source": [
        "![Happy Cows](/img/examples/generative/random_walks_with_stable_diffusion/happycows.gif)\n",
        "\n",
        "Experiment with your own prompts and with different values of\n",
        "`unconditional_guidance_scale`!\n",
        "\n",
        "## Conclusion\n",
        "\n",
        "Stable Diffusion offers a lot more than just single text-to-image generation.\n",
        "Exploring the latent manifold of the text encoder and the noise space of the\n",
        "diffusion model are two fun ways to experience the power of this model, and\n",
        "KerasCV makes it easy!"
      ]
    }
  ],
  "metadata": {
    "accelerator": "GPU",
    "colab": {
      "provenance": []
    },
    "kernelspec": {
      "display_name": ".venv",
      "language": "python",
      "name": "python3"
    },
    "language_info": {
      "codemirror_mode": {
        "name": "ipython",
        "version": 3
      },
      "file_extension": ".py",
      "mimetype": "text/x-python",
      "name": "python",
      "nbconvert_exporter": "python",
      "pygments_lexer": "ipython3",
      "version": "3.10.16"
    }
  },
  "nbformat": 4,
  "nbformat_minor": 0
}
